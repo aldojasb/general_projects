{
 "cells": [
  {
   "cell_type": "markdown",
   "metadata": {},
   "source": [
    "# Developing SQLAlchemy methods\n",
    "\n",
    "### Methods to Build:\n",
    "\n",
    "- Setup: Connecting to the Database\n",
    "- Create a Table for Pump Data\n",
    "- Insert Data into the Table\n",
    "- Query Data from the Table\n",
    "- Update Data in the Table\n",
    "- Delete Data from the Table\n",
    "- Use SQLAlchemy ORM to Define Models and Perform CRUD Operations"
   ]
  },
  {
   "cell_type": "code",
   "execution_count": 6,
   "metadata": {},
   "outputs": [],
   "source": [
    "import os\n",
    "from typing import Optional\n",
    "from sqlalchemy import create_engine, Engine\n",
    "from sqlalchemy import text"
   ]
  },
  {
   "cell_type": "code",
   "execution_count": 2,
   "metadata": {},
   "outputs": [],
   "source": [
    "\n",
    "def create_sql_alchemy_engine(\n",
    "    user: Optional[str] = None,\n",
    "    password: Optional[str] = None,\n",
    "    host: Optional[str] = \"localhost\",\n",
    "    port: Optional[int] = 5432,  # PostgreSQL default port\n",
    "    dbname: Optional[str] = None,\n",
    ") -> Engine:\n",
    "    \"\"\"\n",
    "    Create a SQLAlchemy engine for connecting to a PostgreSQL database.\n",
    "\n",
    "    Parameters:\n",
    "    user (str): Database username. If not provided, will use the 'DATABASE_USER' environment variable.\n",
    "    password (str): Database password. If not provided, will use the 'DATABASE_PASSWORD' environment variable.\n",
    "    host (str): Database host. Defaults to 'localhost'.\n",
    "    port (int): Database port. Defaults to 5432.\n",
    "    dbname (str): Database name. If not provided, will use the 'DATABASE_NAME' environment variable.\n",
    "\n",
    "    Returns:\n",
    "    Engine: A SQLAlchemy Engine instance for database operations.\n",
    "    \"\"\"\n",
    "    # Retrieve from environment variables if not provided\n",
    "    user = user or os.getenv(\"DATABASE_USER\")\n",
    "    password = password or os.getenv(\"DATABASE_PASSWORD\")\n",
    "    host = host or os.getenv(\"DATABASE_HOST\", \"localhost\")\n",
    "    port = port or int(os.getenv(\"DATABASE_PORT\", 5432))  # Default to PostgreSQL port 5432\n",
    "    dbname = dbname or os.getenv(\"DATABASE_NAME\")\n",
    "\n",
    "    if not user or not password or not dbname:\n",
    "        raise ValueError(\"Database credentials and name must be provided.\")\n",
    "\n",
    "    # Construct the connection string\n",
    "    connection_string = f\"postgresql+psycopg2://{user}:{password}@{host}:{port}/{dbname}\"\n",
    "\n",
    "    # Create the SQLAlchemy engine\n",
    "    return create_engine(connection_string)"
   ]
  },
  {
   "cell_type": "code",
   "execution_count": 7,
   "metadata": {},
   "outputs": [],
   "source": [
    "# Example usage:\n",
    "engine = create_sql_alchemy_engine(\n",
    "    user='my_user',\n",
    "    password='my_secrets',\n",
    "    host='localhost',\n",
    "    port=5432,\n",
    "    dbname='data_generator_v1'\n",
    ")"
   ]
  },
  {
   "cell_type": "code",
   "execution_count": 8,
   "metadata": {},
   "outputs": [
    {
     "name": "stdout",
     "output_type": "stream",
     "text": [
      "(1,)\n"
     ]
    }
   ],
   "source": [
    "# Test the connection\n",
    "with engine.connect() as connection:\n",
    "    # Use the `text()` function for executing raw SQL\n",
    "    result = connection.execute(text(\"SELECT 1\"))\n",
    "    # text(\"SELECT 1\"): This creates a TextClause object, which is an Executable object in SQLAlchemy.\n",
    "    # It allows you to execute raw SQL commands properly.\n",
    "    print(result.fetchone())  # Should print (1,)"
   ]
  },
  {
   "cell_type": "markdown",
   "metadata": {},
   "source": [
    "### Understanding the Syntax\n",
    "\n",
    "### 1. with engine.connect() as connection:\n",
    "Purpose: This line is using a context manager (with statement) to create a new database connection from the SQLAlchemy engine.\n",
    "\n",
    "engine.connect():\n",
    "\n",
    "This method is used to create a new Connection object. The Connection object represents an active database connection. It provides a way to execute SQL statements, manage transactions, and interact with the database.\n",
    "When you call engine.connect(), SQLAlchemy establishes a connection to the database from the connection pool maintained by the engine.\n",
    "with Statement (Context Manager):\n",
    "\n",
    "The with statement ensures that resources are properly managed. When the code block inside the with statement is done executing, it automatically releases the connection back to the pool (or closes it if it's no longer needed). This prevents resource leaks and ensures efficient use of connections.\n",
    "It also handles any exceptions that might occur within the block, ensuring the connection is properly closed even if an error occurs.\n",
    "Benefit of Using with:\n",
    "\n",
    "Automatic cleanup: You don’t need to manually close the connection. It’s done automatically when the block is exited, either after successful execution or an error.\n",
    "Reduces boilerplate code: You don’t need to write explicit try/finally blocks to ensure cleanup.\n",
    "\n",
    "### 2. connection.execute()\n",
    "Purpose: This method is used to execute a SQL statement on the database.\n",
    "\n",
    "How It Works:\n",
    "\n",
    "connection.execute(...) takes an Executable object (like text()), a SQL expression, or a SQLAlchemy statement object (e.g., select(), insert(), update(), delete()), and sends it to the database for execution.\n",
    "Why Use .execute()?:\n",
    "\n",
    "It abstracts the complexity of sending SQL commands to the database, making it easier to work with different database backends (e.g., PostgreSQL, MySQL, SQLite) without needing to change your code.\n",
    ".execute() is a powerful function that supports a wide range of SQLAlchemy constructs, making it versatile for both raw SQL execution and ORM-based queries.\n",
    "\n",
    "### 3. .fetchone()\n",
    "Purpose: This method fetches a single row from the result set of the executed SQL query.\n",
    "\n",
    "How It Works:\n",
    "\n",
    "When you execute a SQL query that returns data (like SELECT), the execute() method returns a Result object.\n",
    "Calling .fetchone() on the Result object retrieves the next row of the result set as a tuple.\n",
    "If there are no more rows available, .fetchone() returns None.\n",
    "Why Use .fetchone()?:\n",
    "\n",
    "Efficient Memory Usage: If you only need one row from the result set, .fetchone() is more memory-efficient than .fetchall(), which retrieves all rows at once.\n",
    "Useful for Single Row Queries: If you know your query is designed to return only one row (e.g., SELECT 1), .fetchone() is appropriate.\n",
    "\n",
    "### Summary\n",
    "- engine.connect(): Establishes a connection to the database.\n",
    "- with ... as ...:: A context manager to handle resource cleanup automatically.\n",
    "- connection.execute(...): Executes a SQL statement or SQLAlchemy expression.\n",
    "- fetchone(): Retrieves the next row from the result set of the executed SQL statement."
   ]
  },
  {
   "cell_type": "code",
   "execution_count": 9,
   "metadata": {},
   "outputs": [],
   "source": [
    "import pandas as pd\n",
    "from sqlalchemy import create_engine, MetaData, Table, Column, Integer, String, Float, DateTime, Engine\n",
    "from sqlalchemy.types import Float as SQLAlchemyFloat, DateTime as SQLAlchemyDateTime\n",
    "\n",
    "\n",
    "def map_dtype_to_sqlalchemy(dtype: str):\n",
    "    \"\"\"\n",
    "    Map pandas DataFrame dtype to SQLAlchemy data type.\n",
    "    \"\"\"\n",
    "    if pd.api.types.is_float_dtype(dtype):\n",
    "        return SQLAlchemyFloat\n",
    "    elif pd.api.types.is_datetime64_any_dtype(dtype):\n",
    "        return SQLAlchemyDateTime\n",
    "    # Add more mappings as needed (Integer, String, etc.)\n",
    "    else:\n",
    "        raise ValueError(f\"Unsupported dtype: {dtype}\")\n",
    "\n",
    "\n",
    "def create_table_from_dataframe(df: pd.DataFrame, table_name: str, engine: Engine) -> None:\n",
    "    \"\"\"\n",
    "    Create a table in the database from a pandas DataFrame.\n",
    "\n",
    "    Parameters:\n",
    "    df (pd.DataFrame): The DataFrame containing the data structure.\n",
    "    table_name (str): The name of the table to be created in the database.\n",
    "    engine (Engine): An SQLAlchemy Engine instance connected to the database.\n",
    "    \"\"\"\n",
    "    # Define metadata\n",
    "    metadata = MetaData()\n",
    "\n",
    "    # Define the table schema dynamically based on DataFrame columns and dtypes\n",
    "    columns = [Column('id', Integer, primary_key=True)]  # Add an 'id' primary key column\n",
    "\n",
    "    # Loop through DataFrame columns and create SQLAlchemy columns\n",
    "    for column_name, dtype in df.dtypes.items():\n",
    "        sqlalchemy_type = map_dtype_to_sqlalchemy(dtype)\n",
    "        columns.append(Column(column_name, sqlalchemy_type))\n",
    "\n",
    "    # Create the table schema\n",
    "    table = Table(table_name, metadata, *columns)\n",
    "\n",
    "    # Create the table in the database\n",
    "    metadata.create_all(engine)\n",
    "    print(f\"Table '{table_name}' created from DataFrame.\")\n",
    "\n"
   ]
  },
  {
   "cell_type": "code",
   "execution_count": null,
   "metadata": {},
   "outputs": [],
   "source": [
    "# # Example usage\n",
    "# if __name__ == \"__main__\":\n",
    "#     # Sample DataFrame\n",
    "#     data = {\n",
    "#         'Temperature_C': [22.5, 23.1, 22.8],\n",
    "#         'Pressure_MPa': [0.8, 0.85, 0.82],\n",
    "#         'Vibration_mm_s': [1.2, 1.3, 1.1],\n",
    "#         'Flow_Rate_l_min': [30.5, 31.0, 30.0],\n",
    "#         'Humidity_%': [45.0, 46.0, 44.5]\n",
    "#     }\n",
    "#     df = pd.DataFrame(data)\n",
    "#     df.index = pd.date_range(start='2024-08-23', periods=len(df), freq='H')\n",
    "\n",
    "#     # Create an engine using environment variables or specified parameters\n",
    "#     engine = create_sql_alchemy_engine(\n",
    "#         user='my_user',\n",
    "#         password='my_secrets',\n",
    "#         host='localhost',\n",
    "#         port=5432,\n",
    "#         dbname='data_generator_v1'\n",
    "#     )\n",
    "\n",
    "#     # Create the table from the DataFrame\n",
    "#     create_table_from_dataframe(df, \"sensor_data\", engine)\n"
   ]
  },
  {
   "cell_type": "code",
   "execution_count": null,
   "metadata": {},
   "outputs": [],
   "source": []
  },
  {
   "cell_type": "code",
   "execution_count": null,
   "metadata": {},
   "outputs": [],
   "source": []
  },
  {
   "cell_type": "markdown",
   "metadata": {},
   "source": [
    "# theoretical stuff\n",
    "\n",
    "### The Engine in SQLAlchemy is a core object that represents the interface to the database. Here’s a breakdown of what the Engine does:\n",
    "\n",
    "- Connection Pooling: The Engine manages a pool of database connections. When you execute a query, the Engine provides a connection from this pool, making it efficient to execute multiple queries without needing to establish a new connection each time.\n",
    "\n",
    "- Database Dialect: The Engine is configured with a dialect that is specific to the type of database you're using (PostgreSQL in this case). This dialect translates SQLAlchemy commands into the appropriate SQL for your database system.\n",
    "\n",
    "- Execution Context: The Engine provides the execution context for SQL queries. It takes SQL expressions and translates them into the SQL string that is sent to the database.\n",
    "\n",
    "- Thread-Safe: The Engine is designed to be shared among multiple threads, and it's safe to use concurrently. This is especially useful for web applications where multiple requests need to interact with the database."
   ]
  },
  {
   "cell_type": "markdown",
   "metadata": {},
   "source": []
  }
 ],
 "metadata": {
  "jupytext": {
   "formats": "ipynb,py:light"
  },
  "kernelspec": {
   "display_name": "database_generator",
   "language": "python",
   "name": "database_generator"
  },
  "language_info": {
   "codemirror_mode": {
    "name": "ipython",
    "version": 3
   },
   "file_extension": ".py",
   "mimetype": "text/x-python",
   "name": "python",
   "nbconvert_exporter": "python",
   "pygments_lexer": "ipython3",
   "version": "3.10.12"
  }
 },
 "nbformat": 4,
 "nbformat_minor": 2
}

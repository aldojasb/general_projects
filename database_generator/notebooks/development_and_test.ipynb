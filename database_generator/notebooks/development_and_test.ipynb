{
 "cells": [
  {
   "cell_type": "code",
   "execution_count": 15,
   "metadata": {},
   "outputs": [
    {
     "name": "stdout",
     "output_type": "stream",
     "text": [
      "Loaded environment variables from /workspace/general_projects/database_generator/.env\n",
      "Logs will be saved to: /workspace/general_projects/database_generator/notebooks/tmp\n",
      "Logs will be saved to: /workspace/general_projects/database_generator/notebooks/tmp\n"
     ]
    }
   ],
   "source": [
    "from dotenv import load_dotenv\n",
    "import os\n",
    "\n",
    "# Load the .env file only if it exists\n",
    "dotenv_path = '/workspace/general_projects/database_generator/.env'\n",
    "if os.path.exists(dotenv_path):\n",
    "    load_dotenv(dotenv_path)\n",
    "    print(f\"Loaded environment variables from {dotenv_path}\")\n",
    "else:\n",
    "    print(f\"No .env file found at {dotenv_path}, relying on system environment variables.\")\n",
    "\n",
    "# Access the environment variable, with a fallback\n",
    "path_to_logs = os.getenv('PATH_TO_SAVE_THE_LOGS')\n",
    "print(f\"Logs will be saved to: {path_to_logs}\")\n",
    "\n",
    "# Access the environment variable, with a fallback\n",
    "path_to_logs = os.getenv('PATH_TO_SAVE_THE_OUTCOMES')\n",
    "print(f\"Logs will be saved to: {path_to_logs}\")"
   ]
  },
  {
   "cell_type": "code",
   "execution_count": 16,
   "metadata": {},
   "outputs": [
    {
     "name": "stdout",
     "output_type": "stream",
     "text": [
      "/workspace/general_projects/database_generator/notebooks/tmp\n"
     ]
    }
   ],
   "source": [
    "import os\n",
    "print(os.getenv(\"PATH_TO_SAVE_THE_LOGS\"))"
   ]
  },
  {
   "cell_type": "code",
   "execution_count": 17,
   "metadata": {},
   "outputs": [
    {
     "name": "stdout",
     "output_type": "stream",
     "text": [
      "environ({'HOSTNAME': 'c38c0673b4b7', 'HOME': '/root', 'PYTHONUNBUFFERED': '1', 'GPG_KEY': 'A035C8C19219BA821ECEA86B64E628F8D684696D', 'PYTHON_SHA256': '07a4356e912900e61a15cb0949a06c4a05012e213ecd6b4e84d0f67aabbee372', 'PATH': '/workspace/general_projects/database_generator/.venv/bin:/vscode/vscode-server/bin/linux-x64/e8653663e8840adaf45af01eab5c627a5af81807/bin/remote-cli:/root/.pyenv/shims:/root/.pyenv/bin:/root/.local/bin:/usr/local/bin:/usr/local/sbin:/usr/local/bin:/usr/sbin:/usr/bin:/sbin:/bin', 'LANG': 'C.UTF-8', 'SHELL': '/bin/bash', 'PYTHON_VERSION': '3.11.10', 'PWD': '/vscode/vscode-server/bin/linux-x64/e8653663e8840adaf45af01eab5c627a5af81807', 'PYENV_ROOT': '/root/.pyenv', 'VSCODE_CWD': '/vscode/vscode-server/bin/linux-x64/e8653663e8840adaf45af01eab5c627a5af81807', 'VSCODE_NLS_CONFIG': '{\"userLocale\":\"en\",\"osLocale\":\"en\",\"resolvedLanguage\":\"en\",\"defaultMessagesFile\":\"/vscode/vscode-server/bin/linux-x64/e8653663e8840adaf45af01eab5c627a5af81807/out/nls.messages.json\",\"locale\":\"en\",\"availableLanguages\":{}}', 'VSCODE_HANDLES_SIGPIPE': 'true', 'VSCODE_ESM_ENTRYPOINT': 'vs/workbench/api/node/extensionHostProcess', 'VSCODE_HANDLES_UNCAUGHT_ERRORS': 'true', 'REMOTE_CONTAINERS_IPC': '/tmp/vscode-remote-containers-ipc-6207a9ae-23f9-4e02-9478-5b25c4b9add8.sock', 'REMOTE_CONTAINERS_SOCKETS': '[\"/tmp/vscode-ssh-auth-6207a9ae-23f9-4e02-9478-5b25c4b9add8.sock\",\"/tmp/.X11-unix/X11\",\"/root/.gnupg/S.gpg-agent\"]', 'SHLVL': '1', '_': '/workspace/general_projects/database_generator/.venv/bin/python', 'SSH_AUTH_SOCK': '/tmp/vscode-ssh-auth-6207a9ae-23f9-4e02-9478-5b25c4b9add8.sock', 'DISPLAY': ':11', 'REMOTE_CONTAINERS_DISPLAY_SOCK': '/tmp/.X11-unix/X11', 'REMOTE_CONTAINERS': 'true', 'BROWSER': '/vscode/vscode-server/bin/linux-x64/e8653663e8840adaf45af01eab5c627a5af81807/bin/helpers/browser.sh', 'ELECTRON_RUN_AS_NODE': '1', 'VSCODE_IPC_HOOK_CLI': '/tmp/vscode-ipc-e0c0df54-5f87-44ef-a79d-f81d33c969a5.sock', 'VSCODE_L10N_BUNDLE_LOCATION': '', 'VIRTUAL_ENV': '/workspace/general_projects/database_generator/.venv', 'PYTHONIOENCODING': 'utf-8', 'VIRTUAL_ENV_PROMPT': 'database-generator-py3.11', 'PS1': '(database-generator-py3.11) ', 'PYDEVD_IPYTHON_COMPATIBLE_DEBUGGING': '1', 'PYTHON_FROZEN_MODULES': 'on', 'PYDEVD_USE_FRAME_EVAL': 'NO', 'TERM': 'xterm-color', 'CLICOLOR': '1', 'FORCE_COLOR': '1', 'CLICOLOR_FORCE': '1', 'PAGER': 'cat', 'GIT_PAGER': 'cat', 'MPLBACKEND': 'module://matplotlib_inline.backend_inline', 'PATH_TO_SAVE_THE_LOGS': '/workspace/general_projects/database_generator/notebooks/tmp', 'PATH_TO_SAVE_THE_OUTCOMES': '/workspace/general_projects/database_generator/notebooks/tmp'})\n"
     ]
    }
   ],
   "source": [
    "print(os.environ)"
   ]
  },
  {
   "cell_type": "code",
   "execution_count": 18,
   "metadata": {},
   "outputs": [],
   "source": [
    "from database_generator.data_generator import IndustrialPumpData\n",
    "from datetime import datetime, timezone\n",
    "\n",
    "start_datetime = datetime(2025, 1, 1, 0, 0, tzinfo=timezone.utc)\n",
    "end_datetime = datetime(2025, 1, 4, 0, 0, tzinfo=timezone.utc)\n",
    "frequency = '1h'\n",
    "seed_for_random = 42\n",
    "pump_data = IndustrialPumpData(\n",
    "    start_datetime=start_datetime,\n",
    "    end_datetime=end_datetime,\n",
    "    frequency=frequency,\n",
    "    seed_for_random=seed_for_random\n",
    ")\n"
   ]
  },
  {
   "cell_type": "code",
   "execution_count": 19,
   "metadata": {},
   "outputs": [
    {
     "data": {
      "text/plain": [
       "IndustrialPumpData(start_datetime=datetime.datetime(2025, 1, 1, 0, 0, tzinfo=datetime.timezone.utc), end_datetime=datetime.datetime(2025, 1, 4, 0, 0, tzinfo=datetime.timezone.utc), frequency='1h', seed_for_random=42, include_flag=True)"
      ]
     },
     "execution_count": 19,
     "metadata": {},
     "output_type": "execute_result"
    }
   ],
   "source": [
    "pump_data"
   ]
  },
  {
   "cell_type": "code",
   "execution_count": 20,
   "metadata": {},
   "outputs": [
    {
     "name": "stderr",
     "output_type": "stream",
     "text": [
      "[database_generator.data_generator] 2025-01-23 05:24:35 - INFO: A new standard dataset was created\n"
     ]
    }
   ],
   "source": [
    "standard_pump_data = pump_data.generate_standard_data()"
   ]
  },
  {
   "cell_type": "code",
   "execution_count": 21,
   "metadata": {},
   "outputs": [
    {
     "data": {
      "text/plain": [
       "Index(['temperature_c', 'pressure_mpa', 'vibration_mm_s', 'flow_rate_l_min',\n",
       "       'humidity_%', 'flag_normal_data'],\n",
       "      dtype='object')"
      ]
     },
     "execution_count": 21,
     "metadata": {},
     "output_type": "execute_result"
    }
   ],
   "source": [
    "standard_pump_data.columns"
   ]
  },
  {
   "cell_type": "code",
   "execution_count": 22,
   "metadata": {},
   "outputs": [],
   "source": [
    "from database_generator.data_generator import ExponentialAnomaly\n",
    "\n",
    "anomaly_in_pressure = ExponentialAnomaly(\n",
    "    start_datetime= datetime(2025, 1, 1, 0, 0, tzinfo=timezone.utc),\n",
    "    end_datetime= datetime(2025, 1, 1, 23, 0, tzinfo=timezone.utc),\n",
    "    variable_to_insert_anomalies='pressure_mpa',\n",
    "    standard_data=standard_pump_data\n",
    ")"
   ]
  },
  {
   "cell_type": "code",
   "execution_count": 23,
   "metadata": {},
   "outputs": [
    {
     "name": "stderr",
     "output_type": "stream",
     "text": [
      "[database_generator.data_generator] 2025-01-23 05:24:36 - DEBUG: Number of rows affected by the anomaly: 24\n",
      "[database_generator.data_generator] 2025-01-23 05:24:36 - INFO:  A new dataset with 24 anomalies was created\n"
     ]
    }
   ],
   "source": [
    "pressure_with_anomaly = anomaly_in_pressure.introduce_anomaly()"
   ]
  },
  {
   "cell_type": "code",
   "execution_count": 24,
   "metadata": {},
   "outputs": [
    {
     "data": {
      "text/html": [
       "<div>\n",
       "<style scoped>\n",
       "    .dataframe tbody tr th:only-of-type {\n",
       "        vertical-align: middle;\n",
       "    }\n",
       "\n",
       "    .dataframe tbody tr th {\n",
       "        vertical-align: top;\n",
       "    }\n",
       "\n",
       "    .dataframe thead th {\n",
       "        text-align: right;\n",
       "    }\n",
       "</style>\n",
       "<table border=\"1\" class=\"dataframe\">\n",
       "  <thead>\n",
       "    <tr style=\"text-align: right;\">\n",
       "      <th></th>\n",
       "      <th>temperature_c</th>\n",
       "      <th>pressure_mpa</th>\n",
       "      <th>vibration_mm_s</th>\n",
       "      <th>flow_rate_l_min</th>\n",
       "      <th>humidity_%</th>\n",
       "      <th>flag_normal_data</th>\n",
       "    </tr>\n",
       "    <tr>\n",
       "      <th>timestamp</th>\n",
       "      <th></th>\n",
       "      <th></th>\n",
       "      <th></th>\n",
       "      <th></th>\n",
       "      <th></th>\n",
       "      <th></th>\n",
       "    </tr>\n",
       "  </thead>\n",
       "  <tbody>\n",
       "    <tr>\n",
       "      <th>2025-01-01 19:00:00+00:00</th>\n",
       "      <td>73.587696</td>\n",
       "      <td>3.198301</td>\n",
       "      <td>2.967710</td>\n",
       "      <td>302.273701</td>\n",
       "      <td>45.493884</td>\n",
       "      <td>False</td>\n",
       "    </tr>\n",
       "    <tr>\n",
       "      <th>2025-01-01 20:00:00+00:00</th>\n",
       "      <td>76.465649</td>\n",
       "      <td>3.201030</td>\n",
       "      <td>3.048970</td>\n",
       "      <td>304.420697</td>\n",
       "      <td>44.127082</td>\n",
       "      <td>False</td>\n",
       "    </tr>\n",
       "    <tr>\n",
       "      <th>2025-01-01 21:00:00+00:00</th>\n",
       "      <td>74.774224</td>\n",
       "      <td>3.227646</td>\n",
       "      <td>2.999454</td>\n",
       "      <td>309.657441</td>\n",
       "      <td>44.067548</td>\n",
       "      <td>False</td>\n",
       "    </tr>\n",
       "    <tr>\n",
       "      <th>2025-01-01 22:00:00+00:00</th>\n",
       "      <td>75.067528</td>\n",
       "      <td>3.184202</td>\n",
       "      <td>2.954695</td>\n",
       "      <td>299.511570</td>\n",
       "      <td>46.527394</td>\n",
       "      <td>False</td>\n",
       "    </tr>\n",
       "    <tr>\n",
       "      <th>2025-01-01 23:00:00+00:00</th>\n",
       "      <td>73.575252</td>\n",
       "      <td>3.300303</td>\n",
       "      <td>3.019278</td>\n",
       "      <td>295.940784</td>\n",
       "      <td>40.105019</td>\n",
       "      <td>False</td>\n",
       "    </tr>\n",
       "  </tbody>\n",
       "</table>\n",
       "</div>"
      ],
      "text/plain": [
       "                           temperature_c  pressure_mpa  vibration_mm_s  \\\n",
       "timestamp                                                                \n",
       "2025-01-01 19:00:00+00:00      73.587696      3.198301        2.967710   \n",
       "2025-01-01 20:00:00+00:00      76.465649      3.201030        3.048970   \n",
       "2025-01-01 21:00:00+00:00      74.774224      3.227646        2.999454   \n",
       "2025-01-01 22:00:00+00:00      75.067528      3.184202        2.954695   \n",
       "2025-01-01 23:00:00+00:00      73.575252      3.300303        3.019278   \n",
       "\n",
       "                           flow_rate_l_min  humidity_%  flag_normal_data  \n",
       "timestamp                                                                 \n",
       "2025-01-01 19:00:00+00:00       302.273701   45.493884             False  \n",
       "2025-01-01 20:00:00+00:00       304.420697   44.127082             False  \n",
       "2025-01-01 21:00:00+00:00       309.657441   44.067548             False  \n",
       "2025-01-01 22:00:00+00:00       299.511570   46.527394             False  \n",
       "2025-01-01 23:00:00+00:00       295.940784   40.105019             False  "
      ]
     },
     "execution_count": 24,
     "metadata": {},
     "output_type": "execute_result"
    }
   ],
   "source": [
    "pressure_with_anomaly.tail()"
   ]
  },
  {
   "cell_type": "code",
   "execution_count": 25,
   "metadata": {},
   "outputs": [
    {
     "data": {
      "text/html": [
       "<div>\n",
       "<style scoped>\n",
       "    .dataframe tbody tr th:only-of-type {\n",
       "        vertical-align: middle;\n",
       "    }\n",
       "\n",
       "    .dataframe tbody tr th {\n",
       "        vertical-align: top;\n",
       "    }\n",
       "\n",
       "    .dataframe thead th {\n",
       "        text-align: right;\n",
       "    }\n",
       "</style>\n",
       "<table border=\"1\" class=\"dataframe\">\n",
       "  <thead>\n",
       "    <tr style=\"text-align: right;\">\n",
       "      <th></th>\n",
       "      <th>temperature_c</th>\n",
       "      <th>pressure_mpa</th>\n",
       "      <th>vibration_mm_s</th>\n",
       "      <th>flow_rate_l_min</th>\n",
       "      <th>humidity_%</th>\n",
       "      <th>flag_normal_data</th>\n",
       "    </tr>\n",
       "    <tr>\n",
       "      <th>timestamp</th>\n",
       "      <th></th>\n",
       "      <th></th>\n",
       "      <th></th>\n",
       "      <th></th>\n",
       "      <th></th>\n",
       "      <th></th>\n",
       "    </tr>\n",
       "  </thead>\n",
       "  <tbody>\n",
       "    <tr>\n",
       "      <th>2025-01-01 00:00:00+00:00</th>\n",
       "      <td>75.496714</td>\n",
       "      <td>3.073265</td>\n",
       "      <td>3.005294</td>\n",
       "      <td>293.082596</td>\n",
       "      <td>37.053176</td>\n",
       "      <td>False</td>\n",
       "    </tr>\n",
       "    <tr>\n",
       "      <th>2025-01-01 01:00:00+00:00</th>\n",
       "      <td>74.861736</td>\n",
       "      <td>2.880885</td>\n",
       "      <td>3.024148</td>\n",
       "      <td>294.693763</td>\n",
       "      <td>44.248010</td>\n",
       "      <td>False</td>\n",
       "    </tr>\n",
       "    <tr>\n",
       "      <th>2025-01-01 02:00:00+00:00</th>\n",
       "      <td>75.647689</td>\n",
       "      <td>3.055707</td>\n",
       "      <td>2.935258</td>\n",
       "      <td>302.263525</td>\n",
       "      <td>41.785077</td>\n",
       "      <td>False</td>\n",
       "    </tr>\n",
       "    <tr>\n",
       "      <th>2025-01-01 03:00:00+00:00</th>\n",
       "      <td>76.523030</td>\n",
       "      <td>3.020922</td>\n",
       "      <td>3.036813</td>\n",
       "      <td>301.593703</td>\n",
       "      <td>36.535452</td>\n",
       "      <td>False</td>\n",
       "    </tr>\n",
       "    <tr>\n",
       "      <th>2025-01-01 04:00:00+00:00</th>\n",
       "      <td>74.765847</td>\n",
       "      <td>3.030014</td>\n",
       "      <td>2.919924</td>\n",
       "      <td>301.378553</td>\n",
       "      <td>44.497999</td>\n",
       "      <td>False</td>\n",
       "    </tr>\n",
       "  </tbody>\n",
       "</table>\n",
       "</div>"
      ],
      "text/plain": [
       "                           temperature_c  pressure_mpa  vibration_mm_s  \\\n",
       "timestamp                                                                \n",
       "2025-01-01 00:00:00+00:00      75.496714      3.073265        3.005294   \n",
       "2025-01-01 01:00:00+00:00      74.861736      2.880885        3.024148   \n",
       "2025-01-01 02:00:00+00:00      75.647689      3.055707        2.935258   \n",
       "2025-01-01 03:00:00+00:00      76.523030      3.020922        3.036813   \n",
       "2025-01-01 04:00:00+00:00      74.765847      3.030014        2.919924   \n",
       "\n",
       "                           flow_rate_l_min  humidity_%  flag_normal_data  \n",
       "timestamp                                                                 \n",
       "2025-01-01 00:00:00+00:00       293.082596   37.053176             False  \n",
       "2025-01-01 01:00:00+00:00       294.693763   44.248010             False  \n",
       "2025-01-01 02:00:00+00:00       302.263525   41.785077             False  \n",
       "2025-01-01 03:00:00+00:00       301.593703   36.535452             False  \n",
       "2025-01-01 04:00:00+00:00       301.378553   44.497999             False  "
      ]
     },
     "execution_count": 25,
     "metadata": {},
     "output_type": "execute_result"
    }
   ],
   "source": [
    "pressure_with_anomaly.head()"
   ]
  },
  {
   "cell_type": "code",
   "execution_count": 26,
   "metadata": {},
   "outputs": [
    {
     "name": "stderr",
     "output_type": "stream",
     "text": [
      "[database_generator.data_generator] 2025-01-23 05:24:37 - DEBUG: Number of rows in the specified time range: 24\n",
      "[database_generator.data_generator] 2025-01-23 05:24:37 - INFO: Introduced 7 spike anomalies in 'pressure_mpa'.\n"
     ]
    }
   ],
   "source": [
    "# Create an IntermittentSpikeAnomaly instance\n",
    "from database_generator.data_generator import IntermittentSpikeAnomaly\n",
    "\n",
    "spike_anomaly = IntermittentSpikeAnomaly(\n",
    "    start_datetime=datetime(2025, 1, 2, 0, 0, tzinfo=timezone.utc),\n",
    "    end_datetime=datetime(2025, 1, 2, 23, 59, tzinfo=timezone.utc),\n",
    "    variable_to_insert_anomalies=\"pressure_mpa\",\n",
    "    standard_data=standard_pump_data,\n",
    "    spike_fraction=0.30,\n",
    "    spike_multiplier=100.0,\n",
    "    seed_for_random=42\n",
    ")\n",
    "\n",
    "# Introduce anomalies\n",
    "spike_data = spike_anomaly.introduce_anomaly()"
   ]
  },
  {
   "cell_type": "code",
   "execution_count": 27,
   "metadata": {},
   "outputs": [
    {
     "data": {
      "text/html": [
       "<div>\n",
       "<style scoped>\n",
       "    .dataframe tbody tr th:only-of-type {\n",
       "        vertical-align: middle;\n",
       "    }\n",
       "\n",
       "    .dataframe tbody tr th {\n",
       "        vertical-align: top;\n",
       "    }\n",
       "\n",
       "    .dataframe thead th {\n",
       "        text-align: right;\n",
       "    }\n",
       "</style>\n",
       "<table border=\"1\" class=\"dataframe\">\n",
       "  <thead>\n",
       "    <tr style=\"text-align: right;\">\n",
       "      <th></th>\n",
       "      <th>temperature_c</th>\n",
       "      <th>pressure_mpa</th>\n",
       "      <th>vibration_mm_s</th>\n",
       "      <th>flow_rate_l_min</th>\n",
       "      <th>humidity_%</th>\n",
       "      <th>flag_normal_data</th>\n",
       "    </tr>\n",
       "    <tr>\n",
       "      <th>timestamp</th>\n",
       "      <th></th>\n",
       "      <th></th>\n",
       "      <th></th>\n",
       "      <th></th>\n",
       "      <th></th>\n",
       "      <th></th>\n",
       "    </tr>\n",
       "  </thead>\n",
       "  <tbody>\n",
       "    <tr>\n",
       "      <th>2025-01-02 08:00:00+00:00</th>\n",
       "      <td>74.986503</td>\n",
       "      <td>7.564503</td>\n",
       "      <td>3.048376</td>\n",
       "      <td>298.473341</td>\n",
       "      <td>34.969913</td>\n",
       "      <td>False</td>\n",
       "    </tr>\n",
       "    <tr>\n",
       "      <th>2025-01-02 16:00:00+00:00</th>\n",
       "      <td>75.738467</td>\n",
       "      <td>7.564503</td>\n",
       "      <td>3.102224</td>\n",
       "      <td>301.208414</td>\n",
       "      <td>40.379023</td>\n",
       "      <td>False</td>\n",
       "    </tr>\n",
       "    <tr>\n",
       "      <th>2025-01-02 00:00:00+00:00</th>\n",
       "      <td>74.455617</td>\n",
       "      <td>7.564503</td>\n",
       "      <td>3.029197</td>\n",
       "      <td>295.367462</td>\n",
       "      <td>43.409765</td>\n",
       "      <td>False</td>\n",
       "    </tr>\n",
       "    <tr>\n",
       "      <th>2025-01-02 18:00:00+00:00</th>\n",
       "      <td>74.884352</td>\n",
       "      <td>7.564503</td>\n",
       "      <td>2.983007</td>\n",
       "      <td>295.603693</td>\n",
       "      <td>44.875599</td>\n",
       "      <td>False</td>\n",
       "    </tr>\n",
       "    <tr>\n",
       "      <th>2025-01-02 11:00:00+00:00</th>\n",
       "      <td>73.779156</td>\n",
       "      <td>7.564503</td>\n",
       "      <td>2.913684</td>\n",
       "      <td>295.463353</td>\n",
       "      <td>43.958313</td>\n",
       "      <td>False</td>\n",
       "    </tr>\n",
       "    <tr>\n",
       "      <th>2025-01-02 09:00:00+00:00</th>\n",
       "      <td>73.942289</td>\n",
       "      <td>7.564503</td>\n",
       "      <td>3.221294</td>\n",
       "      <td>312.551982</td>\n",
       "      <td>33.929057</td>\n",
       "      <td>False</td>\n",
       "    </tr>\n",
       "    <tr>\n",
       "      <th>2025-01-02 13:00:00+00:00</th>\n",
       "      <td>73.040330</td>\n",
       "      <td>7.564503</td>\n",
       "      <td>3.040563</td>\n",
       "      <td>303.175781</td>\n",
       "      <td>43.141728</td>\n",
       "      <td>False</td>\n",
       "    </tr>\n",
       "  </tbody>\n",
       "</table>\n",
       "</div>"
      ],
      "text/plain": [
       "                           temperature_c  pressure_mpa  vibration_mm_s  \\\n",
       "timestamp                                                                \n",
       "2025-01-02 08:00:00+00:00      74.986503      7.564503        3.048376   \n",
       "2025-01-02 16:00:00+00:00      75.738467      7.564503        3.102224   \n",
       "2025-01-02 00:00:00+00:00      74.455617      7.564503        3.029197   \n",
       "2025-01-02 18:00:00+00:00      74.884352      7.564503        2.983007   \n",
       "2025-01-02 11:00:00+00:00      73.779156      7.564503        2.913684   \n",
       "2025-01-02 09:00:00+00:00      73.942289      7.564503        3.221294   \n",
       "2025-01-02 13:00:00+00:00      73.040330      7.564503        3.040563   \n",
       "\n",
       "                           flow_rate_l_min  humidity_%  flag_normal_data  \n",
       "timestamp                                                                 \n",
       "2025-01-02 08:00:00+00:00       298.473341   34.969913             False  \n",
       "2025-01-02 16:00:00+00:00       301.208414   40.379023             False  \n",
       "2025-01-02 00:00:00+00:00       295.367462   43.409765             False  \n",
       "2025-01-02 18:00:00+00:00       295.603693   44.875599             False  \n",
       "2025-01-02 11:00:00+00:00       295.463353   43.958313             False  \n",
       "2025-01-02 09:00:00+00:00       312.551982   33.929057             False  \n",
       "2025-01-02 13:00:00+00:00       303.175781   43.141728             False  "
      ]
     },
     "execution_count": 27,
     "metadata": {},
     "output_type": "execute_result"
    }
   ],
   "source": [
    "spike_data"
   ]
  },
  {
   "cell_type": "code",
   "execution_count": 28,
   "metadata": {},
   "outputs": [],
   "source": [
    "from database_generator.data_generator import SimpleDatabaseFactory\n",
    "list_of_dfs = [standard_pump_data,pressure_with_anomaly, spike_data]\n",
    "factory = SimpleDatabaseFactory(list_of_df=list_of_dfs, flag_column='flag_normal_data')\n",
    "final_database = factory.create_database()"
   ]
  },
  {
   "cell_type": "code",
   "execution_count": 29,
   "metadata": {},
   "outputs": [
    {
     "data": {
      "text/html": [
       "<div>\n",
       "<style scoped>\n",
       "    .dataframe tbody tr th:only-of-type {\n",
       "        vertical-align: middle;\n",
       "    }\n",
       "\n",
       "    .dataframe tbody tr th {\n",
       "        vertical-align: top;\n",
       "    }\n",
       "\n",
       "    .dataframe thead th {\n",
       "        text-align: right;\n",
       "    }\n",
       "</style>\n",
       "<table border=\"1\" class=\"dataframe\">\n",
       "  <thead>\n",
       "    <tr style=\"text-align: right;\">\n",
       "      <th></th>\n",
       "      <th>temperature_c</th>\n",
       "      <th>pressure_mpa</th>\n",
       "      <th>vibration_mm_s</th>\n",
       "      <th>flow_rate_l_min</th>\n",
       "      <th>humidity_%</th>\n",
       "      <th>flag_normal_data</th>\n",
       "    </tr>\n",
       "    <tr>\n",
       "      <th>timestamp</th>\n",
       "      <th></th>\n",
       "      <th></th>\n",
       "      <th></th>\n",
       "      <th></th>\n",
       "      <th></th>\n",
       "      <th></th>\n",
       "    </tr>\n",
       "  </thead>\n",
       "  <tbody>\n",
       "    <tr>\n",
       "      <th>2025-01-02 13:00:00+00:00</th>\n",
       "      <td>73.040330</td>\n",
       "      <td>7.564503</td>\n",
       "      <td>3.040563</td>\n",
       "      <td>303.175781</td>\n",
       "      <td>43.141728</td>\n",
       "      <td>False</td>\n",
       "    </tr>\n",
       "    <tr>\n",
       "      <th>2025-01-01 00:00:00+00:00</th>\n",
       "      <td>75.496714</td>\n",
       "      <td>3.073265</td>\n",
       "      <td>3.005294</td>\n",
       "      <td>293.082596</td>\n",
       "      <td>37.053176</td>\n",
       "      <td>False</td>\n",
       "    </tr>\n",
       "    <tr>\n",
       "      <th>2025-01-01 01:00:00+00:00</th>\n",
       "      <td>74.861736</td>\n",
       "      <td>2.880885</td>\n",
       "      <td>3.024148</td>\n",
       "      <td>294.693763</td>\n",
       "      <td>44.248010</td>\n",
       "      <td>False</td>\n",
       "    </tr>\n",
       "    <tr>\n",
       "      <th>2025-01-01 02:00:00+00:00</th>\n",
       "      <td>75.647689</td>\n",
       "      <td>3.055707</td>\n",
       "      <td>2.935258</td>\n",
       "      <td>302.263525</td>\n",
       "      <td>41.785077</td>\n",
       "      <td>False</td>\n",
       "    </tr>\n",
       "    <tr>\n",
       "      <th>2025-01-01 03:00:00+00:00</th>\n",
       "      <td>76.523030</td>\n",
       "      <td>3.020922</td>\n",
       "      <td>3.036813</td>\n",
       "      <td>301.593703</td>\n",
       "      <td>36.535452</td>\n",
       "      <td>False</td>\n",
       "    </tr>\n",
       "  </tbody>\n",
       "</table>\n",
       "</div>"
      ],
      "text/plain": [
       "                           temperature_c  pressure_mpa  vibration_mm_s  \\\n",
       "timestamp                                                                \n",
       "2025-01-02 13:00:00+00:00      73.040330      7.564503        3.040563   \n",
       "2025-01-01 00:00:00+00:00      75.496714      3.073265        3.005294   \n",
       "2025-01-01 01:00:00+00:00      74.861736      2.880885        3.024148   \n",
       "2025-01-01 02:00:00+00:00      75.647689      3.055707        2.935258   \n",
       "2025-01-01 03:00:00+00:00      76.523030      3.020922        3.036813   \n",
       "\n",
       "                           flow_rate_l_min  humidity_%  flag_normal_data  \n",
       "timestamp                                                                 \n",
       "2025-01-02 13:00:00+00:00       303.175781   43.141728             False  \n",
       "2025-01-01 00:00:00+00:00       293.082596   37.053176             False  \n",
       "2025-01-01 01:00:00+00:00       294.693763   44.248010             False  \n",
       "2025-01-01 02:00:00+00:00       302.263525   41.785077             False  \n",
       "2025-01-01 03:00:00+00:00       301.593703   36.535452             False  "
      ]
     },
     "execution_count": 29,
     "metadata": {},
     "output_type": "execute_result"
    }
   ],
   "source": [
    "final_database.head()"
   ]
  },
  {
   "cell_type": "code",
   "execution_count": 30,
   "metadata": {},
   "outputs": [
    {
     "data": {
      "text/html": [
       "<div>\n",
       "<style scoped>\n",
       "    .dataframe tbody tr th:only-of-type {\n",
       "        vertical-align: middle;\n",
       "    }\n",
       "\n",
       "    .dataframe tbody tr th {\n",
       "        vertical-align: top;\n",
       "    }\n",
       "\n",
       "    .dataframe thead th {\n",
       "        text-align: right;\n",
       "    }\n",
       "</style>\n",
       "<table border=\"1\" class=\"dataframe\">\n",
       "  <thead>\n",
       "    <tr style=\"text-align: right;\">\n",
       "      <th></th>\n",
       "      <th>temperature_c</th>\n",
       "      <th>pressure_mpa</th>\n",
       "      <th>vibration_mm_s</th>\n",
       "      <th>flow_rate_l_min</th>\n",
       "      <th>humidity_%</th>\n",
       "      <th>flag_normal_data</th>\n",
       "    </tr>\n",
       "    <tr>\n",
       "      <th>timestamp</th>\n",
       "      <th></th>\n",
       "      <th></th>\n",
       "      <th></th>\n",
       "      <th></th>\n",
       "      <th></th>\n",
       "      <th></th>\n",
       "    </tr>\n",
       "  </thead>\n",
       "  <tbody>\n",
       "    <tr>\n",
       "      <th>2025-01-02 06:00:00+00:00</th>\n",
       "      <td>74.398293</td>\n",
       "      <td>2.965903</td>\n",
       "      <td>3.005170</td>\n",
       "      <td>300.405977</td>\n",
       "      <td>35.908897</td>\n",
       "      <td>True</td>\n",
       "    </tr>\n",
       "    <tr>\n",
       "      <th>2025-01-02 05:00:00+00:00</th>\n",
       "      <td>74.708306</td>\n",
       "      <td>2.985781</td>\n",
       "      <td>3.102419</td>\n",
       "      <td>304.278104</td>\n",
       "      <td>42.975785</td>\n",
       "      <td>True</td>\n",
       "    </tr>\n",
       "    <tr>\n",
       "      <th>2025-01-02 04:00:00+00:00</th>\n",
       "      <td>74.399361</td>\n",
       "      <td>2.984974</td>\n",
       "      <td>2.967451</td>\n",
       "      <td>301.533713</td>\n",
       "      <td>40.484980</td>\n",
       "      <td>True</td>\n",
       "    </tr>\n",
       "    <tr>\n",
       "      <th>2025-01-02 03:00:00+00:00</th>\n",
       "      <td>75.375698</td>\n",
       "      <td>2.925474</td>\n",
       "      <td>2.950833</td>\n",
       "      <td>302.451015</td>\n",
       "      <td>39.349285</td>\n",
       "      <td>True</td>\n",
       "    </tr>\n",
       "    <tr>\n",
       "      <th>2025-01-03 03:00:00+00:00</th>\n",
       "      <td>74.614918</td>\n",
       "      <td>3.033194</td>\n",
       "      <td>3.090810</td>\n",
       "      <td>300.436689</td>\n",
       "      <td>37.465284</td>\n",
       "      <td>True</td>\n",
       "    </tr>\n",
       "  </tbody>\n",
       "</table>\n",
       "</div>"
      ],
      "text/plain": [
       "                           temperature_c  pressure_mpa  vibration_mm_s  \\\n",
       "timestamp                                                                \n",
       "2025-01-02 06:00:00+00:00      74.398293      2.965903        3.005170   \n",
       "2025-01-02 05:00:00+00:00      74.708306      2.985781        3.102419   \n",
       "2025-01-02 04:00:00+00:00      74.399361      2.984974        2.967451   \n",
       "2025-01-02 03:00:00+00:00      75.375698      2.925474        2.950833   \n",
       "2025-01-03 03:00:00+00:00      74.614918      3.033194        3.090810   \n",
       "\n",
       "                           flow_rate_l_min  humidity_%  flag_normal_data  \n",
       "timestamp                                                                 \n",
       "2025-01-02 06:00:00+00:00       300.405977   35.908897              True  \n",
       "2025-01-02 05:00:00+00:00       304.278104   42.975785              True  \n",
       "2025-01-02 04:00:00+00:00       301.533713   40.484980              True  \n",
       "2025-01-02 03:00:00+00:00       302.451015   39.349285              True  \n",
       "2025-01-03 03:00:00+00:00       300.436689   37.465284              True  "
      ]
     },
     "execution_count": 30,
     "metadata": {},
     "output_type": "execute_result"
    }
   ],
   "source": [
    "final_database.tail()"
   ]
  }
 ],
 "metadata": {
  "kernelspec": {
   "display_name": ".venv",
   "language": "python",
   "name": "python3"
  },
  "language_info": {
   "codemirror_mode": {
    "name": "ipython",
    "version": 3
   },
   "file_extension": ".py",
   "mimetype": "text/x-python",
   "name": "python",
   "nbconvert_exporter": "python",
   "pygments_lexer": "ipython3",
   "version": "3.11.10"
  }
 },
 "nbformat": 4,
 "nbformat_minor": 2
}

{
 "cells": [
  {
   "cell_type": "code",
   "execution_count": null,
   "metadata": {},
   "outputs": [
    {
     "name": "stdout",
     "output_type": "stream",
     "text": [
      "Loaded environment variables from /workspace/general_projects/database_generator/.env\n",
      "Logs will be saved to: /workspace/general_projects/database_generator/notebooks/tmp\n"
     ]
    }
   ],
   "source": [
    "from dotenv import load_dotenv\n",
    "import os\n",
    "\n",
    "# Load the .env file only if it exists\n",
    "dotenv_path = '/workspace/general_projects/database_generator/.env'\n",
    "if os.path.exists(dotenv_path):\n",
    "    load_dotenv(dotenv_path)\n",
    "    print(f\"Loaded environment variables from {dotenv_path}\")\n",
    "else:\n",
    "    print(f\"No .env file found at {dotenv_path}, relying on system environment variables.\")\n",
    "\n",
    "# Access the environment variable, with a fallback\n",
    "path_to_logs = os.getenv('PATH_TO_SAVE_THE_LOGS')\n",
    "print(f\"Logs will be saved to: {path_to_logs}\")\n",
    "\n",
    "# Access the environment variable, with a fallback\n",
    "path_to_logs = os.getenv('PATH_TO_SAVE_THE_OUTCOMES')\n",
    "print(f\"Logs will be saved to: {path_to_logs}\")"
   ]
  },
  {
   "cell_type": "code",
   "execution_count": 4,
   "metadata": {},
   "outputs": [
    {
     "data": {
      "text/plain": [
       "'/workspace/general_projects/database_generator/notebooks/tmp'"
      ]
     },
     "execution_count": 4,
     "metadata": {},
     "output_type": "execute_result"
    }
   ],
   "source": [
    "path_to_logs"
   ]
  },
  {
   "cell_type": "code",
   "execution_count": 6,
   "metadata": {},
   "outputs": [
    {
     "name": "stdout",
     "output_type": "stream",
     "text": [
      "/workspace/general_projects/database_generator/notebooks/tmp\n"
     ]
    }
   ],
   "source": [
    "import os\n",
    "print(os.getenv(\"PATH_TO_SAVE_THE_LOGS\"))"
   ]
  },
  {
   "cell_type": "code",
   "execution_count": 7,
   "metadata": {},
   "outputs": [
    {
     "name": "stdout",
     "output_type": "stream",
     "text": [
      "environ({'HOSTNAME': 'c38c0673b4b7', 'HOME': '/root', 'PYTHONUNBUFFERED': '1', 'GPG_KEY': 'A035C8C19219BA821ECEA86B64E628F8D684696D', 'PYTHON_SHA256': '07a4356e912900e61a15cb0949a06c4a05012e213ecd6b4e84d0f67aabbee372', 'PATH': '/workspace/general_projects/database_generator/.venv/bin:/vscode/vscode-server/bin/linux-x64/e8653663e8840adaf45af01eab5c627a5af81807/bin/remote-cli:/root/.pyenv/shims:/root/.pyenv/bin:/root/.local/bin:/usr/local/bin:/usr/local/sbin:/usr/local/bin:/usr/sbin:/usr/bin:/sbin:/bin', 'LANG': 'C.UTF-8', 'SHELL': '/bin/bash', 'PYTHON_VERSION': '3.11.10', 'PWD': '/vscode/vscode-server/bin/linux-x64/e8653663e8840adaf45af01eab5c627a5af81807', 'PYENV_ROOT': '/root/.pyenv', 'VSCODE_CWD': '/vscode/vscode-server/bin/linux-x64/e8653663e8840adaf45af01eab5c627a5af81807', 'VSCODE_NLS_CONFIG': '{\"userLocale\":\"en\",\"osLocale\":\"en\",\"resolvedLanguage\":\"en\",\"defaultMessagesFile\":\"/vscode/vscode-server/bin/linux-x64/e8653663e8840adaf45af01eab5c627a5af81807/out/nls.messages.json\",\"locale\":\"en\",\"availableLanguages\":{}}', 'VSCODE_HANDLES_SIGPIPE': 'true', 'VSCODE_ESM_ENTRYPOINT': 'vs/workbench/api/node/extensionHostProcess', 'VSCODE_HANDLES_UNCAUGHT_ERRORS': 'true', 'REMOTE_CONTAINERS_IPC': '/tmp/vscode-remote-containers-ipc-c66af33a-689d-40a2-80c5-487f1deb1a1d.sock', 'REMOTE_CONTAINERS_SOCKETS': '[\"/tmp/vscode-ssh-auth-c66af33a-689d-40a2-80c5-487f1deb1a1d.sock\",\"/tmp/.X11-unix/X10\",\"/root/.gnupg/S.gpg-agent\"]', 'SHLVL': '1', '_': '/workspace/general_projects/database_generator/.venv/bin/python', 'SSH_AUTH_SOCK': '/tmp/vscode-ssh-auth-c66af33a-689d-40a2-80c5-487f1deb1a1d.sock', 'DISPLAY': ':10', 'REMOTE_CONTAINERS_DISPLAY_SOCK': '/tmp/.X11-unix/X10', 'REMOTE_CONTAINERS': 'true', 'BROWSER': '/vscode/vscode-server/bin/linux-x64/e8653663e8840adaf45af01eab5c627a5af81807/bin/helpers/browser.sh', 'ELECTRON_RUN_AS_NODE': '1', 'VSCODE_IPC_HOOK_CLI': '/tmp/vscode-ipc-4bfa657d-b814-414d-81b0-4cc839d37f5d.sock', 'VIRTUAL_ENV': '/workspace/general_projects/database_generator/.venv', 'PYTHONIOENCODING': 'utf-8', 'VIRTUAL_ENV_PROMPT': 'database-generator-py3.11', 'PS1': '(database-generator-py3.11) ', 'PYDEVD_IPYTHON_COMPATIBLE_DEBUGGING': '1', 'PYTHON_FROZEN_MODULES': 'on', 'PYDEVD_USE_FRAME_EVAL': 'NO', 'TERM': 'xterm-color', 'CLICOLOR': '1', 'FORCE_COLOR': '1', 'CLICOLOR_FORCE': '1', 'PAGER': 'cat', 'GIT_PAGER': 'cat', 'MPLBACKEND': 'module://matplotlib_inline.backend_inline', 'PATH_TO_SAVE_THE_LOGS': '/workspace/general_projects/database_generator/notebooks/tmp'})\n"
     ]
    }
   ],
   "source": [
    "print(os.environ)"
   ]
  },
  {
   "cell_type": "code",
   "execution_count": 9,
   "metadata": {},
   "outputs": [
    {
     "ename": "OSError",
     "evalue": "Environment variable 'PATH_TO_SAVE_THE_OUTCOMES' is not defined. Please set it in your environment or .env file.",
     "output_type": "error",
     "traceback": [
      "\u001b[0;31m---------------------------------------------------------------------------\u001b[0m",
      "\u001b[0;31mOSError\u001b[0m                                   Traceback (most recent call last)",
      "Cell \u001b[0;32mIn[9], line 1\u001b[0m\n\u001b[0;32m----> 1\u001b[0m \u001b[38;5;28;01mfrom\u001b[39;00m \u001b[38;5;21;01mdatabase_generator\u001b[39;00m\u001b[38;5;21;01m.\u001b[39;00m\u001b[38;5;21;01mdata_generator\u001b[39;00m \u001b[38;5;28;01mimport\u001b[39;00m IndustrialPumpData\n\u001b[1;32m      3\u001b[0m start_datetime \u001b[38;5;241m=\u001b[39m datetime(\u001b[38;5;241m2023\u001b[39m, \u001b[38;5;241m1\u001b[39m, \u001b[38;5;241m1\u001b[39m, \u001b[38;5;241m0\u001b[39m, \u001b[38;5;241m0\u001b[39m, tzinfo\u001b[38;5;241m=\u001b[39mtimezone\u001b[38;5;241m.\u001b[39mutc)\n\u001b[1;32m      4\u001b[0m end_datetime \u001b[38;5;241m=\u001b[39m datetime(\u001b[38;5;241m2023\u001b[39m, \u001b[38;5;241m1\u001b[39m, \u001b[38;5;241m2\u001b[39m, \u001b[38;5;241m0\u001b[39m, \u001b[38;5;241m0\u001b[39m, tzinfo\u001b[38;5;241m=\u001b[39mtimezone\u001b[38;5;241m.\u001b[39mutc)\n",
      "File \u001b[0;32m/workspace/general_projects/database_generator/src/database_generator/data_generator.py:10\u001b[0m\n\u001b[1;32m      8\u001b[0m \u001b[38;5;66;03m# Set up logging\u001b[39;00m\n\u001b[1;32m      9\u001b[0m \u001b[38;5;28;01mfrom\u001b[39;00m \u001b[38;5;21;01mdatabase_generator\u001b[39;00m\u001b[38;5;21;01m.\u001b[39;00m\u001b[38;5;21;01mlogging_configuration\u001b[39;00m \u001b[38;5;28;01mimport\u001b[39;00m setup_logging_for_this_script\n\u001b[0;32m---> 10\u001b[0m \u001b[43msetup_logging_for_this_script\u001b[49m\u001b[43m(\u001b[49m\u001b[43m)\u001b[49m\n\u001b[1;32m     11\u001b[0m logger \u001b[38;5;241m=\u001b[39m logging\u001b[38;5;241m.\u001b[39mgetLogger(\u001b[38;5;18m__name__\u001b[39m)\n\u001b[1;32m     13\u001b[0m \u001b[38;5;28;01mclass\u001b[39;00m \u001b[38;5;21;01mStandardDataGenerator\u001b[39;00m(ABC):\n",
      "File \u001b[0;32m/workspace/general_projects/database_generator/src/database_generator/logging_configuration.py:50\u001b[0m, in \u001b[0;36msetup_logging_for_this_script\u001b[0;34m(log_level)\u001b[0m\n\u001b[1;32m     46\u001b[0m     \u001b[38;5;66;03m# Check if the environment variable is defined# Get the logger for this module\u001b[39;00m\n\u001b[1;32m     47\u001b[0m \u001b[38;5;66;03m# logger = logging.getLogger(__name__)\u001b[39;00m\n\u001b[1;32m     49\u001b[0m     \u001b[38;5;28;01mif\u001b[39;00m \u001b[38;5;129;01mnot\u001b[39;00m path_to_save_the_outcomes:\n\u001b[0;32m---> 50\u001b[0m         \u001b[38;5;28;01mraise\u001b[39;00m \u001b[38;5;167;01mEnvironmentError\u001b[39;00m(\u001b[38;5;124m\"\u001b[39m\u001b[38;5;124mEnvironment variable \u001b[39m\u001b[38;5;124m'\u001b[39m\u001b[38;5;124mPATH_TO_SAVE_THE_OUTCOMES\u001b[39m\u001b[38;5;124m'\u001b[39m\u001b[38;5;124m is not defined. \u001b[39m\u001b[38;5;124m\"\u001b[39m\n\u001b[1;32m     51\u001b[0m                                \u001b[38;5;124m\"\u001b[39m\u001b[38;5;124mPlease set it in your environment or .env file.\u001b[39m\u001b[38;5;124m\"\u001b[39m)\n\u001b[1;32m     53\u001b[0m     \u001b[38;5;66;03m# Validate that the path exists and is writable\u001b[39;00m\n\u001b[1;32m     54\u001b[0m     \u001b[38;5;28;01mif\u001b[39;00m \u001b[38;5;129;01mnot\u001b[39;00m os\u001b[38;5;241m.\u001b[39mpath\u001b[38;5;241m.\u001b[39mexists(path_to_save_the_outcomes):\n",
      "\u001b[0;31mOSError\u001b[0m: Environment variable 'PATH_TO_SAVE_THE_OUTCOMES' is not defined. Please set it in your environment or .env file."
     ]
    }
   ],
   "source": [
    "from database_generator.data_generator import IndustrialPumpData\n",
    "\n",
    "start_datetime = datetime(2023, 1, 1, 0, 0, tzinfo=timezone.utc)\n",
    "end_datetime = datetime(2023, 1, 2, 0, 0, tzinfo=timezone.utc)\n",
    "frequency = '1h'\n",
    "seed_for_random = 42\n",
    "pump_data = IndustrialPumpData(\n",
    "    start_datetime=start_datetime,\n",
    "    end_datetime=end_datetime,\n",
    "    frequency=frequency,\n",
    "    seed_for_random=seed_for_random\n",
    ")"
   ]
  },
  {
   "cell_type": "code",
   "execution_count": null,
   "metadata": {},
   "outputs": [],
   "source": []
  }
 ],
 "metadata": {
  "kernelspec": {
   "display_name": ".venv",
   "language": "python",
   "name": "python3"
  },
  "language_info": {
   "codemirror_mode": {
    "name": "ipython",
    "version": 3
   },
   "file_extension": ".py",
   "mimetype": "text/x-python",
   "name": "python",
   "nbconvert_exporter": "python",
   "pygments_lexer": "ipython3",
   "version": "3.11.10"
  }
 },
 "nbformat": 4,
 "nbformat_minor": 2
}

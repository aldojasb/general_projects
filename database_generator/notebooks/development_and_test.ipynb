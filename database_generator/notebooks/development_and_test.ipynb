{
 "cells": [
  {
   "cell_type": "code",
   "execution_count": 6,
   "metadata": {},
   "outputs": [],
   "source": [
    "from abc import ABC, abstractmethod\n",
    "import pandas as pd\n",
    "import numpy as np\n",
    "from datetime import datetime, timedelta, timezone\n",
    "from dataclasses import dataclass, field\n",
    "import logging\n"
   ]
  },
  {
   "cell_type": "code",
   "execution_count": 7,
   "metadata": {},
   "outputs": [
    {
     "data": {
      "text/plain": [
       "datetime.datetime(2023, 1, 2, 0, 0, tzinfo=datetime.timezone.utc)"
      ]
     },
     "execution_count": 7,
     "metadata": {},
     "output_type": "execute_result"
    }
   ],
   "source": [
    "datetime(2023, 1, 2, 0, 0, tzinfo=timezone.utc)"
   ]
  },
  {
   "cell_type": "code",
   "execution_count": 3,
   "metadata": {},
   "outputs": [
    {
     "name": "stdout",
     "output_type": "stream",
     "text": [
      "Loaded environment variables from /workspace/general_projects/database_generator/.env\n",
      "Logs will be saved to: /workspace/general_projects/database_generator/notebooks/tmp\n"
     ]
    }
   ],
   "source": [
    "from dotenv import load_dotenv\n",
    "import os\n",
    "\n",
    "# Load the .env file only if it exists\n",
    "dotenv_path = '/workspace/general_projects/database_generator/.env'\n",
    "if os.path.exists(dotenv_path):\n",
    "    load_dotenv(dotenv_path)\n",
    "    print(f\"Loaded environment variables from {dotenv_path}\")\n",
    "else:\n",
    "    print(f\"No .env file found at {dotenv_path}, relying on system environment variables.\")\n",
    "\n",
    "# Access the environment variable, with a fallback\n",
    "path_to_logs = os.getenv('PATH_TO_SAVE_THE_LOGS')\n",
    "print(f\"Logs will be saved to: {path_to_logs}\")"
   ]
  },
  {
   "cell_type": "code",
   "execution_count": 4,
   "metadata": {},
   "outputs": [
    {
     "data": {
      "text/plain": [
       "'/workspace/general_projects/database_generator/notebooks/tmp'"
      ]
     },
     "execution_count": 4,
     "metadata": {},
     "output_type": "execute_result"
    }
   ],
   "source": [
    "path_to_logs"
   ]
  },
  {
   "cell_type": "code",
   "execution_count": 9,
   "metadata": {},
   "outputs": [],
   "source": [
    "from dbtoolkit.logging_configuration import setup_logging_for_this_script\n",
    "setup_logging_for_this_script()\n",
    "# Get the logger for this module\n",
    "logger = logging.getLogger(__name__)"
   ]
  },
  {
   "cell_type": "code",
   "execution_count": 2,
   "metadata": {},
   "outputs": [
    {
     "name": "stdout",
     "output_type": "stream",
     "text": [
      "None\n"
     ]
    }
   ],
   "source": [
    "import os\n",
    "print(os.getenv(\"PATH_TO_SAVE_THE_LOGS\"))"
   ]
  },
  {
   "cell_type": "code",
   "execution_count": 3,
   "metadata": {},
   "outputs": [
    {
     "name": "stdout",
     "output_type": "stream",
     "text": [
      "environ({'HOSTNAME': 'c38c0673b4b7', 'HOME': '/root', 'PYTHONUNBUFFERED': '1', 'GPG_KEY': 'A035C8C19219BA821ECEA86B64E628F8D684696D', 'PYTHON_SHA256': '07a4356e912900e61a15cb0949a06c4a05012e213ecd6b4e84d0f67aabbee372', 'PATH': '/workspace/general_projects/DBToolkit/.venv/bin:/vscode/vscode-server/bin/linux-x64/e8653663e8840adaf45af01eab5c627a5af81807/bin/remote-cli:/root/.pyenv/shims:/root/.pyenv/bin:/root/.local/bin:/usr/local/bin:/usr/local/sbin:/usr/local/bin:/usr/sbin:/usr/bin:/sbin:/bin', 'LANG': 'C.UTF-8', 'SHELL': '/bin/bash', 'PYTHON_VERSION': '3.11.10', 'PWD': '/vscode/vscode-server/bin/linux-x64/e8653663e8840adaf45af01eab5c627a5af81807', 'PYENV_ROOT': '/root/.pyenv', 'VSCODE_CWD': '/vscode/vscode-server/bin/linux-x64/e8653663e8840adaf45af01eab5c627a5af81807', 'VSCODE_NLS_CONFIG': '{\"userLocale\":\"en\",\"osLocale\":\"en\",\"resolvedLanguage\":\"en\",\"defaultMessagesFile\":\"/vscode/vscode-server/bin/linux-x64/e8653663e8840adaf45af01eab5c627a5af81807/out/nls.messages.json\",\"locale\":\"en\",\"availableLanguages\":{}}', 'VSCODE_HANDLES_SIGPIPE': 'true', 'VSCODE_ESM_ENTRYPOINT': 'vs/workbench/api/node/extensionHostProcess', 'VSCODE_HANDLES_UNCAUGHT_ERRORS': 'true', 'REMOTE_CONTAINERS_IPC': '/tmp/vscode-remote-containers-ipc-445fbd5d-b2d3-4f06-bce0-b8eb4fb79236.sock', 'REMOTE_CONTAINERS_SOCKETS': '[\"/tmp/vscode-ssh-auth-445fbd5d-b2d3-4f06-bce0-b8eb4fb79236.sock\",\"/tmp/.X11-unix/X4\",\"/root/.gnupg/S.gpg-agent\"]', 'SHLVL': '1', '_': '/workspace/general_projects/DBToolkit/.venv/bin/python', 'SSH_AUTH_SOCK': '/tmp/vscode-ssh-auth-445fbd5d-b2d3-4f06-bce0-b8eb4fb79236.sock', 'DISPLAY': ':4', 'REMOTE_CONTAINERS_DISPLAY_SOCK': '/tmp/.X11-unix/X4', 'REMOTE_CONTAINERS': 'true', 'BROWSER': '/vscode/vscode-server/bin/linux-x64/e8653663e8840adaf45af01eab5c627a5af81807/bin/helpers/browser.sh', 'ELECTRON_RUN_AS_NODE': '1', 'VSCODE_IPC_HOOK_CLI': '/tmp/vscode-ipc-66143859-092c-45e9-9bc3-831e2c05e650.sock', 'VSCODE_L10N_BUNDLE_LOCATION': '', 'VIRTUAL_ENV': '/workspace/general_projects/DBToolkit/.venv', 'PYTHONIOENCODING': 'utf-8', 'VIRTUAL_ENV_PROMPT': 'dbtoolkit-py3.11', 'PS1': '(dbtoolkit-py3.11) ', 'PYDEVD_IPYTHON_COMPATIBLE_DEBUGGING': '1', 'PYTHON_FROZEN_MODULES': 'on', 'PYDEVD_USE_FRAME_EVAL': 'NO', 'TERM': 'xterm-color', 'CLICOLOR': '1', 'FORCE_COLOR': '1', 'CLICOLOR_FORCE': '1', 'PAGER': 'cat', 'GIT_PAGER': 'cat', 'MPLBACKEND': 'module://matplotlib_inline.backend_inline'})\n"
     ]
    }
   ],
   "source": [
    "print(os.environ)"
   ]
  },
  {
   "cell_type": "code",
   "execution_count": null,
   "metadata": {},
   "outputs": [],
   "source": [
    "def validate_and_convert_datetime(dt: datetime) -> datetime:\n",
    "    \"\"\"\n",
    "    Validates if the input is a datetime object with a UTC timezone. If not, converts it to the correct format.\n",
    "\n",
    "    Parameters:\n",
    "    -----------\n",
    "    dt : datetime\n",
    "        The input datetime object to validate and convert.\n",
    "\n",
    "    Returns:\n",
    "    --------\n",
    "    datetime\n",
    "        A timezone-aware datetime object in UTC.\n",
    "    \"\"\"\n",
    "    # Check if the input is already a pandas Timestamp or Python datetime in UTC\n",
    "    if isinstance(dt, pd.Timestamp):\n",
    "        if dt.tz is None:\n",
    "            logger.warning(f\"Datetime '{dt}' is not timezone-aware. Converting to UTC.\")\n",
    "            dt = dt.tz_localize(\"UTC\")\n",
    "        elif dt.tzname() != \"UTC\":\n",
    "            # logger.warning(f\"Datetime '{dt}' is not in UTC. Converting to UTC.\")\n",
    "            dt = dt.tz_convert(\"UTC\")\n",
    "        else:\n",
    "            # Correct format and timezone; no need to convert\n",
    "            logger.info(f\"Datetime '{dt}' is already in the correct format.\")\n",
    "            return dt\n",
    "    elif isinstance(dt, datetime):\n",
    "        if dt.tzinfo is None or dt.tzinfo.utcoffset(dt) is None:\n",
    "            logger.warning(f\"Datetime '{dt}' is not timezone-aware. Converting to UTC.\")\n",
    "            dt = dt.replace(tzinfo=datetime.timezone.utc)\n",
    "        elif dt.tzinfo != datetime.timezone.utc:\n",
    "            logger.warning(f\"Datetime '{dt}' is not in UTC. Converting to UTC.\")\n",
    "            dt = dt.astimezone(datetime.timezone.utc)\n",
    "        else:\n",
    "            # Correct format and timezone; no need to convert\n",
    "            logger.info(f\"Datetime '{dt}' is already in the correct format.\")\n",
    "            return dt\n",
    "    else:\n",
    "        logger.warning(\n",
    "            f\"Input '{dt}' is not a recognized datetime format. Converting to UTC.\"\n",
    "        )\n",
    "        dt = pd.to_datetime(dt, utc=True)\n",
    "\n",
    "    return dt\n",
    "\n",
    "\n",
    "def validate_datetime_order(start_datetime: datetime, end_datetime: datetime):\n",
    "    \"\"\"\n",
    "    Validates that the end_datetime is after the start_datetime.\n",
    "\n",
    "    Parameters:\n",
    "    -----------\n",
    "    start_datetime : datetime\n",
    "        The start datetime of the time series.\n",
    "    end_datetime : datetime\n",
    "        The end datetime of the time series.\n",
    "\n",
    "    Raises:\n",
    "    -------\n",
    "    ValueError\n",
    "        If end_datetime is not after start_datetime.\n",
    "    \"\"\"\n",
    "    if end_datetime <= start_datetime:\n",
    "        logger.error(\n",
    "            f\"end_datetime ({end_datetime}) must be after start_datetime ({start_datetime}).\"\n",
    "        )\n",
    "        raise ValueError(\n",
    "            f\"end_datetime ({end_datetime}) must be after start_datetime ({start_datetime}).\"\n",
    "        )\n",
    "\n",
    "\n",
    "def validate_time_range(start_datetime: pd.Timestamp, end_datetime: pd.Timestamp, frequency: str):\n",
    "    \"\"\"\n",
    "    Validates that the time range between start_datetime and end_datetime\n",
    "    is greater than or equal to the provided frequency.\n",
    "\n",
    "    Parameters:\n",
    "    -----------\n",
    "    start_datetime : pd.Timestamp\n",
    "        The start of the time range.\n",
    "    end_datetime : pd.Timestamp\n",
    "        The end of the time range.\n",
    "    frequency : str\n",
    "        The frequency at which data should be generated (e.g., '30s', '1min').\n",
    "\n",
    "    Raises:\n",
    "    -------\n",
    "    ValueError\n",
    "        If the time range is smaller than the provided frequency.\n",
    "    \"\"\"\n",
    "    # Calculate the time difference between start_datetime and end_datetime\n",
    "    time_difference = end_datetime - start_datetime\n",
    "    frequency_timedelta = pd.to_timedelta(frequency)\n",
    "\n",
    "    # Check if the time difference is smaller than the frequency\n",
    "    if time_difference < frequency_timedelta:\n",
    "        error_message = (\n",
    "            f\"Time range is too short: {time_difference} is smaller than the frequency {frequency_timedelta}. \"\n",
    "            \"Start datetime must be before end datetime by at least the frequency.\"\n",
    "        )\n",
    "        # Log the error\n",
    "        logger.error(error_message)\n",
    "\n",
    "        # Raise a ValueError with the same message\n",
    "        raise ValueError(error_message)\n"
   ]
  },
  {
   "cell_type": "code",
   "execution_count": null,
   "metadata": {},
   "outputs": [],
   "source": [
    "\n",
    "\n",
    "class RawDataGenerator(ABC):\n",
    "    \"\"\"\n",
    "    Docstring 1\n",
    "    \"\"\"\n",
    "    \n",
    "    @abstractmethod\n",
    "    def generate_stable_data(self) -> pd.DataFrame:\n",
    "        \"\"\"\n",
    "        Docstring 2\n",
    "        \"\"\"\n",
    "        pass\n",
    "\n",
    "class AnomalyInjection(ABC):\n",
    "    \"\"\"\n",
    "    Docstring\n",
    "    \"\"\"\n",
    "\n",
    "    @abstractmethod\n",
    "    def insert_anomalies(self) -> pd.DataFrame:\n",
    "        \"\"\"\n",
    "        Docsting\n",
    "        \"\"\"\n",
    "        pass\n",
    "\n",
    "\n",
    "@dataclass\n",
    "class IndustrialPumpRawData(RawDataGenerator):\n",
    "    start_datetime: datetime\n",
    "    end_datetime: datetime\n",
    "    frequency:str = '30s'\n",
    "    seed_for_random: int = None\n",
    "\n",
    "    def generate_stable_data(self) -> pd.DataFrame:\n",
    "        \"\"\"\n",
    "        Generate a stable toy dataset for an industrial pump system with correlated variables.\n",
    "\n",
    "        Parameters:\n",
    "        -----------\n",
    "        start_datetime : datetime\n",
    "            The start datetime of the time series.\n",
    "        end_datetime : datetime\n",
    "            The end datetime of the time series.\n",
    "        seed_for_random : int, optional\n",
    "            Seed for random number generation for reproducibility. Defaults to None.\n",
    "\n",
    "        Returns:\n",
    "        --------\n",
    "        pd.DataFrame\n",
    "            A DataFrame containing the generated time series data with a 'Timestamp' index.\n",
    "        \"\"\"\n",
    "        # Validate and convert datetime inputs\n",
    "        self.start_datetime = validate_and_convert_datetime(self.start_datetime)\n",
    "        self.end_datetime = validate_and_convert_datetime(self.end_datetime)\n",
    "\n",
    "        # Validate that end_datetime is after start_datetime\n",
    "        validate_datetime_order(self.start_datetime, self.end_datetime)\n",
    "\n",
    "        # Check that the time range is larger than or equal to the frequency\n",
    "        validate_time_range(self.start_datetime, self.end_datetime, self.frequency)\n",
    "\n",
    "        # Set the seed for reproducibility\n",
    "        if self.seed_for_random is not None:\n",
    "            np.random.seed(self.seed_for_random)\n",
    "\n",
    "        # Generate a date range\n",
    "        date_range = pd.date_range(\n",
    "            start=self.start_datetime, end=self.end_datetime, freq=self.frequency, tz=\"UTC\"\n",
    "        )\n",
    "        number_of_rows = len(date_range)\n",
    "\n",
    "        # Generate base data with correlations\n",
    "        temperature = np.random.normal(loc=75, scale=1, size=number_of_rows)\n",
    "        pressure = (\n",
    "            3\n",
    "            - 0.01 * (temperature - 75)\n",
    "            + np.random.normal(loc=0, scale=0.05, size=number_of_rows)\n",
    "        )\n",
    "        flow_rate = (\n",
    "            300\n",
    "            + 10 * (3 - pressure)\n",
    "            + np.random.normal(loc=0, scale=5, size=number_of_rows)\n",
    "        )\n",
    "        vibration = 0.1 * np.sqrt(flow_rate * pressure) + np.random.normal(\n",
    "            loc=0, scale=0.05, size=number_of_rows\n",
    "        )\n",
    "        humidity = np.random.normal(loc=40, scale=5, size=number_of_rows)\n",
    "\n",
    "        # Create a DataFrame\n",
    "        df = pd.DataFrame(\n",
    "            {\n",
    "                \"Timestamp\": date_range,\n",
    "                \"Temperature_C\": temperature,\n",
    "                \"Pressure_MPa\": pressure,\n",
    "                \"Vibration_mm_s\": vibration,\n",
    "                \"Flow_Rate_l_min\": flow_rate,\n",
    "                \"Humidity_%\": humidity,\n",
    "            }\n",
    "        )\n",
    "\n",
    "        # Set Timestamp as the index\n",
    "        df.set_index(\"Timestamp\", inplace=True)\n",
    "\n",
    "        return df\n",
    "\n",
    "\n",
    "\n",
    "\n"
   ]
  },
  {
   "cell_type": "code",
   "execution_count": null,
   "metadata": {},
   "outputs": [],
   "source": []
  },
  {
   "cell_type": "code",
   "execution_count": null,
   "metadata": {},
   "outputs": [],
   "source": []
  }
 ],
 "metadata": {
  "kernelspec": {
   "display_name": ".venv",
   "language": "python",
   "name": "python3"
  },
  "language_info": {
   "codemirror_mode": {
    "name": "ipython",
    "version": 3
   },
   "file_extension": ".py",
   "mimetype": "text/x-python",
   "name": "python",
   "nbconvert_exporter": "python",
   "pygments_lexer": "ipython3",
   "version": "3.11.10"
  }
 },
 "nbformat": 4,
 "nbformat_minor": 2
}

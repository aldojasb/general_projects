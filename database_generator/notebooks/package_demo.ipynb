{
 "cells": [
  {
   "cell_type": "markdown",
   "metadata": {},
   "source": [
    "# DEMO version"
   ]
  },
  {
   "cell_type": "markdown",
   "metadata": {},
   "source": [
    "### Set up the environmental variables\n",
    "It's recommended to create a \".env\" file to setup the logger configuration\n",
    "\n",
    "You must set the 'PATH_TO_SAVE_THE_OUTCOMES' as an env variable\n",
    "Example:\n",
    "###### PATH_TO_SAVE_THE_OUTCOMES=/workspace/general_projects/database_generator/notebooks/tmp\n"
   ]
  },
  {
   "cell_type": "code",
   "execution_count": null,
   "metadata": {},
   "outputs": [],
   "source": [
    "from dotenv import load_dotenv\n",
    "import os\n",
    "\n",
    "# Load the .env file only if it exists\n",
    "dotenv_path = '/workspace/general_projects/database_generator/.env'\n",
    "if os.path.exists(dotenv_path):\n",
    "    load_dotenv(dotenv_path)\n",
    "    print(f\"Loaded environment variables from {dotenv_path}\")\n",
    "else:\n",
    "    print(f\"No .env file found at {dotenv_path}, relying on system environment variables.\")\n",
    "\n",
    "# # Access the environment variable, with a fallback\n",
    "# path_to_logs = os.getenv('PATH_TO_SAVE_THE_LOGS')\n",
    "# print(f\"Logs will be saved to: {path_to_logs}\")\n",
    "\n",
    "# Access the environment variable, with a fallback\n",
    "path_to_logs = os.getenv('PATH_TO_SAVE_THE_OUTCOMES')\n",
    "print(f\"Logs will be saved to: {path_to_logs}\")"
   ]
  },
  {
   "cell_type": "code",
   "execution_count": null,
   "metadata": {},
   "outputs": [],
   "source": [
    "print(os.environ)"
   ]
  },
  {
   "cell_type": "markdown",
   "metadata": {},
   "source": [
    "1. Generating Standard Data\n",
    "Create a dataset representing industrial pump operations."
   ]
  },
  {
   "cell_type": "code",
   "execution_count": null,
   "metadata": {},
   "outputs": [],
   "source": [
    "from database_generator.data_generator import IndustrialPumpData\n",
    "from datetime import datetime, timezone\n",
    "\n",
    "start_datetime = datetime(2025, 1, 1, 0, 0, tzinfo=timezone.utc)\n",
    "end_datetime = datetime(2025, 1, 4, 0, 0, tzinfo=timezone.utc)\n",
    "frequency = '1h'\n",
    "seed_for_random = 42\n",
    "data_generator = IndustrialPumpData(\n",
    "    start_datetime=start_datetime,\n",
    "    end_datetime=end_datetime,\n",
    "    frequency=frequency,\n",
    "    seed_for_random=seed_for_random\n",
    ")\n"
   ]
  },
  {
   "cell_type": "code",
   "execution_count": null,
   "metadata": {},
   "outputs": [],
   "source": [
    "standard_pump_data = data_generator.generate_standard_data()"
   ]
  },
  {
   "cell_type": "code",
   "execution_count": null,
   "metadata": {},
   "outputs": [],
   "source": [
    "standard_pump_data.columns"
   ]
  },
  {
   "cell_type": "markdown",
   "metadata": {},
   "source": [
    "2. Introducing Anomalies\n",
    "Apply an exponential anomaly to simulate increasing deviations."
   ]
  },
  {
   "cell_type": "code",
   "execution_count": null,
   "metadata": {},
   "outputs": [],
   "source": [
    "from database_generator.data_generator import ExponentialAnomaly\n",
    "\n",
    "exponential_anomaly_in_pressure = ExponentialAnomaly(\n",
    "    start_datetime= datetime(2025, 1, 1, 0, 0, tzinfo=timezone.utc),\n",
    "    end_datetime= datetime(2025, 1, 1, 23, 0, tzinfo=timezone.utc),\n",
    "    variable_to_insert_anomalies='pressure_mpa',\n",
    "    standard_data=standard_pump_data\n",
    ")"
   ]
  },
  {
   "cell_type": "code",
   "execution_count": null,
   "metadata": {},
   "outputs": [],
   "source": [
    "anomalous_data = exponential_anomaly_in_pressure.introduce_anomaly()"
   ]
  },
  {
   "cell_type": "code",
   "execution_count": null,
   "metadata": {},
   "outputs": [],
   "source": [
    "anomalous_data.tail()"
   ]
  },
  {
   "cell_type": "code",
   "execution_count": null,
   "metadata": {},
   "outputs": [],
   "source": [
    "anomalous_data.head()"
   ]
  },
  {
   "cell_type": "markdown",
   "metadata": {},
   "source": [
    "Apply an intermittent spike anomaly to simulate sudden outliers."
   ]
  },
  {
   "cell_type": "code",
   "execution_count": null,
   "metadata": {},
   "outputs": [],
   "source": [
    "# Create an IntermittentSpikeAnomaly instance\n",
    "from database_generator.data_generator import IntermittentSpikeAnomaly\n",
    "\n",
    "spike_anomaly = IntermittentSpikeAnomaly(\n",
    "    start_datetime=datetime(2025, 1, 2, 0, 0, tzinfo=timezone.utc),\n",
    "    end_datetime=datetime(2025, 1, 2, 23, 59, tzinfo=timezone.utc),\n",
    "    variable_to_insert_anomalies=\"pressure_mpa\",\n",
    "    standard_data=standard_pump_data,\n",
    "    spike_fraction=0.30,\n",
    "    spike_multiplier=100.0,\n",
    "    seed_for_random=42\n",
    ")\n",
    "\n",
    "# Introduce anomalies\n",
    "spike_data = spike_anomaly.introduce_anomaly()"
   ]
  },
  {
   "cell_type": "code",
   "execution_count": null,
   "metadata": {},
   "outputs": [],
   "source": [
    "spike_data"
   ]
  },
  {
   "cell_type": "markdown",
   "metadata": {},
   "source": [
    "3. Creating a Combined Database\n",
    "Merge multiple datasets while prioritizing anomalous records."
   ]
  },
  {
   "cell_type": "code",
   "execution_count": null,
   "metadata": {},
   "outputs": [],
   "source": [
    "from database_generator.data_generator import SimpleDatabaseFactory\n",
    "list_of_dfs = [standard_pump_data,\n",
    "               anomalous_data,\n",
    "               spike_data]\n",
    "\n",
    "factory = SimpleDatabaseFactory(list_of_df=list_of_dfs, flag_column='flag_normal_data')\n",
    "final_database = factory.create_database()"
   ]
  },
  {
   "cell_type": "code",
   "execution_count": null,
   "metadata": {},
   "outputs": [],
   "source": [
    "final_database.head()"
   ]
  },
  {
   "cell_type": "code",
   "execution_count": null,
   "metadata": {},
   "outputs": [],
   "source": [
    "final_database.tail()"
   ]
  }
 ],
 "metadata": {
  "kernelspec": {
   "display_name": ".venv",
   "language": "python",
   "name": "python3"
  },
  "language_info": {
   "codemirror_mode": {
    "name": "ipython",
    "version": 3
   },
   "file_extension": ".py",
   "mimetype": "text/x-python",
   "name": "python",
   "nbconvert_exporter": "python",
   "pygments_lexer": "ipython3",
   "version": "3.11.10"
  }
 },
 "nbformat": 4,
 "nbformat_minor": 2
}

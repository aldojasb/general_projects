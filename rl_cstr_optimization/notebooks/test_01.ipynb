{
 "cells": [
  {
   "cell_type": "code",
   "execution_count": 1,
   "metadata": {},
   "outputs": [],
   "source": [
    "\"\"\"\n",
    "CSTR (Continuously Stirred Tank Reactor) Environment Demo\n",
    "========================================================\n",
    "\n",
    "This demo showcases the CSTR environment from pc-gym, which simulates\n",
    "a continuously stirred tank reactor for chemical process control.\n",
    "\n",
    "The CSTR is a well-established model that's thoroughly tested and stable,\n",
    "making it perfect for learning and experimentation.\n",
    "\n",
    "State Variables (3 total):\n",
    "- Ca: Concentration of reactant A (mol/L)\n",
    "- T: Temperature (K)\n",
    "- Cb: Concentration of reactant B (mol/L)\n",
    "\n",
    "Action Variables (1 total):\n",
    "- Tc: Coolant temperature (K)\n",
    "\n",
    "Observations (3 total):\n",
    "- Ca, T, Cb: Concentration A, Temperature, Concentration B\n",
    "\"\"\"\n",
    "\n",
    "import numpy as np\n",
    "from pcgym import make_env\n",
    "from rl.cstr.optimization.visualization import (\n",
    "    plot_state_variables,\n",
    "    plot_control_actions,\n",
    "    plot_reward_evolution)\n",
    "from rl.cstr.optimization.load_config_files import load_and_create_env_params\n",
    "from rl.cstr.optimization.base_state_builder import denormalize_observations\n",
    "from rl.cstr.optimization.base_action_adapter import denormalize_actions"
   ]
  },
  {
   "cell_type": "code",
   "execution_count": 2,
   "metadata": {},
   "outputs": [
    {
     "name": "stdout",
     "output_type": "stream",
     "text": [
      "Configuration loaded: {'N': 30, 'tsim': 26, 'SP': {'Ca': [0.85, 0.85, 0.85, 0.9, 0.9, 0.9, 0.87, 0.87, 0.87, 0.87, 0.87, 0.87, 0.87, 0.87, 0.87, 0.87, 0.87, 0.87, 0.87, 0.87, 0.87, 0.87, 0.87, 0.87, 0.87, 0.87, 0.87, 0.87, 0.87, 0.87]}, 'o_space': {'low': array([  0.7, 300. ,   0.8]), 'high': array([  1. , 350. ,   0.9])}, 'a_space': {'low': array([295]), 'high': array([302])}, 'x0': array([  0.8, 330. ,   0.8]), 'r_scale': {'ca': 1000}, 'model': 'cstr', 'normalise_a': True, 'normalise_o': True, 'noise': True, 'integration_method': 'casadi', 'noise_percentage': 0.001}\n",
      "Action space: {'low': array([295]), 'high': array([302])}\n",
      "Observation space: {'low': array([  0.7, 300. ,   0.8]), 'high': array([  1. , 350. ,   0.9])}\n",
      "Number of steps: 30\n"
     ]
    }
   ],
   "source": [
    "# ============================================================================\n",
    "# ENVIRONMENT SETUP\n",
    "# ============================================================================\n",
    "\n",
    "# Load configuration from YAML file\n",
    "config_path = \"/workspace/general_projects/rl_cstr_optimization/config/environments/cstr_environment.yaml\"\n",
    "env_params = load_and_create_env_params(config_path)\n",
    "\n",
    "# Extract action space bounds from env_params for use in the notebook\n",
    "a_space = env_params['a_space']\n",
    "o_space = env_params['o_space']\n",
    "nsteps = env_params['N']\n",
    "\n",
    "print(f\"Configuration loaded: {env_params}\")\n",
    "print(f\"Action space: {a_space}\")\n",
    "print(f\"Observation space: {o_space}\")\n",
    "print(f\"Number of steps: {nsteps}\")\n"
   ]
  },
  {
   "cell_type": "code",
   "execution_count": 3,
   "metadata": {},
   "outputs": [
    {
     "name": "stdout",
     "output_type": "stream",
     "text": [
      "============================================================\n",
      "CSTR REACTOR DEMO - 30 STEP SIMULATION\n",
      "============================================================\n",
      "Initial observation (normalized): [-0.33333328  0.2        -1.00000024]\n",
      "Initial observation (real values):\n",
      "  Ca: 0.8000000079472857\n",
      "  T:  330.0\n",
      "  Cb: 0.7999999880790669\n",
      "Observation shape: (3,)\n",
      "Action space: Box(-1.0, 1.0, (1,), float32)\n",
      "Observation space: Box(-1.0, 1.0, (3,), float32)\n",
      "============================================================\n"
     ]
    },
    {
     "name": "stderr",
     "output_type": "stream",
     "text": [
      "/workspace/general_projects/rl_cstr_optimization/.venv/lib/python3.11/site-packages/gymnasium/spaces/box.py:236: UserWarning: \u001b[33mWARN: Box low's precision lowered by casting to float32, current low.dtype=float64\u001b[0m\n",
      "  gym.logger.warn(\n",
      "/workspace/general_projects/rl_cstr_optimization/.venv/lib/python3.11/site-packages/gymnasium/spaces/box.py:306: UserWarning: \u001b[33mWARN: Box high's precision lowered by casting to float32, current high.dtype=float64\u001b[0m\n",
      "  gym.logger.warn(\n"
     ]
    }
   ],
   "source": [
    "# Create the CSTR environment with proper parameters\n",
    "# The environment simulates a continuously stirred tank reactor for chemical process control\n",
    "env = make_env(env_params)\n",
    "\n",
    "# Reset the environment to get initial state\n",
    "# This returns the initial observation (concentrations at reactor outlet)\n",
    "initial_observation, initial_info = env.reset()\n",
    "\n",
    "print(\"=\" * 60)\n",
    "print(f\"CSTR REACTOR DEMO - {nsteps} STEP SIMULATION\")\n",
    "print(\"=\" * 60)\n",
    "print(f\"Initial observation (normalized): {initial_observation}\")\n",
    "\n",
    "# Denormalize the initial observation for better understanding\n",
    "initial_real = denormalize_observations(initial_observation, o_space)\n",
    "\n",
    "print(f\"Initial observation (real values):\")\n",
    "print(f\"  Ca: {initial_real[0]}\")\n",
    "print(f\"  T:  {initial_real[1]}\")\n",
    "print(f\"  Cb: {initial_real[2]}\")\n",
    "\n",
    "print(f\"Observation shape: {initial_observation.shape}\")\n",
    "print(f\"Action space: {env.action_space}\")\n",
    "print(f\"Observation space: {env.observation_space}\")\n",
    "print(\"=\" * 60)"
   ]
  },
  {
   "cell_type": "code",
   "execution_count": 4,
   "metadata": {},
   "outputs": [],
   "source": [
    "# ============================================================================\n",
    "# DATA STORAGE FOR ANALYSIS\n",
    "# ============================================================================\n",
    "\n",
    "# Lists to store data for visualization and analysis\n",
    "observations = [initial_observation]  # Store all observations (concentrations at outlet)\n",
    "actions = []       # Store all actions taken\n",
    "rewards = []       # Store all rewards received\n",
    "states = []        # Store full state information if available\n",
    "denorm_actions = [] # Store denormalized actions\n",
    "denorm_observations = [] # Store denormalized observations"
   ]
  },
  {
   "cell_type": "code",
   "execution_count": 5,
   "metadata": {},
   "outputs": [
    {
     "name": "stdout",
     "output_type": "stream",
     "text": [
      "\n",
      "Starting 30-step simulation...\n",
      "----------------------------------------\n",
      "\n",
      "Step 1/30:\n"
     ]
    },
    {
     "name": "stdout",
     "output_type": "stream",
     "text": [
      " Normalized action: [0.5]\n",
      " Denormalized action: 298.5\n",
      "  New observation (normalized): [-1.36966252e-01  1.00465938e-01  1.19209332e-07]\n",
      "  New observation (real values):\n",
      "    Ca: 0.8294550621953901\n",
      "    T:  327.511648443062\n",
      "    Cb: 0.8500000059604667\n",
      "  Reward: -0.0004\n",
      "  Terminated: False\n",
      "  Truncated: False\n",
      "\n",
      "Step 2/30:\n",
      " Normalized action: [0.5]\n",
      " Denormalized action: 298.5\n",
      "  New observation (normalized): [ 2.95471447e-02 -3.93303184e-03  1.19209332e-07]\n",
      "  New observation (real values):\n",
      "    Ca: 0.8544320717077754\n",
      "    T:  324.9016742039562\n",
      "    Cb: 0.8500000059604667\n",
      "  Reward: -0.0000\n",
      "  Terminated: False\n",
      "  Truncated: False\n",
      "\n",
      "Step 3/30:\n",
      " Normalized action: [0.5]\n",
      " Denormalized action: 298.5\n",
      "  New observation (normalized): [1.11482469e-01 2.19663986e-03 1.19209332e-07]\n",
      "  New observation (real values):\n",
      "    Ca: 0.8667223704016711\n",
      "    T:  325.05491599638987\n",
      "    Cb: 0.8500000059604667\n",
      "  Reward: -0.0011\n",
      "  Terminated: False\n",
      "  Truncated: False\n",
      "\n",
      "Step 4/30:\n",
      " Normalized action: [0.5]\n",
      " Denormalized action: 298.5\n",
      "  New observation (normalized): [0.13989852 0.01090052 1.00000048]\n",
      "  New observation (real values):\n",
      "    Ca: 0.8709847785435519\n",
      "    T:  325.27251308660965\n",
      "    Cb: 0.9000000238418665\n",
      "  Reward: -0.0008\n",
      "  Terminated: False\n",
      "  Truncated: False\n",
      "\n",
      "Step 5/30:\n",
      " Normalized action: [0.5]\n",
      " Denormalized action: 298.5\n",
      "  New observation (normalized): [ 0.14984292 -0.00937166  1.00000048]\n",
      "  New observation (real values):\n",
      "    Ca: 0.8724764384588064\n",
      "    T:  324.7657084065068\n",
      "    Cb: 0.9000000238418665\n",
      "  Reward: -0.0007\n",
      "  Terminated: False\n",
      "  Truncated: False\n",
      "\n",
      "Step 6/30:\n",
      " Normalized action: [0.5]\n",
      " Denormalized action: 298.5\n",
      "  New observation (normalized): [ 1.52225457e-01 -3.27415003e-04  1.00000048e+00]\n",
      "  New observation (real values):\n",
      "    Ca: 0.8728338186049295\n",
      "    T:  324.9918146249338\n",
      "    Cb: 0.9000000238418665\n",
      "  Reward: -0.0000\n",
      "  Terminated: False\n",
      "  Truncated: False\n",
      "\n",
      "Step 7/30:\n",
      " Normalized action: [0.5]\n",
      " Denormalized action: 298.5\n",
      "  New observation (normalized): [0.16018612 0.01777818 0.40000026]\n",
      "  New observation (real values):\n",
      "    Ca: 0.8740279179682373\n",
      "    T:  325.44445457488314\n",
      "    Cb: 0.8700000131130265\n",
      "  Reward: -0.0000\n",
      "  Terminated: False\n",
      "  Truncated: False\n",
      "\n",
      "Step 8/30:\n",
      " Normalized action: [0.5]\n",
      " Denormalized action: 298.5\n",
      "  New observation (normalized): [ 0.15287441 -0.01413758  0.40000026]\n",
      "  New observation (real values):\n",
      "    Ca: 0.8729311610226997\n",
      "    T:  324.64656053129477\n",
      "    Cb: 0.8700000131130265\n",
      "  Reward: -0.0000\n",
      "  Terminated: False\n",
      "  Truncated: False\n",
      "\n",
      "Step 9/30:\n",
      " Normalized action: [0.5]\n",
      " Denormalized action: 298.5\n",
      "  New observation (normalized): [0.16853204 0.00797712 0.40000026]\n",
      "  New observation (real values):\n",
      "    Ca: 0.8752798057993926\n",
      "    T:  325.1994279087524\n",
      "    Cb: 0.8700000131130265\n",
      "  Reward: -0.0000\n",
      "  Terminated: False\n",
      "  Truncated: False\n",
      "\n",
      "Step 10/30:\n",
      " Normalized action: [0.5]\n",
      " Denormalized action: 298.5\n",
      "  New observation (normalized): [ 0.16587427 -0.00517432  0.40000026]\n",
      "  New observation (real values):\n",
      "    Ca: 0.8748811406150951\n",
      "    T:  324.87064201529785\n",
      "    Cb: 0.8700000131130265\n",
      "  Reward: -0.0000\n",
      "  Terminated: False\n",
      "  Truncated: False\n",
      "\n",
      "Step 11/30:\n",
      " Normalized action: [0.5]\n",
      " Denormalized action: 298.5\n",
      "  New observation (normalized): [0.15484833 0.00055888 0.40000026]\n",
      "  New observation (real values):\n",
      "    Ca: 0.8732272488345849\n",
      "    T:  325.0139719898212\n",
      "    Cb: 0.8700000131130265\n",
      "  Reward: -0.0000\n",
      "  Terminated: False\n",
      "  Truncated: False\n",
      "\n",
      "Step 12/30:\n",
      " Normalized action: [0.5]\n",
      " Denormalized action: 298.5\n",
      "  New observation (normalized): [0.15290997 0.01369936 0.40000026]\n",
      "  New observation (real values):\n",
      "    Ca: 0.8729364954194317\n",
      "    T:  325.34248409284794\n",
      "    Cb: 0.8700000131130265\n",
      "  Reward: -0.0000\n",
      "  Terminated: False\n",
      "  Truncated: False\n",
      "\n",
      "Step 13/30:\n",
      " Normalized action: [0.5]\n",
      " Denormalized action: 298.5\n",
      "  New observation (normalized): [0.15300351 0.00643582 0.40000026]\n",
      "  New observation (real values):\n",
      "    Ca: 0.8729505272445209\n",
      "    T:  325.1608955972534\n",
      "    Cb: 0.8700000131130265\n",
      "  Reward: -0.0000\n",
      "  Terminated: False\n",
      "  Truncated: False\n",
      "\n",
      "Step 14/30:\n",
      " Normalized action: [0.5]\n",
      " Denormalized action: 298.5\n",
      "  New observation (normalized): [ 0.15944501 -0.02793814  0.40000026]\n",
      "  New observation (real values):\n",
      "    Ca: 0.873916750891356\n",
      "    T:  324.301546486747\n",
      "    Cb: 0.8700000131130265\n",
      "  Reward: -0.0000\n",
      "  Terminated: False\n",
      "  Truncated: False\n",
      "\n",
      "Step 15/30:\n",
      " Normalized action: [0.5]\n",
      " Denormalized action: 298.5\n",
      "  New observation (normalized): [0.15756045 0.00549507 0.40000026]\n",
      "  New observation (real values):\n",
      "    Ca: 0.8736340671707653\n",
      "    T:  325.13737680284015\n",
      "    Cb: 0.8700000131130265\n",
      "  Reward: -0.0000\n",
      "  Terminated: False\n",
      "  Truncated: False\n",
      "\n",
      "Step 16/30:\n",
      " Normalized action: [0.5]\n",
      " Denormalized action: 298.5\n",
      "  New observation (normalized): [0.15577755 0.00960634 0.40000026]\n",
      "  New observation (real values):\n",
      "    Ca: 0.8733666328076846\n",
      "    T:  325.2401584479262\n",
      "    Cb: 0.8700000131130265\n",
      "  Reward: -0.0000\n",
      "  Terminated: False\n",
      "  Truncated: False\n",
      "\n",
      "Step 17/30:\n",
      " Normalized action: [0.5]\n",
      " Denormalized action: 298.5\n",
      "  New observation (normalized): [ 0.16880163 -0.01894384  0.40000026]\n",
      "  New observation (real values):\n",
      "    Ca: 0.8753202445284252\n",
      "    T:  324.52640397184416\n",
      "    Cb: 0.8700000131130265\n",
      "  Reward: -0.0000\n",
      "  Terminated: False\n",
      "  Truncated: False\n",
      "\n",
      "Step 18/30:\n",
      " Normalized action: [0.5]\n",
      " Denormalized action: 298.5\n",
      "  New observation (normalized): [ 0.16114668 -0.00954604  0.40000026]\n",
      "  New observation (real values):\n",
      "    Ca: 0.8741720024723338\n",
      "    T:  324.76134898713883\n",
      "    Cb: 0.8700000131130265\n",
      "  Reward: -0.0000\n",
      "  Terminated: False\n",
      "  Truncated: False\n",
      "\n",
      "Step 19/30:\n",
      " Normalized action: [0.5]\n",
      " Denormalized action: 298.5\n",
      "  New observation (normalized): [ 0.14479447 -0.01876749  0.40000026]\n",
      "  New observation (real values):\n",
      "    Ca: 0.8717191699279949\n",
      "    T:  324.53081269514735\n",
      "    Cb: 0.8700000131130265\n",
      "  Reward: -0.0000\n",
      "  Terminated: False\n",
      "  Truncated: False\n",
      "\n",
      "Step 20/30:\n",
      " Normalized action: [0.5]\n",
      " Denormalized action: 298.5\n",
      "  New observation (normalized): [ 0.16067077 -0.0236315   0.40000026]\n",
      "  New observation (real values):\n",
      "    Ca: 0.8741006154274662\n",
      "    T:  324.40921238703544\n",
      "    Cb: 0.8700000131130265\n",
      "  Reward: -0.0000\n",
      "  Terminated: False\n",
      "  Truncated: False\n",
      "\n",
      "Step 21/30:\n",
      " Normalized action: [0.5]\n",
      " Denormalized action: 298.5\n",
      "  New observation (normalized): [ 0.15987511 -0.02114172  0.40000026]\n",
      "  New observation (real values):\n",
      "    Ca: 0.8739812671127233\n",
      "    T:  324.4714569992091\n",
      "    Cb: 0.8700000131130265\n",
      "  Reward: -0.0000\n",
      "  Terminated: False\n",
      "  Truncated: False\n",
      "\n",
      "Step 22/30:\n",
      " Normalized action: [0.5]\n",
      " Denormalized action: 298.5\n",
      "  New observation (normalized): [ 1.58065618e-01 -1.61803146e-04  4.00000262e-01]\n",
      "  New observation (real values):\n",
      "    Ca: 0.8737098426588098\n",
      "    T:  324.9959549213385\n",
      "    Cb: 0.8700000131130265\n",
      "  Reward: -0.0000\n",
      "  Terminated: False\n",
      "  Truncated: False\n",
      "\n",
      "Step 23/30:\n",
      " Normalized action: [0.5]\n",
      " Denormalized action: 298.5\n",
      "  New observation (normalized): [ 0.14960209 -0.01377625  0.40000026]\n",
      "  New observation (real values):\n",
      "    Ca: 0.8724403132466937\n",
      "    T:  324.655593713706\n",
      "    Cb: 0.8700000131130265\n",
      "  Reward: -0.0000\n",
      "  Terminated: False\n",
      "  Truncated: False\n",
      "\n",
      "Step 24/30:\n",
      " Normalized action: [0.5]\n",
      " Denormalized action: 298.5\n",
      "  New observation (normalized): [ 0.15734608 -0.01933516  0.40000026]\n",
      "  New observation (real values):\n",
      "    Ca: 0.8736019124961106\n",
      "    T:  324.5166208965147\n",
      "    Cb: 0.8700000131130265\n",
      "  Reward: -0.0000\n",
      "  Terminated: False\n",
      "  Truncated: False\n",
      "\n",
      "Step 25/30:\n",
      " Normalized action: [0.5]\n",
      " Denormalized action: 298.5\n",
      "  New observation (normalized): [ 0.16628975 -0.00071658  0.40000026]\n",
      "  New observation (real values):\n",
      "    Ca: 0.874943462103322\n",
      "    T:  324.98208539781956\n",
      "    Cb: 0.8700000131130265\n",
      "  Reward: -0.0000\n",
      "  Terminated: False\n",
      "  Truncated: False\n",
      "\n",
      "Step 26/30:\n",
      " Normalized action: [0.5]\n",
      " Denormalized action: 298.5\n",
      "  New observation (normalized): [ 0.15149152 -0.02408632  0.40000026]\n",
      "  New observation (real values):\n",
      "    Ca: 0.8727237276131333\n",
      "    T:  324.3978420278951\n",
      "    Cb: 0.8700000131130265\n",
      "  Reward: -0.0000\n",
      "  Terminated: False\n",
      "  Truncated: False\n",
      "\n",
      "Step 27/30:\n",
      " Normalized action: [0.5]\n",
      " Denormalized action: 298.5\n",
      "  New observation (normalized): [ 0.16762326 -0.00899053  0.40000026]\n",
      "  New observation (real values):\n",
      "    Ca: 0.8751434891534097\n",
      "    T:  324.7752366463571\n",
      "    Cb: 0.8700000131130265\n",
      "  Reward: -0.0000\n",
      "  Terminated: False\n",
      "  Truncated: False\n",
      "\n",
      "Step 28/30:\n",
      " Normalized action: [0.5]\n",
      " Denormalized action: 298.5\n",
      "  New observation (normalized): [ 0.15897342 -0.0124635   0.40000026]\n",
      "  New observation (real values):\n",
      "    Ca: 0.8738460131026788\n",
      "    T:  324.6884124136041\n",
      "    Cb: 0.8700000131130265\n",
      "  Reward: -0.0000\n",
      "  Terminated: False\n",
      "  Truncated: False\n",
      "\n",
      "Step 29/30:\n",
      " Normalized action: [0.5]\n",
      " Denormalized action: 298.5\n",
      "  New observation (normalized): [0.15499059 0.00710892 0.40000026]\n",
      "  New observation (real values):\n",
      "    Ca: 0.8732485885564651\n",
      "    T:  325.17772301783265\n",
      "    Cb: 0.8700000131130265\n",
      "  Reward: -0.0000\n",
      "  Terminated: True\n",
      "  Truncated: False\n",
      "  Episode ended at step 29\n"
     ]
    }
   ],
   "source": [
    "# ============================================================================\n",
    "# MAIN SIMULATION LOOP - nsteps STEPS\n",
    "# ============================================================================\n",
    "\n",
    "print(f\"\\nStarting {nsteps}-step simulation...\")\n",
    "print(\"-\" * 40)\n",
    "\n",
    "for step in range(nsteps):\n",
    "    print(f\"\\nStep {step + 1}/{nsteps}:\")\n",
    "\n",
    "    # ========================================================================\n",
    "    # ACTION SELECTION\n",
    "    # ========================================================================\n",
    "    \n",
    "    # For this demo, we'll use a simple strategy:\n",
    "    # - Moderate coolant temperature control\n",
    "    # - Stay within the safe operating range\n",
    "    \n",
    "    # Since actions are normalized, we need to provide values between 0 and 1\n",
    "    # These will be automatically scaled to the actual bounds defined in env_params\n",
    "    action = np.array([\n",
    "        0.5,    # Tc: Coolant temperature (normalized) - moderate value\n",
    "    ])\n",
    "    \n",
    "    # Denormalize: actual_value = low + (normalized_value * (high - low))\n",
    "    denorm_action = denormalize_actions(action, a_space)\n",
    "    \n",
    "    \n",
    "    # ========================================================================\n",
    "    # ENVIRONMENT STEP\n",
    "    # ========================================================================\n",
    "    \n",
    "    # Execute the action in the environment\n",
    "    # This advances the simulation by one time step\n",
    "    # Returns: new_observation, reward, terminated, truncated, info\n",
    "    observation, reward, terminated, truncated, info = env.step(action)\n",
    "    \n",
    "    # Denormalize observation for better understanding\n",
    "    denorm_observation = denormalize_observations(observation, o_space)\n",
    "\n",
    "    print(f\" Normalized action: {action}\")\n",
    "    print(f\" Denormalized action: {denorm_action}\")\n",
    "    print(f\"  New observation (normalized): {observation}\")\n",
    "    print(f\"  New observation (real values):\")\n",
    "    print(f\"    Ca: {denorm_observation[0]}\")\n",
    "    print(f\"    T:  {denorm_observation[1]}\")\n",
    "    print(f\"    Cb: {denorm_observation[2]}\")\n",
    "    print(f\"  Reward: {reward:.4f}\")\n",
    "    print(f\"  Terminated: {terminated}\")\n",
    "    print(f\"  Truncated: {truncated}\")\n",
    "    \n",
    "    # ========================================================================\n",
    "    # DATA STORAGE\n",
    "    # ========================================================================\n",
    "    \n",
    "    # Store the data for later analysis\n",
    "    observations.append(observation.copy())\n",
    "    actions.append(action.copy())\n",
    "    rewards.append(reward)\n",
    "    denorm_actions.append(denorm_action.copy())\n",
    "    denorm_observations.append(denorm_observation.copy())\n",
    "    \n",
    "    # ========================================================================\n",
    "    # TERMINATION CHECK\n",
    "    # ========================================================================\n",
    "    \n",
    "    # Check if the episode has ended\n",
    "    if terminated or truncated:\n",
    "        print(f\"  Episode ended at step {step + 1}\")\n",
    "        break\n"
   ]
  },
  {
   "cell_type": "code",
   "execution_count": 6,
   "metadata": {},
   "outputs": [
    {
     "name": "stdout",
     "output_type": "stream",
     "text": [
      "\n",
      "============================================================\n",
      "SIMULATION COMPLETE - ANALYSIS\n",
      "============================================================\n",
      "Total steps completed: 30\n",
      "Average reward: -0.0001\n",
      "Total reward: -0.0034\n",
      "Denormalized actions: [298.5 298.5 298.5 298.5 298.5 298.5 298.5 298.5 298.5 298.5 298.5 298.5\n",
      " 298.5 298.5 298.5 298.5 298.5 298.5 298.5 298.5 298.5 298.5 298.5 298.5\n",
      " 298.5 298.5 298.5 298.5 298.5]\n",
      "Denormalized observations: [[  0.82945506 327.51164844   0.85000001]\n",
      " [  0.85443207 324.9016742    0.85000001]\n",
      " [  0.86672237 325.054916     0.85000001]\n",
      " [  0.87098478 325.27251309   0.90000002]\n",
      " [  0.87247644 324.76570841   0.90000002]\n",
      " [  0.87283382 324.99181462   0.90000002]\n",
      " [  0.87402792 325.44445457   0.87000001]\n",
      " [  0.87293116 324.64656053   0.87000001]\n",
      " [  0.87527981 325.19942791   0.87000001]\n",
      " [  0.87488114 324.87064202   0.87000001]\n",
      " [  0.87322725 325.01397199   0.87000001]\n",
      " [  0.8729365  325.34248409   0.87000001]\n",
      " [  0.87295053 325.1608956    0.87000001]\n",
      " [  0.87391675 324.30154649   0.87000001]\n",
      " [  0.87363407 325.1373768    0.87000001]\n",
      " [  0.87336663 325.24015845   0.87000001]\n",
      " [  0.87532024 324.52640397   0.87000001]\n",
      " [  0.874172   324.76134899   0.87000001]\n",
      " [  0.87171917 324.5308127    0.87000001]\n",
      " [  0.87410062 324.40921239   0.87000001]\n",
      " [  0.87398127 324.471457     0.87000001]\n",
      " [  0.87370984 324.99595492   0.87000001]\n",
      " [  0.87244031 324.65559371   0.87000001]\n",
      " [  0.87360191 324.5166209    0.87000001]\n",
      " [  0.87494346 324.9820854    0.87000001]\n",
      " [  0.87272373 324.39784203   0.87000001]\n",
      " [  0.87514349 324.77523665   0.87000001]\n",
      " [  0.87384601 324.68841241   0.87000001]\n",
      " [  0.87324859 325.17772302   0.87000001]]\n"
     ]
    }
   ],
   "source": [
    "# ============================================================================\n",
    "# SIMULATION COMPLETE - ANALYSIS AND VISUALIZATION\n",
    "# ============================================================================\n",
    "\n",
    "print(\"\\n\" + \"=\" * 60)\n",
    "print(\"SIMULATION COMPLETE - ANALYSIS\")\n",
    "print(\"=\" * 60)\n",
    "\n",
    "# Convert lists to numpy arrays for easier analysis\n",
    "observations = np.array(observations)\n",
    "actions = np.array(actions)\n",
    "rewards = np.array(rewards)\n",
    "denorm_actions = np.array(denorm_actions)\n",
    "denorm_observations = np.array(denorm_observations)\n",
    "\n",
    "print(f\"Total steps completed: {len(observations)}\")\n",
    "print(f\"Average reward: {np.mean(rewards):.4f}\")\n",
    "print(f\"Total reward: {np.sum(rewards):.4f}\")\n",
    "print(f\"Denormalized actions: {denorm_actions}\")\n",
    "print(f\"Denormalized observations: {denorm_observations}\")"
   ]
  },
  {
   "cell_type": "code",
   "execution_count": 7,
   "metadata": {},
   "outputs": [],
   "source": [
    "# ============================================================================\n",
    "# VISUALIZATION\n",
    "# ============================================================================"
   ]
  },
  {
   "cell_type": "code",
   "execution_count": 8,
   "metadata": {},
   "outputs": [
    {
     "data": {
      "application/vnd.plotly.v1+json": {
       "config": {
        "plotlyServerURL": "https://plot.ly"
       },
       "data": [
        {
         "line": {
          "color": "blue",
          "width": 3
         },
         "marker": {
          "size": 8
         },
         "mode": "lines+markers",
         "name": "Ca (Concentration A)",
         "type": "scatter",
         "x": [
          1,
          2,
          3,
          4,
          5,
          6,
          7,
          8,
          9,
          10,
          11,
          12,
          13,
          14,
          15,
          16,
          17,
          18,
          19,
          20,
          21,
          22,
          23,
          24,
          25,
          26,
          27,
          28,
          29
         ],
         "y": {
          "bdata": "5S+0V+WK6j/0bZTtgVfrP97Gco0wvOs/RRFleBvf6z+UwTa1U+vrP+8HODBB7us/mN1uZQn46z/KDohUDe/rP3E+mMtKAuw/Qofauwb/6z8gD3dFevHrP0f2aYQY7+s/TVGx8TXv6z+TKBBDIPfrP9tvZW7P9Os/4nOqlJ7y6z+G1/iZnwLsP/ZRNpA3+es/WGLEmR/l6z8ElZXaofjrP+0a8o+n9+s/bTYNWG716z/RaKPyB+vrP2mafP+L9Os/KaZybon/6z/zVJFPWu3rP0cUJ+ssAew/BIMA6ov26z8IGiQGp/HrPw==",
          "dtype": "f8"
         }
        },
        {
         "line": {
          "color": "red",
          "width": 3
         },
         "marker": {
          "size": 8,
          "symbol": "square"
         },
         "mode": "lines+markers",
         "name": "T (Temperature)",
         "type": "scatter",
         "x": [
          1,
          2,
          3,
          4,
          5,
          6,
          7,
          8,
          9,
          10,
          11,
          12,
          13,
          14,
          15,
          16,
          17,
          18,
          19,
          20,
          21,
          22,
          23,
          24,
          25,
          26,
          27,
          28,
          29
         ],
         "y": {
          "bdata": "AiBHti94dEA4Gu5BbU50QFmImO/gUHRAh6uuNlxUdECBQ3VXQEx0QJAcA3neT3RA5HpmfBxXdEC6DNtPWEp0QAWgUdswU3RApWNSJu5NdEB5dbE6OVB0QOqimdB6VXRAYQRDB5NSdEDVrGgi00R0QNe2BLIyUnRAOHtisNdTdEDiOJImbEh0QKqJRnwuTHRAWt9zNX5IdED3tkkijEZ0QC2RfhaLR3RAB3dtbu9PdEBKfdVPfUp0QGDvRRRESHRAOpgtn7ZPdECKLJqPXUZ0QDusil5nTHRAcSm8vANLdEBnVRf011J0QA==",
          "dtype": "f8"
         }
        },
        {
         "line": {
          "color": "green",
          "width": 3
         },
         "marker": {
          "size": 8,
          "symbol": "triangle-up"
         },
         "mode": "lines+markers",
         "name": "Cb (Concentration B)",
         "type": "scatter",
         "x": [
          1,
          2,
          3,
          4,
          5,
          6,
          7,
          8,
          9,
          10,
          11,
          12,
          13,
          14,
          15,
          16,
          17,
          18,
          19,
          20,
          21,
          22,
          23,
          24,
          25,
          26,
          27,
          28,
          29
         ],
         "y": {
          "bdata": "emZmNjMz6z96ZmY2MzPrP3pmZjYzM+s/55mZ2czM7D/nmZnZzMzsP+eZmdnMzOw/cuF6RArX6z9y4XpECtfrP3LhekQK1+s/cuF6RArX6z9y4XpECtfrP3LhekQK1+s/cuF6RArX6z9y4XpECtfrP3LhekQK1+s/cuF6RArX6z9y4XpECtfrP3LhekQK1+s/cuF6RArX6z9y4XpECtfrP3LhekQK1+s/cuF6RArX6z9y4XpECtfrP3LhekQK1+s/cuF6RArX6z9y4XpECtfrP3LhekQK1+s/cuF6RArX6z9y4XpECtfrPw==",
          "dtype": "f8"
         }
        }
       ],
       "layout": {
        "height": 500,
        "template": {
         "data": {
          "bar": [
           {
            "error_x": {
             "color": "#2a3f5f"
            },
            "error_y": {
             "color": "#2a3f5f"
            },
            "marker": {
             "line": {
              "color": "white",
              "width": 0.5
             },
             "pattern": {
              "fillmode": "overlay",
              "size": 10,
              "solidity": 0.2
             }
            },
            "type": "bar"
           }
          ],
          "barpolar": [
           {
            "marker": {
             "line": {
              "color": "white",
              "width": 0.5
             },
             "pattern": {
              "fillmode": "overlay",
              "size": 10,
              "solidity": 0.2
             }
            },
            "type": "barpolar"
           }
          ],
          "carpet": [
           {
            "aaxis": {
             "endlinecolor": "#2a3f5f",
             "gridcolor": "#C8D4E3",
             "linecolor": "#C8D4E3",
             "minorgridcolor": "#C8D4E3",
             "startlinecolor": "#2a3f5f"
            },
            "baxis": {
             "endlinecolor": "#2a3f5f",
             "gridcolor": "#C8D4E3",
             "linecolor": "#C8D4E3",
             "minorgridcolor": "#C8D4E3",
             "startlinecolor": "#2a3f5f"
            },
            "type": "carpet"
           }
          ],
          "choropleth": [
           {
            "colorbar": {
             "outlinewidth": 0,
             "ticks": ""
            },
            "type": "choropleth"
           }
          ],
          "contour": [
           {
            "colorbar": {
             "outlinewidth": 0,
             "ticks": ""
            },
            "colorscale": [
             [
              0,
              "#0d0887"
             ],
             [
              0.1111111111111111,
              "#46039f"
             ],
             [
              0.2222222222222222,
              "#7201a8"
             ],
             [
              0.3333333333333333,
              "#9c179e"
             ],
             [
              0.4444444444444444,
              "#bd3786"
             ],
             [
              0.5555555555555556,
              "#d8576b"
             ],
             [
              0.6666666666666666,
              "#ed7953"
             ],
             [
              0.7777777777777778,
              "#fb9f3a"
             ],
             [
              0.8888888888888888,
              "#fdca26"
             ],
             [
              1,
              "#f0f921"
             ]
            ],
            "type": "contour"
           }
          ],
          "contourcarpet": [
           {
            "colorbar": {
             "outlinewidth": 0,
             "ticks": ""
            },
            "type": "contourcarpet"
           }
          ],
          "heatmap": [
           {
            "colorbar": {
             "outlinewidth": 0,
             "ticks": ""
            },
            "colorscale": [
             [
              0,
              "#0d0887"
             ],
             [
              0.1111111111111111,
              "#46039f"
             ],
             [
              0.2222222222222222,
              "#7201a8"
             ],
             [
              0.3333333333333333,
              "#9c179e"
             ],
             [
              0.4444444444444444,
              "#bd3786"
             ],
             [
              0.5555555555555556,
              "#d8576b"
             ],
             [
              0.6666666666666666,
              "#ed7953"
             ],
             [
              0.7777777777777778,
              "#fb9f3a"
             ],
             [
              0.8888888888888888,
              "#fdca26"
             ],
             [
              1,
              "#f0f921"
             ]
            ],
            "type": "heatmap"
           }
          ],
          "histogram": [
           {
            "marker": {
             "pattern": {
              "fillmode": "overlay",
              "size": 10,
              "solidity": 0.2
             }
            },
            "type": "histogram"
           }
          ],
          "histogram2d": [
           {
            "colorbar": {
             "outlinewidth": 0,
             "ticks": ""
            },
            "colorscale": [
             [
              0,
              "#0d0887"
             ],
             [
              0.1111111111111111,
              "#46039f"
             ],
             [
              0.2222222222222222,
              "#7201a8"
             ],
             [
              0.3333333333333333,
              "#9c179e"
             ],
             [
              0.4444444444444444,
              "#bd3786"
             ],
             [
              0.5555555555555556,
              "#d8576b"
             ],
             [
              0.6666666666666666,
              "#ed7953"
             ],
             [
              0.7777777777777778,
              "#fb9f3a"
             ],
             [
              0.8888888888888888,
              "#fdca26"
             ],
             [
              1,
              "#f0f921"
             ]
            ],
            "type": "histogram2d"
           }
          ],
          "histogram2dcontour": [
           {
            "colorbar": {
             "outlinewidth": 0,
             "ticks": ""
            },
            "colorscale": [
             [
              0,
              "#0d0887"
             ],
             [
              0.1111111111111111,
              "#46039f"
             ],
             [
              0.2222222222222222,
              "#7201a8"
             ],
             [
              0.3333333333333333,
              "#9c179e"
             ],
             [
              0.4444444444444444,
              "#bd3786"
             ],
             [
              0.5555555555555556,
              "#d8576b"
             ],
             [
              0.6666666666666666,
              "#ed7953"
             ],
             [
              0.7777777777777778,
              "#fb9f3a"
             ],
             [
              0.8888888888888888,
              "#fdca26"
             ],
             [
              1,
              "#f0f921"
             ]
            ],
            "type": "histogram2dcontour"
           }
          ],
          "mesh3d": [
           {
            "colorbar": {
             "outlinewidth": 0,
             "ticks": ""
            },
            "type": "mesh3d"
           }
          ],
          "parcoords": [
           {
            "line": {
             "colorbar": {
              "outlinewidth": 0,
              "ticks": ""
             }
            },
            "type": "parcoords"
           }
          ],
          "pie": [
           {
            "automargin": true,
            "type": "pie"
           }
          ],
          "scatter": [
           {
            "fillpattern": {
             "fillmode": "overlay",
             "size": 10,
             "solidity": 0.2
            },
            "type": "scatter"
           }
          ],
          "scatter3d": [
           {
            "line": {
             "colorbar": {
              "outlinewidth": 0,
              "ticks": ""
             }
            },
            "marker": {
             "colorbar": {
              "outlinewidth": 0,
              "ticks": ""
             }
            },
            "type": "scatter3d"
           }
          ],
          "scattercarpet": [
           {
            "marker": {
             "colorbar": {
              "outlinewidth": 0,
              "ticks": ""
             }
            },
            "type": "scattercarpet"
           }
          ],
          "scattergeo": [
           {
            "marker": {
             "colorbar": {
              "outlinewidth": 0,
              "ticks": ""
             }
            },
            "type": "scattergeo"
           }
          ],
          "scattergl": [
           {
            "marker": {
             "colorbar": {
              "outlinewidth": 0,
              "ticks": ""
             }
            },
            "type": "scattergl"
           }
          ],
          "scattermap": [
           {
            "marker": {
             "colorbar": {
              "outlinewidth": 0,
              "ticks": ""
             }
            },
            "type": "scattermap"
           }
          ],
          "scattermapbox": [
           {
            "marker": {
             "colorbar": {
              "outlinewidth": 0,
              "ticks": ""
             }
            },
            "type": "scattermapbox"
           }
          ],
          "scatterpolar": [
           {
            "marker": {
             "colorbar": {
              "outlinewidth": 0,
              "ticks": ""
             }
            },
            "type": "scatterpolar"
           }
          ],
          "scatterpolargl": [
           {
            "marker": {
             "colorbar": {
              "outlinewidth": 0,
              "ticks": ""
             }
            },
            "type": "scatterpolargl"
           }
          ],
          "scatterternary": [
           {
            "marker": {
             "colorbar": {
              "outlinewidth": 0,
              "ticks": ""
             }
            },
            "type": "scatterternary"
           }
          ],
          "surface": [
           {
            "colorbar": {
             "outlinewidth": 0,
             "ticks": ""
            },
            "colorscale": [
             [
              0,
              "#0d0887"
             ],
             [
              0.1111111111111111,
              "#46039f"
             ],
             [
              0.2222222222222222,
              "#7201a8"
             ],
             [
              0.3333333333333333,
              "#9c179e"
             ],
             [
              0.4444444444444444,
              "#bd3786"
             ],
             [
              0.5555555555555556,
              "#d8576b"
             ],
             [
              0.6666666666666666,
              "#ed7953"
             ],
             [
              0.7777777777777778,
              "#fb9f3a"
             ],
             [
              0.8888888888888888,
              "#fdca26"
             ],
             [
              1,
              "#f0f921"
             ]
            ],
            "type": "surface"
           }
          ],
          "table": [
           {
            "cells": {
             "fill": {
              "color": "#EBF0F8"
             },
             "line": {
              "color": "white"
             }
            },
            "header": {
             "fill": {
              "color": "#C8D4E3"
             },
             "line": {
              "color": "white"
             }
            },
            "type": "table"
           }
          ]
         },
         "layout": {
          "annotationdefaults": {
           "arrowcolor": "#2a3f5f",
           "arrowhead": 0,
           "arrowwidth": 1
          },
          "autotypenumbers": "strict",
          "coloraxis": {
           "colorbar": {
            "outlinewidth": 0,
            "ticks": ""
           }
          },
          "colorscale": {
           "diverging": [
            [
             0,
             "#8e0152"
            ],
            [
             0.1,
             "#c51b7d"
            ],
            [
             0.2,
             "#de77ae"
            ],
            [
             0.3,
             "#f1b6da"
            ],
            [
             0.4,
             "#fde0ef"
            ],
            [
             0.5,
             "#f7f7f7"
            ],
            [
             0.6,
             "#e6f5d0"
            ],
            [
             0.7,
             "#b8e186"
            ],
            [
             0.8,
             "#7fbc41"
            ],
            [
             0.9,
             "#4d9221"
            ],
            [
             1,
             "#276419"
            ]
           ],
           "sequential": [
            [
             0,
             "#0d0887"
            ],
            [
             0.1111111111111111,
             "#46039f"
            ],
            [
             0.2222222222222222,
             "#7201a8"
            ],
            [
             0.3333333333333333,
             "#9c179e"
            ],
            [
             0.4444444444444444,
             "#bd3786"
            ],
            [
             0.5555555555555556,
             "#d8576b"
            ],
            [
             0.6666666666666666,
             "#ed7953"
            ],
            [
             0.7777777777777778,
             "#fb9f3a"
            ],
            [
             0.8888888888888888,
             "#fdca26"
            ],
            [
             1,
             "#f0f921"
            ]
           ],
           "sequentialminus": [
            [
             0,
             "#0d0887"
            ],
            [
             0.1111111111111111,
             "#46039f"
            ],
            [
             0.2222222222222222,
             "#7201a8"
            ],
            [
             0.3333333333333333,
             "#9c179e"
            ],
            [
             0.4444444444444444,
             "#bd3786"
            ],
            [
             0.5555555555555556,
             "#d8576b"
            ],
            [
             0.6666666666666666,
             "#ed7953"
            ],
            [
             0.7777777777777778,
             "#fb9f3a"
            ],
            [
             0.8888888888888888,
             "#fdca26"
            ],
            [
             1,
             "#f0f921"
            ]
           ]
          },
          "colorway": [
           "#636efa",
           "#EF553B",
           "#00cc96",
           "#ab63fa",
           "#FFA15A",
           "#19d3f3",
           "#FF6692",
           "#B6E880",
           "#FF97FF",
           "#FECB52"
          ],
          "font": {
           "color": "#2a3f5f"
          },
          "geo": {
           "bgcolor": "white",
           "lakecolor": "white",
           "landcolor": "white",
           "showlakes": true,
           "showland": true,
           "subunitcolor": "#C8D4E3"
          },
          "hoverlabel": {
           "align": "left"
          },
          "hovermode": "closest",
          "mapbox": {
           "style": "light"
          },
          "paper_bgcolor": "white",
          "plot_bgcolor": "white",
          "polar": {
           "angularaxis": {
            "gridcolor": "#EBF0F8",
            "linecolor": "#EBF0F8",
            "ticks": ""
           },
           "bgcolor": "white",
           "radialaxis": {
            "gridcolor": "#EBF0F8",
            "linecolor": "#EBF0F8",
            "ticks": ""
           }
          },
          "scene": {
           "xaxis": {
            "backgroundcolor": "white",
            "gridcolor": "#DFE8F3",
            "gridwidth": 2,
            "linecolor": "#EBF0F8",
            "showbackground": true,
            "ticks": "",
            "zerolinecolor": "#EBF0F8"
           },
           "yaxis": {
            "backgroundcolor": "white",
            "gridcolor": "#DFE8F3",
            "gridwidth": 2,
            "linecolor": "#EBF0F8",
            "showbackground": true,
            "ticks": "",
            "zerolinecolor": "#EBF0F8"
           },
           "zaxis": {
            "backgroundcolor": "white",
            "gridcolor": "#DFE8F3",
            "gridwidth": 2,
            "linecolor": "#EBF0F8",
            "showbackground": true,
            "ticks": "",
            "zerolinecolor": "#EBF0F8"
           }
          },
          "shapedefaults": {
           "line": {
            "color": "#2a3f5f"
           }
          },
          "ternary": {
           "aaxis": {
            "gridcolor": "#DFE8F3",
            "linecolor": "#A2B1C6",
            "ticks": ""
           },
           "baxis": {
            "gridcolor": "#DFE8F3",
            "linecolor": "#A2B1C6",
            "ticks": ""
           },
           "bgcolor": "white",
           "caxis": {
            "gridcolor": "#DFE8F3",
            "linecolor": "#A2B1C6",
            "ticks": ""
           }
          },
          "title": {
           "x": 0.05
          },
          "xaxis": {
           "automargin": true,
           "gridcolor": "#EBF0F8",
           "linecolor": "#EBF0F8",
           "ticks": "",
           "title": {
            "standoff": 15
           },
           "zerolinecolor": "#EBF0F8",
           "zerolinewidth": 2
          },
          "yaxis": {
           "automargin": true,
           "gridcolor": "#EBF0F8",
           "linecolor": "#EBF0F8",
           "ticks": "",
           "title": {
            "standoff": 15
           },
           "zerolinecolor": "#EBF0F8",
           "zerolinewidth": 2
          }
         }
        },
        "title": {
         "text": "CSTR State Variables Over Time"
        },
        "xaxis": {
         "title": {
          "text": "Simulation Step"
         }
        },
        "yaxis": {
         "title": {
          "text": "Concentration (mol/L) / Temperature (K)"
         }
        }
       }
      }
     },
     "metadata": {},
     "output_type": "display_data"
    }
   ],
   "source": [
    "# Create all four plots\n",
    "plot_state_variables(denorm_observations)"
   ]
  },
  {
   "cell_type": "code",
   "execution_count": 9,
   "metadata": {},
   "outputs": [
    {
     "ename": "IndexError",
     "evalue": "tuple index out of range",
     "output_type": "error",
     "traceback": [
      "\u001b[31m---------------------------------------------------------------------------\u001b[39m",
      "\u001b[31mIndexError\u001b[39m                                Traceback (most recent call last)",
      "\u001b[36mCell\u001b[39m\u001b[36m \u001b[39m\u001b[32mIn[9]\u001b[39m\u001b[32m, line 2\u001b[39m\n\u001b[32m      1\u001b[39m \u001b[38;5;66;03m# Create all four plots\u001b[39;00m\n\u001b[32m----> \u001b[39m\u001b[32m2\u001b[39m \u001b[43mplot_control_actions\u001b[49m\u001b[43m(\u001b[49m\u001b[43mdenorm_actions\u001b[49m\u001b[43m)\u001b[49m\n",
      "\u001b[36mFile \u001b[39m\u001b[32m/workspace/general_projects/rl_cstr_optimization/src/rl/cstr/optimization/visualization.py:81\u001b[39m, in \u001b[36mplot_control_actions\u001b[39m\u001b[34m(actions)\u001b[39m\n\u001b[32m     78\u001b[39m colors = [\u001b[33m'\u001b[39m\u001b[33mblue\u001b[39m\u001b[33m'\u001b[39m]\n\u001b[32m     79\u001b[39m symbols = [\u001b[33m'\u001b[39m\u001b[33mcircle\u001b[39m\u001b[33m'\u001b[39m]\n\u001b[32m---> \u001b[39m\u001b[32m81\u001b[39m \u001b[38;5;28;01mfor\u001b[39;00m i \u001b[38;5;129;01min\u001b[39;00m \u001b[38;5;28mrange\u001b[39m(\u001b[43mactions\u001b[49m\u001b[43m.\u001b[49m\u001b[43mshape\u001b[49m\u001b[43m[\u001b[49m\u001b[32;43m1\u001b[39;49m\u001b[43m]\u001b[49m):\n\u001b[32m     82\u001b[39m     fig.add_trace(go.Scatter(\n\u001b[32m     83\u001b[39m         x=steps,\n\u001b[32m     84\u001b[39m         y=actions[:, i],\n\u001b[32m   (...)\u001b[39m\u001b[32m     88\u001b[39m         marker=\u001b[38;5;28mdict\u001b[39m(size=\u001b[32m8\u001b[39m, symbol=symbols[i])\n\u001b[32m     89\u001b[39m     ))\n\u001b[32m     91\u001b[39m fig.update_layout(\n\u001b[32m     92\u001b[39m     title=\u001b[33m'\u001b[39m\u001b[33mControl Actions Over Time\u001b[39m\u001b[33m'\u001b[39m,\n\u001b[32m     93\u001b[39m     xaxis_title=\u001b[33m'\u001b[39m\u001b[33mSimulation Step\u001b[39m\u001b[33m'\u001b[39m,\n\u001b[32m   (...)\u001b[39m\u001b[32m     96\u001b[39m     height=\u001b[32m500\u001b[39m\n\u001b[32m     97\u001b[39m )\n",
      "\u001b[31mIndexError\u001b[39m: tuple index out of range"
     ]
    }
   ],
   "source": [
    "# Create all four plots\n",
    "plot_control_actions(denorm_actions)\n"
   ]
  },
  {
   "cell_type": "code",
   "execution_count": 10,
   "metadata": {},
   "outputs": [
    {
     "data": {
      "application/vnd.plotly.v1+json": {
       "config": {
        "plotlyServerURL": "https://plot.ly"
       },
       "data": [
        {
         "line": {
          "color": "blue",
          "width": 3
         },
         "marker": {
          "size": 8
         },
         "mode": "lines+markers",
         "name": "Individual Reward",
         "type": "scatter",
         "x": [
          1,
          2,
          3,
          4,
          5,
          6,
          7,
          8,
          9,
          10,
          11,
          12,
          13,
          14,
          15,
          16,
          17,
          18,
          19,
          20,
          21,
          22,
          23,
          24,
          25,
          26,
          27,
          28,
          29
         ],
         "y": {
          "bdata": "Em6D9al7PL9nL0HJCHLrvtOoNfYwg1K/7VRHRUV+Sr+L1Vl19IZHvzHmaolAAuq+Y2kcfOdW6b7YTd90/RTovmgp/P1mS+e+5pnOfxDs5r4JafcX7sfmvl0k/TaJvea+gt48hP+75r5wC7kScrzmvg01+RIUvea+37hOi4W95r7R9Tp5y73mvsno4enqvea+O2vVF/m95r5BuljK/r3mvly+ALwAvua+xi65NAG+5r6Zi+cxAb7mvpaubxQBvua+NLek+gC+5r412RfqAL7mvuuHAuEAvua+rBuP3AC+5r78aZjaAL7mvg==",
          "dtype": "f8"
         }
        },
        {
         "line": {
          "color": "red",
          "width": 3
         },
         "marker": {
          "size": 8,
          "symbol": "square"
         },
         "mode": "lines+markers",
         "name": "Cumulative Reward",
         "type": "scatter",
         "x": [
          1,
          2,
          3,
          4,
          5,
          6,
          7,
          8,
          9,
          10,
          11,
          12,
          13,
          14,
          15,
          16,
          17,
          18,
          19,
          20,
          21,
          22,
          23,
          24,
          25,
          26,
          27,
          28,
          29
         ],
         "y": {
          "bdata": "Em6D9al7PL+Nd807Olc9v7YGKYX/2Fm/lljmExGMY7/5zTwxzm1pv984xnHQh2m/SFVCWSehab+WNLdWPLlpv78wtb2H0Gm/Wf80znPnab/C9ky8O/5pv+bzg0X5FGq/xTAIRbUrar/Q6Rq3cUJqvwXjLcsuWWq/vjG5UOxvar+0bDIcqoZqv51OHAdonWq/CCQ0ACa0ar/CfP7+48pqv4B9uv+h4Wq/rzbvAGD4ar87HiECHg9rv+qNNQPcJWu/oTIwBJo8a796ShoFWFNrvwJN+wUWamu/HtzXBtSAa7+IdLIHkpdrvw==",
          "dtype": "f8"
         }
        }
       ],
       "layout": {
        "height": 500,
        "template": {
         "data": {
          "bar": [
           {
            "error_x": {
             "color": "#2a3f5f"
            },
            "error_y": {
             "color": "#2a3f5f"
            },
            "marker": {
             "line": {
              "color": "white",
              "width": 0.5
             },
             "pattern": {
              "fillmode": "overlay",
              "size": 10,
              "solidity": 0.2
             }
            },
            "type": "bar"
           }
          ],
          "barpolar": [
           {
            "marker": {
             "line": {
              "color": "white",
              "width": 0.5
             },
             "pattern": {
              "fillmode": "overlay",
              "size": 10,
              "solidity": 0.2
             }
            },
            "type": "barpolar"
           }
          ],
          "carpet": [
           {
            "aaxis": {
             "endlinecolor": "#2a3f5f",
             "gridcolor": "#C8D4E3",
             "linecolor": "#C8D4E3",
             "minorgridcolor": "#C8D4E3",
             "startlinecolor": "#2a3f5f"
            },
            "baxis": {
             "endlinecolor": "#2a3f5f",
             "gridcolor": "#C8D4E3",
             "linecolor": "#C8D4E3",
             "minorgridcolor": "#C8D4E3",
             "startlinecolor": "#2a3f5f"
            },
            "type": "carpet"
           }
          ],
          "choropleth": [
           {
            "colorbar": {
             "outlinewidth": 0,
             "ticks": ""
            },
            "type": "choropleth"
           }
          ],
          "contour": [
           {
            "colorbar": {
             "outlinewidth": 0,
             "ticks": ""
            },
            "colorscale": [
             [
              0,
              "#0d0887"
             ],
             [
              0.1111111111111111,
              "#46039f"
             ],
             [
              0.2222222222222222,
              "#7201a8"
             ],
             [
              0.3333333333333333,
              "#9c179e"
             ],
             [
              0.4444444444444444,
              "#bd3786"
             ],
             [
              0.5555555555555556,
              "#d8576b"
             ],
             [
              0.6666666666666666,
              "#ed7953"
             ],
             [
              0.7777777777777778,
              "#fb9f3a"
             ],
             [
              0.8888888888888888,
              "#fdca26"
             ],
             [
              1,
              "#f0f921"
             ]
            ],
            "type": "contour"
           }
          ],
          "contourcarpet": [
           {
            "colorbar": {
             "outlinewidth": 0,
             "ticks": ""
            },
            "type": "contourcarpet"
           }
          ],
          "heatmap": [
           {
            "colorbar": {
             "outlinewidth": 0,
             "ticks": ""
            },
            "colorscale": [
             [
              0,
              "#0d0887"
             ],
             [
              0.1111111111111111,
              "#46039f"
             ],
             [
              0.2222222222222222,
              "#7201a8"
             ],
             [
              0.3333333333333333,
              "#9c179e"
             ],
             [
              0.4444444444444444,
              "#bd3786"
             ],
             [
              0.5555555555555556,
              "#d8576b"
             ],
             [
              0.6666666666666666,
              "#ed7953"
             ],
             [
              0.7777777777777778,
              "#fb9f3a"
             ],
             [
              0.8888888888888888,
              "#fdca26"
             ],
             [
              1,
              "#f0f921"
             ]
            ],
            "type": "heatmap"
           }
          ],
          "histogram": [
           {
            "marker": {
             "pattern": {
              "fillmode": "overlay",
              "size": 10,
              "solidity": 0.2
             }
            },
            "type": "histogram"
           }
          ],
          "histogram2d": [
           {
            "colorbar": {
             "outlinewidth": 0,
             "ticks": ""
            },
            "colorscale": [
             [
              0,
              "#0d0887"
             ],
             [
              0.1111111111111111,
              "#46039f"
             ],
             [
              0.2222222222222222,
              "#7201a8"
             ],
             [
              0.3333333333333333,
              "#9c179e"
             ],
             [
              0.4444444444444444,
              "#bd3786"
             ],
             [
              0.5555555555555556,
              "#d8576b"
             ],
             [
              0.6666666666666666,
              "#ed7953"
             ],
             [
              0.7777777777777778,
              "#fb9f3a"
             ],
             [
              0.8888888888888888,
              "#fdca26"
             ],
             [
              1,
              "#f0f921"
             ]
            ],
            "type": "histogram2d"
           }
          ],
          "histogram2dcontour": [
           {
            "colorbar": {
             "outlinewidth": 0,
             "ticks": ""
            },
            "colorscale": [
             [
              0,
              "#0d0887"
             ],
             [
              0.1111111111111111,
              "#46039f"
             ],
             [
              0.2222222222222222,
              "#7201a8"
             ],
             [
              0.3333333333333333,
              "#9c179e"
             ],
             [
              0.4444444444444444,
              "#bd3786"
             ],
             [
              0.5555555555555556,
              "#d8576b"
             ],
             [
              0.6666666666666666,
              "#ed7953"
             ],
             [
              0.7777777777777778,
              "#fb9f3a"
             ],
             [
              0.8888888888888888,
              "#fdca26"
             ],
             [
              1,
              "#f0f921"
             ]
            ],
            "type": "histogram2dcontour"
           }
          ],
          "mesh3d": [
           {
            "colorbar": {
             "outlinewidth": 0,
             "ticks": ""
            },
            "type": "mesh3d"
           }
          ],
          "parcoords": [
           {
            "line": {
             "colorbar": {
              "outlinewidth": 0,
              "ticks": ""
             }
            },
            "type": "parcoords"
           }
          ],
          "pie": [
           {
            "automargin": true,
            "type": "pie"
           }
          ],
          "scatter": [
           {
            "fillpattern": {
             "fillmode": "overlay",
             "size": 10,
             "solidity": 0.2
            },
            "type": "scatter"
           }
          ],
          "scatter3d": [
           {
            "line": {
             "colorbar": {
              "outlinewidth": 0,
              "ticks": ""
             }
            },
            "marker": {
             "colorbar": {
              "outlinewidth": 0,
              "ticks": ""
             }
            },
            "type": "scatter3d"
           }
          ],
          "scattercarpet": [
           {
            "marker": {
             "colorbar": {
              "outlinewidth": 0,
              "ticks": ""
             }
            },
            "type": "scattercarpet"
           }
          ],
          "scattergeo": [
           {
            "marker": {
             "colorbar": {
              "outlinewidth": 0,
              "ticks": ""
             }
            },
            "type": "scattergeo"
           }
          ],
          "scattergl": [
           {
            "marker": {
             "colorbar": {
              "outlinewidth": 0,
              "ticks": ""
             }
            },
            "type": "scattergl"
           }
          ],
          "scattermap": [
           {
            "marker": {
             "colorbar": {
              "outlinewidth": 0,
              "ticks": ""
             }
            },
            "type": "scattermap"
           }
          ],
          "scattermapbox": [
           {
            "marker": {
             "colorbar": {
              "outlinewidth": 0,
              "ticks": ""
             }
            },
            "type": "scattermapbox"
           }
          ],
          "scatterpolar": [
           {
            "marker": {
             "colorbar": {
              "outlinewidth": 0,
              "ticks": ""
             }
            },
            "type": "scatterpolar"
           }
          ],
          "scatterpolargl": [
           {
            "marker": {
             "colorbar": {
              "outlinewidth": 0,
              "ticks": ""
             }
            },
            "type": "scatterpolargl"
           }
          ],
          "scatterternary": [
           {
            "marker": {
             "colorbar": {
              "outlinewidth": 0,
              "ticks": ""
             }
            },
            "type": "scatterternary"
           }
          ],
          "surface": [
           {
            "colorbar": {
             "outlinewidth": 0,
             "ticks": ""
            },
            "colorscale": [
             [
              0,
              "#0d0887"
             ],
             [
              0.1111111111111111,
              "#46039f"
             ],
             [
              0.2222222222222222,
              "#7201a8"
             ],
             [
              0.3333333333333333,
              "#9c179e"
             ],
             [
              0.4444444444444444,
              "#bd3786"
             ],
             [
              0.5555555555555556,
              "#d8576b"
             ],
             [
              0.6666666666666666,
              "#ed7953"
             ],
             [
              0.7777777777777778,
              "#fb9f3a"
             ],
             [
              0.8888888888888888,
              "#fdca26"
             ],
             [
              1,
              "#f0f921"
             ]
            ],
            "type": "surface"
           }
          ],
          "table": [
           {
            "cells": {
             "fill": {
              "color": "#EBF0F8"
             },
             "line": {
              "color": "white"
             }
            },
            "header": {
             "fill": {
              "color": "#C8D4E3"
             },
             "line": {
              "color": "white"
             }
            },
            "type": "table"
           }
          ]
         },
         "layout": {
          "annotationdefaults": {
           "arrowcolor": "#2a3f5f",
           "arrowhead": 0,
           "arrowwidth": 1
          },
          "autotypenumbers": "strict",
          "coloraxis": {
           "colorbar": {
            "outlinewidth": 0,
            "ticks": ""
           }
          },
          "colorscale": {
           "diverging": [
            [
             0,
             "#8e0152"
            ],
            [
             0.1,
             "#c51b7d"
            ],
            [
             0.2,
             "#de77ae"
            ],
            [
             0.3,
             "#f1b6da"
            ],
            [
             0.4,
             "#fde0ef"
            ],
            [
             0.5,
             "#f7f7f7"
            ],
            [
             0.6,
             "#e6f5d0"
            ],
            [
             0.7,
             "#b8e186"
            ],
            [
             0.8,
             "#7fbc41"
            ],
            [
             0.9,
             "#4d9221"
            ],
            [
             1,
             "#276419"
            ]
           ],
           "sequential": [
            [
             0,
             "#0d0887"
            ],
            [
             0.1111111111111111,
             "#46039f"
            ],
            [
             0.2222222222222222,
             "#7201a8"
            ],
            [
             0.3333333333333333,
             "#9c179e"
            ],
            [
             0.4444444444444444,
             "#bd3786"
            ],
            [
             0.5555555555555556,
             "#d8576b"
            ],
            [
             0.6666666666666666,
             "#ed7953"
            ],
            [
             0.7777777777777778,
             "#fb9f3a"
            ],
            [
             0.8888888888888888,
             "#fdca26"
            ],
            [
             1,
             "#f0f921"
            ]
           ],
           "sequentialminus": [
            [
             0,
             "#0d0887"
            ],
            [
             0.1111111111111111,
             "#46039f"
            ],
            [
             0.2222222222222222,
             "#7201a8"
            ],
            [
             0.3333333333333333,
             "#9c179e"
            ],
            [
             0.4444444444444444,
             "#bd3786"
            ],
            [
             0.5555555555555556,
             "#d8576b"
            ],
            [
             0.6666666666666666,
             "#ed7953"
            ],
            [
             0.7777777777777778,
             "#fb9f3a"
            ],
            [
             0.8888888888888888,
             "#fdca26"
            ],
            [
             1,
             "#f0f921"
            ]
           ]
          },
          "colorway": [
           "#636efa",
           "#EF553B",
           "#00cc96",
           "#ab63fa",
           "#FFA15A",
           "#19d3f3",
           "#FF6692",
           "#B6E880",
           "#FF97FF",
           "#FECB52"
          ],
          "font": {
           "color": "#2a3f5f"
          },
          "geo": {
           "bgcolor": "white",
           "lakecolor": "white",
           "landcolor": "white",
           "showlakes": true,
           "showland": true,
           "subunitcolor": "#C8D4E3"
          },
          "hoverlabel": {
           "align": "left"
          },
          "hovermode": "closest",
          "mapbox": {
           "style": "light"
          },
          "paper_bgcolor": "white",
          "plot_bgcolor": "white",
          "polar": {
           "angularaxis": {
            "gridcolor": "#EBF0F8",
            "linecolor": "#EBF0F8",
            "ticks": ""
           },
           "bgcolor": "white",
           "radialaxis": {
            "gridcolor": "#EBF0F8",
            "linecolor": "#EBF0F8",
            "ticks": ""
           }
          },
          "scene": {
           "xaxis": {
            "backgroundcolor": "white",
            "gridcolor": "#DFE8F3",
            "gridwidth": 2,
            "linecolor": "#EBF0F8",
            "showbackground": true,
            "ticks": "",
            "zerolinecolor": "#EBF0F8"
           },
           "yaxis": {
            "backgroundcolor": "white",
            "gridcolor": "#DFE8F3",
            "gridwidth": 2,
            "linecolor": "#EBF0F8",
            "showbackground": true,
            "ticks": "",
            "zerolinecolor": "#EBF0F8"
           },
           "zaxis": {
            "backgroundcolor": "white",
            "gridcolor": "#DFE8F3",
            "gridwidth": 2,
            "linecolor": "#EBF0F8",
            "showbackground": true,
            "ticks": "",
            "zerolinecolor": "#EBF0F8"
           }
          },
          "shapedefaults": {
           "line": {
            "color": "#2a3f5f"
           }
          },
          "ternary": {
           "aaxis": {
            "gridcolor": "#DFE8F3",
            "linecolor": "#A2B1C6",
            "ticks": ""
           },
           "baxis": {
            "gridcolor": "#DFE8F3",
            "linecolor": "#A2B1C6",
            "ticks": ""
           },
           "bgcolor": "white",
           "caxis": {
            "gridcolor": "#DFE8F3",
            "linecolor": "#A2B1C6",
            "ticks": ""
           }
          },
          "title": {
           "x": 0.05
          },
          "xaxis": {
           "automargin": true,
           "gridcolor": "#EBF0F8",
           "linecolor": "#EBF0F8",
           "ticks": "",
           "title": {
            "standoff": 15
           },
           "zerolinecolor": "#EBF0F8",
           "zerolinewidth": 2
          },
          "yaxis": {
           "automargin": true,
           "gridcolor": "#EBF0F8",
           "linecolor": "#EBF0F8",
           "ticks": "",
           "title": {
            "standoff": 15
           },
           "zerolinecolor": "#EBF0F8",
           "zerolinewidth": 2
          }
         }
        },
        "title": {
         "text": "Reward Evolution"
        },
        "xaxis": {
         "title": {
          "text": "Simulation Step"
         }
        },
        "yaxis": {
         "title": {
          "text": "Reward"
         }
        }
       }
      }
     },
     "metadata": {},
     "output_type": "display_data"
    }
   ],
   "source": [
    "plot_reward_evolution(rewards)"
   ]
  },
  {
   "cell_type": "code",
   "execution_count": null,
   "metadata": {},
   "outputs": [],
   "source": []
  },
  {
   "cell_type": "code",
   "execution_count": null,
   "metadata": {},
   "outputs": [],
   "source": [
    "# Close the environment to free resources\n",
    "env.close()"
   ]
  }
 ],
 "metadata": {
  "jupytext": {
   "formats": "ipynb,py:light"
  },
  "kernelspec": {
   "display_name": ".venv",
   "language": "python",
   "name": "python3"
  },
  "language_info": {
   "codemirror_mode": {
    "name": "ipython",
    "version": 3
   },
   "file_extension": ".py",
   "mimetype": "text/x-python",
   "name": "python",
   "nbconvert_exporter": "python",
   "pygments_lexer": "ipython3",
   "version": "3.11.10"
  }
 },
 "nbformat": 4,
 "nbformat_minor": 2
}

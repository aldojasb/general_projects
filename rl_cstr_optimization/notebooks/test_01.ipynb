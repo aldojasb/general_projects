{
 "cells": [
  {
   "cell_type": "code",
   "execution_count": 12,
   "metadata": {},
   "outputs": [],
   "source": [
    "\"\"\"\n",
    "CSTR (Continuously Stirred Tank Reactor) Environment Demo\n",
    "========================================================\n",
    "\n",
    "This demo showcases the CSTR environment from pc-gym, which simulates\n",
    "a continuously stirred tank reactor for chemical process control.\n",
    "\n",
    "The CSTR is a well-established model that's thoroughly tested and stable,\n",
    "making it perfect for learning and experimentation.\n",
    "\n",
    "State Variables (3 total):\n",
    "- Ca: Concentration of reactant A (mol/L)\n",
    "- T: Temperature (K)\n",
    "- Cb: Concentration of reactant B (mol/L)\n",
    "\n",
    "Action Variables (1 total):\n",
    "- Tc: Coolant temperature (K)\n",
    "\n",
    "Observations (3 total):\n",
    "- Ca, T, Cb: Concentration A, Temperature, Concentration B\n",
    "\"\"\"\n",
    "\n",
    "import numpy as np\n",
    "from pcgym import make_env\n",
    "from rl.cstr.optimization.visualization import (\n",
    "    plot_state_variables,\n",
    "    plot_control_actions,\n",
    "    plot_reward_evolution)\n",
    "from rl.cstr.optimization.load_config_files import load_and_create_env_params\n",
    "from rl.cstr.optimization.base_state_builder import denormalize_observations\n",
    "from rl.cstr.optimization.base_action_adapter import denormalize_actions"
   ]
  },
  {
   "cell_type": "code",
   "execution_count": 2,
   "metadata": {},
   "outputs": [
    {
     "name": "stdout",
     "output_type": "stream",
     "text": [
      "Configuration loaded: {'N': 30, 'tsim': 26, 'SP': {'Ca': [0.85, 0.85, 0.85, 0.9, 0.9, 0.9, 0.87, 0.87, 0.87, 0.87, 0.87, 0.87, 0.87, 0.87, 0.87, 0.87, 0.87, 0.87, 0.87, 0.87, 0.87, 0.87, 0.87, 0.87, 0.87, 0.87, 0.87, 0.87, 0.87, 0.87]}, 'o_space': {'low': array([  0.7, 300. ,   0.8]), 'high': array([  1. , 350. ,   0.9])}, 'a_space': {'low': array([295]), 'high': array([302])}, 'x0': array([  0.8, 330. ,   0.8]), 'r_scale': {'ca': 1000}, 'model': 'cstr', 'normalise_a': True, 'normalise_o': True, 'noise': True, 'integration_method': 'casadi', 'noise_percentage': 0.001}\n",
      "Action space: {'low': array([295]), 'high': array([302])}\n",
      "Observation space: {'low': array([  0.7, 300. ,   0.8]), 'high': array([  1. , 350. ,   0.9])}\n",
      "Number of steps: 30\n"
     ]
    }
   ],
   "source": [
    "# ============================================================================\n",
    "# ENVIRONMENT SETUP\n",
    "# ============================================================================\n",
    "\n",
    "# Load configuration from YAML file\n",
    "config_path = \"/workspace/general_projects/rl_cstr_optimization/config/environments/cstr_environment.yaml\"\n",
    "env_params = load_and_create_env_params(config_path)\n",
    "\n",
    "# Extract action space bounds from env_params for use in the notebook\n",
    "a_space = env_params['a_space']\n",
    "o_space = env_params['o_space']\n",
    "nsteps = env_params['N']\n",
    "\n",
    "print(f\"Configuration loaded: {env_params}\")\n",
    "print(f\"Action space: {a_space}\")\n",
    "print(f\"Observation space: {o_space}\")\n",
    "print(f\"Number of steps: {nsteps}\")\n"
   ]
  },
  {
   "cell_type": "code",
   "execution_count": 3,
   "metadata": {},
   "outputs": [
    {
     "name": "stdout",
     "output_type": "stream",
     "text": [
      "============================================================\n",
      "CSTR REACTOR DEMO - 30 STEP SIMULATION\n",
      "============================================================\n",
      "Initial observation (normalized): [-0.33333328  0.2        -1.00000024]\n",
      "Initial observation (real values):\n",
      "  Ca: 0.8000000079472857\n",
      "  T:  330.0\n",
      "  Cb: 0.7999999880790669\n",
      "Observation shape: (3,)\n",
      "Action space: Box(-1.0, 1.0, (1,), float32)\n",
      "Observation space: Box(-1.0, 1.0, (3,), float32)\n",
      "============================================================\n"
     ]
    },
    {
     "name": "stderr",
     "output_type": "stream",
     "text": [
      "/workspace/general_projects/rl_cstr_optimization/.venv/lib/python3.11/site-packages/gymnasium/spaces/box.py:236: UserWarning: \u001b[33mWARN: Box low's precision lowered by casting to float32, current low.dtype=float64\u001b[0m\n",
      "  gym.logger.warn(\n",
      "/workspace/general_projects/rl_cstr_optimization/.venv/lib/python3.11/site-packages/gymnasium/spaces/box.py:306: UserWarning: \u001b[33mWARN: Box high's precision lowered by casting to float32, current high.dtype=float64\u001b[0m\n",
      "  gym.logger.warn(\n"
     ]
    }
   ],
   "source": [
    "# Create the CSTR environment with proper parameters\n",
    "# The environment simulates a continuously stirred tank reactor for chemical process control\n",
    "env = make_env(env_params)\n",
    "\n",
    "# Reset the environment to get initial state\n",
    "# This returns the initial observation (concentrations at reactor outlet)\n",
    "initial_observation, initial_info = env.reset()\n",
    "\n",
    "print(\"=\" * 60)\n",
    "print(f\"CSTR REACTOR DEMO - {nsteps} STEP SIMULATION\")\n",
    "print(\"=\" * 60)\n",
    "print(f\"Initial observation (normalized): {initial_observation}\")\n",
    "\n",
    "# Denormalize the initial observation for better understanding\n",
    "initial_real = denormalize_observations(initial_observation, o_space)\n",
    "\n",
    "print(f\"Initial observation (real values):\")\n",
    "print(f\"  Ca: {initial_real[0]}\")\n",
    "print(f\"  T:  {initial_real[1]}\")\n",
    "print(f\"  Cb: {initial_real[2]}\")\n",
    "\n",
    "print(f\"Observation shape: {initial_observation.shape}\")\n",
    "print(f\"Action space: {env.action_space}\")\n",
    "print(f\"Observation space: {env.observation_space}\")\n",
    "print(\"=\" * 60)"
   ]
  },
  {
   "cell_type": "code",
   "execution_count": 4,
   "metadata": {},
   "outputs": [],
   "source": [
    "# ============================================================================\n",
    "# DATA STORAGE FOR ANALYSIS\n",
    "# ============================================================================\n",
    "\n",
    "# Lists to store data for visualization and analysis\n",
    "observations = [initial_observation]  # Store all observations (concentrations at outlet)\n",
    "actions = []       # Store all actions taken\n",
    "rewards = []       # Store all rewards received\n",
    "states = []        # Store full state information if available\n",
    "denorm_actions = [] # Store denormalized actions\n",
    "denorm_observations = [] # Store denormalized observations"
   ]
  },
  {
   "cell_type": "code",
   "execution_count": 5,
   "metadata": {},
   "outputs": [
    {
     "name": "stdout",
     "output_type": "stream",
     "text": [
      "\n",
      "Starting 30-step simulation...\n",
      "----------------------------------------\n",
      "\n",
      "Step 1/30:\n",
      " Normalized action: [0.5]\n",
      " Denormalized action: 298.5\n",
      "  New observation (normalized): [-1.39431738e-01  4.27802928e-02  1.19209332e-07]\n",
      "  New observation (real values):\n",
      "    Ca: 0.8290852392990233\n",
      "    T:  326.06950731944204\n",
      "    Cb: 0.8500000059604667\n",
      "  Reward: -0.0004\n",
      "  Terminated: False\n",
      "  Truncated: False\n",
      "\n",
      "Step 2/30:\n",
      " Normalized action: [0.5]\n",
      " Denormalized action: 298.5\n",
      "  New observation (normalized): [ 2.29272865e-02 -4.62370631e-03  1.19209332e-07]\n",
      "  New observation (real values):\n",
      "    Ca: 0.853439092977454\n",
      "    T:  324.8844073421685\n",
      "    Cb: 0.8500000059604667\n",
      "  Reward: -0.0000\n",
      "  Terminated: False\n",
      "  Truncated: False\n",
      "\n",
      "Step 3/30:\n",
      " Normalized action: [0.5]\n",
      " Denormalized action: 298.5\n",
      "  New observation (normalized): [1.09029591e-01 2.90935272e-03 1.19209332e-07]\n",
      "  New observation (real values):\n",
      "    Ca: 0.8663544385765342\n",
      "    T:  325.0727338181229\n",
      "    Cb: 0.8500000059604667\n",
      "  Reward: -0.0011\n",
      "  Terminated: False\n",
      "  Truncated: False\n",
      "\n",
      "Step 4/30:\n",
      " Normalized action: [0.5]\n",
      " Denormalized action: 298.5\n",
      "  New observation (normalized): [ 0.14198983 -0.00851837  1.00000048]\n",
      "  New observation (real values):\n",
      "    Ca: 0.8712984748109668\n",
      "    T:  324.7870407865101\n",
      "    Cb: 0.9000000238418665\n",
      "  Reward: -0.0008\n",
      "  Terminated: False\n",
      "  Truncated: False\n",
      "\n",
      "Step 5/30:\n",
      " Normalized action: [0.5]\n",
      " Denormalized action: 298.5\n",
      "  New observation (normalized): [ 0.15641439 -0.00195521  1.00000048]\n",
      "  New observation (real values):\n",
      "    Ca: 0.8734621587317235\n",
      "    T:  324.95111973169236\n",
      "    Cb: 0.9000000238418665\n",
      "  Reward: -0.0007\n",
      "  Terminated: False\n",
      "  Truncated: False\n",
      "\n",
      "Step 6/30:\n",
      " Normalized action: [0.5]\n",
      " Denormalized action: 298.5\n",
      "  New observation (normalized): [ 0.16513344 -0.00455692  1.00000048]\n",
      "  New observation (real values):\n",
      "    Ca: 0.8747700165851264\n",
      "    T:  324.88607697317093\n",
      "    Cb: 0.9000000238418665\n",
      "  Reward: -0.0000\n",
      "  Terminated: False\n",
      "  Truncated: False\n",
      "\n",
      "Step 7/30:\n",
      " Normalized action: [0.5]\n",
      " Denormalized action: 298.5\n",
      "  New observation (normalized): [ 0.15930634 -0.008605    0.40000026]\n",
      "  New observation (real values):\n",
      "    Ca: 0.8738959517097783\n",
      "    T:  324.78487511213956\n",
      "    Cb: 0.8700000131130265\n",
      "  Reward: -0.0000\n",
      "  Terminated: False\n",
      "  Truncated: False\n",
      "\n",
      "Step 8/30:\n",
      " Normalized action: [0.5]\n",
      " Denormalized action: 298.5\n",
      "  New observation (normalized): [0.16334002 0.00938181 0.40000026]\n",
      "  New observation (real values):\n",
      "    Ca: 0.8745010036629256\n",
      "    T:  325.2345452962001\n",
      "    Cb: 0.8700000131130265\n",
      "  Reward: -0.0000\n",
      "  Terminated: False\n",
      "  Truncated: False\n",
      "\n",
      "Step 9/30:\n",
      " Normalized action: [0.5]\n",
      " Denormalized action: 298.5\n",
      "  New observation (normalized): [ 0.16532088 -0.00882918  0.40000026]\n",
      "  New observation (real values):\n",
      "    Ca: 0.8747981317157333\n",
      "    T:  324.7792703836148\n",
      "    Cb: 0.8700000131130265\n",
      "  Reward: -0.0000\n",
      "  Terminated: False\n",
      "  Truncated: False\n",
      "\n",
      "Step 10/30:\n",
      " Normalized action: [0.5]\n",
      " Denormalized action: 298.5\n",
      "  New observation (normalized): [ 0.15836135 -0.03028142  0.40000026]\n",
      "  New observation (real values):\n",
      "    Ca: 0.8737542025420254\n",
      "    T:  324.2429644949424\n",
      "    Cb: 0.8700000131130265\n",
      "  Reward: -0.0000\n",
      "  Terminated: False\n",
      "  Truncated: False\n",
      "\n",
      "Step 11/30:\n",
      " Normalized action: [0.5]\n",
      " Denormalized action: 298.5\n",
      "  New observation (normalized): [ 0.14560692 -0.0204749   0.40000026]\n",
      "  New observation (real values):\n",
      "    Ca: 0.8718410387043787\n",
      "    T:  324.48812757594396\n",
      "    Cb: 0.8700000131130265\n",
      "  Reward: -0.0000\n",
      "  Terminated: False\n",
      "  Truncated: False\n",
      "\n",
      "Step 12/30:\n",
      " Normalized action: [0.5]\n",
      " Denormalized action: 298.5\n",
      "  New observation (normalized): [0.15400488 0.00920109 0.40000026]\n",
      "  New observation (real values):\n",
      "    Ca: 0.8731007315236422\n",
      "    T:  325.2300271383592\n",
      "    Cb: 0.8700000131130265\n",
      "  Reward: -0.0000\n",
      "  Terminated: False\n",
      "  Truncated: False\n",
      "\n",
      "Step 13/30:\n",
      " Normalized action: [0.5]\n",
      " Denormalized action: 298.5\n",
      "  New observation (normalized): [0.1494004  0.00124539 0.40000026]\n",
      "  New observation (real values):\n",
      "    Ca: 0.8724100598746656\n",
      "    T:  325.03113477246904\n",
      "    Cb: 0.8700000131130265\n",
      "  Reward: -0.0000\n",
      "  Terminated: False\n",
      "  Truncated: False\n",
      "\n",
      "Step 14/30:\n",
      " Normalized action: [0.5]\n",
      " Denormalized action: 298.5\n",
      "  New observation (normalized): [0.16282066 0.00883432 0.40000026]\n",
      "  New observation (real values):\n",
      "    Ca: 0.8744230996401992\n",
      "    T:  325.2208579950559\n",
      "    Cb: 0.8700000131130265\n",
      "  Reward: -0.0000\n",
      "  Terminated: False\n",
      "  Truncated: False\n",
      "\n",
      "Step 15/30:\n",
      " Normalized action: [0.5]\n",
      " Denormalized action: 298.5\n",
      "  New observation (normalized): [0.14880435 0.01737754 0.40000026]\n",
      "  New observation (real values):\n",
      "    Ca: 0.8723206520599527\n",
      "    T:  325.4344384703834\n",
      "    Cb: 0.8700000131130265\n",
      "  Reward: -0.0000\n",
      "  Terminated: False\n",
      "  Truncated: False\n",
      "\n",
      "Step 16/30:\n",
      " Normalized action: [0.5]\n",
      " Denormalized action: 298.5\n",
      "  New observation (normalized): [ 0.1586632  -0.01446104  0.40000026]\n",
      "  New observation (real values):\n",
      "    Ca: 0.8737994805380712\n",
      "    T:  324.6384741070166\n",
      "    Cb: 0.8700000131130265\n",
      "  Reward: -0.0000\n",
      "  Terminated: False\n",
      "  Truncated: False\n",
      "\n",
      "Step 17/30:\n",
      " Normalized action: [0.5]\n",
      " Denormalized action: 298.5\n",
      "  New observation (normalized): [ 0.15010699 -0.02172336  0.40000026]\n",
      "  New observation (real values):\n",
      "    Ca: 0.8725160483258294\n",
      "    T:  324.4569160262353\n",
      "    Cb: 0.8700000131130265\n",
      "  Reward: -0.0000\n",
      "  Terminated: False\n",
      "  Truncated: False\n",
      "\n",
      "Step 18/30:\n",
      " Normalized action: [0.5]\n",
      " Denormalized action: 298.5\n",
      "  New observation (normalized): [ 0.15447789 -0.00063929  0.40000026]\n",
      "  New observation (real values):\n",
      "    Ca: 0.8731716841706781\n",
      "    T:  324.98401773036784\n",
      "    Cb: 0.8700000131130265\n",
      "  Reward: -0.0000\n",
      "  Terminated: False\n",
      "  Truncated: False\n",
      "\n",
      "Step 19/30:\n",
      " Normalized action: [0.5]\n",
      " Denormalized action: 298.5\n",
      "  New observation (normalized): [ 0.15422392 -0.00385248  0.40000026]\n",
      "  New observation (real values):\n",
      "    Ca: 0.8731335886329429\n",
      "    T:  324.90368787729204\n",
      "    Cb: 0.8700000131130265\n",
      "  Reward: -0.0000\n",
      "  Terminated: False\n",
      "  Truncated: False\n",
      "\n",
      "Step 20/30:\n",
      " Normalized action: [0.5]\n",
      " Denormalized action: 298.5\n",
      "  New observation (normalized): [ 0.14832863 -0.00353137  0.40000026]\n",
      "  New observation (real values):\n",
      "    Ca: 0.8722492949886606\n",
      "    T:  324.91171577532066\n",
      "    Cb: 0.8700000131130265\n",
      "  Reward: -0.0000\n",
      "  Terminated: False\n",
      "  Truncated: False\n",
      "\n",
      "Step 21/30:\n",
      " Normalized action: [0.5]\n",
      " Denormalized action: 298.5\n",
      "  New observation (normalized): [ 0.15423158 -0.00755098  0.40000026]\n",
      "  New observation (real values):\n",
      "    Ca: 0.8731347377137895\n",
      "    T:  324.81122542124564\n",
      "    Cb: 0.8700000131130265\n",
      "  Reward: -0.0000\n",
      "  Terminated: False\n",
      "  Truncated: False\n",
      "\n",
      "Step 22/30:\n",
      " Normalized action: [0.5]\n",
      " Denormalized action: 298.5\n",
      "  New observation (normalized): [0.14650968 0.00210032 0.40000026]\n",
      "  New observation (real values):\n",
      "    Ca: 0.8719764514388765\n",
      "    T:  325.0525079092121\n",
      "    Cb: 0.8700000131130265\n",
      "  Reward: -0.0000\n",
      "  Terminated: False\n",
      "  Truncated: False\n",
      "\n",
      "Step 23/30:\n",
      " Normalized action: [0.5]\n",
      " Denormalized action: 298.5\n",
      "  New observation (normalized): [ 0.1537761  -0.00457191  0.40000026]\n",
      "  New observation (real values):\n",
      "    Ca: 0.8730664145342502\n",
      "    T:  324.88570222945015\n",
      "    Cb: 0.8700000131130265\n",
      "  Reward: -0.0000\n",
      "  Terminated: False\n",
      "  Truncated: False\n",
      "\n",
      "Step 24/30:\n",
      " Normalized action: [0.5]\n",
      " Denormalized action: 298.5\n",
      "  New observation (normalized): [ 0.15018334 -0.00879735  0.40000026]\n",
      "  New observation (real values):\n",
      "    Ca: 0.8725275014371086\n",
      "    T:  324.7800663477909\n",
      "    Cb: 0.8700000131130265\n",
      "  Reward: -0.0000\n",
      "  Terminated: False\n",
      "  Truncated: False\n",
      "\n",
      "Step 25/30:\n",
      " Normalized action: [0.5]\n",
      " Denormalized action: 298.5\n",
      "  New observation (normalized): [ 0.15572061 -0.02322945  0.40000026]\n",
      "  New observation (real values):\n",
      "    Ca: 0.8733580918804962\n",
      "    T:  324.4192637862679\n",
      "    Cb: 0.8700000131130265\n",
      "  Reward: -0.0000\n",
      "  Terminated: False\n",
      "  Truncated: False\n",
      "\n",
      "Step 26/30:\n",
      " Normalized action: [0.5]\n",
      " Denormalized action: 298.5\n",
      "  New observation (normalized): [ 0.15444647 -0.01921438  0.40000026]\n",
      "  New observation (real values):\n",
      "    Ca: 0.8731669706703767\n",
      "    T:  324.5196405938458\n",
      "    Cb: 0.8700000131130265\n",
      "  Reward: -0.0000\n",
      "  Terminated: False\n",
      "  Truncated: False\n",
      "\n",
      "Step 27/30:\n",
      " Normalized action: [0.5]\n",
      " Denormalized action: 298.5\n",
      "  New observation (normalized): [ 0.15880303 -0.01732265  0.40000026]\n",
      "  New observation (real values):\n",
      "    Ca: 0.8738204548841579\n",
      "    T:  324.56693363298984\n",
      "    Cb: 0.8700000131130265\n",
      "  Reward: -0.0000\n",
      "  Terminated: False\n",
      "  Truncated: False\n",
      "\n",
      "Step 28/30:\n",
      " Normalized action: [0.5]\n",
      " Denormalized action: 298.5\n",
      "  New observation (normalized): [ 0.16807128 -0.0050512   0.40000026]\n",
      "  New observation (real values):\n",
      "    Ca: 0.8752106919820555\n",
      "    T:  324.8737198770198\n",
      "    Cb: 0.8700000131130265\n",
      "  Reward: -0.0000\n",
      "  Terminated: False\n",
      "  Truncated: False\n",
      "\n",
      "Step 29/30:\n",
      " Normalized action: [0.5]\n",
      " Denormalized action: 298.5\n",
      "  New observation (normalized): [0.161374   0.01928385 0.40000026]\n",
      "  New observation (real values):\n",
      "    Ca: 0.8742061000678785\n",
      "    T:  325.48209634826827\n",
      "    Cb: 0.8700000131130265\n",
      "  Reward: -0.0000\n",
      "  Terminated: True\n",
      "  Truncated: False\n",
      "  Episode ended at step 29\n"
     ]
    }
   ],
   "source": [
    "# ============================================================================\n",
    "# MAIN SIMULATION LOOP - nsteps STEPS\n",
    "# ============================================================================\n",
    "\n",
    "print(f\"\\nStarting {nsteps}-step simulation...\")\n",
    "print(\"-\" * 40)\n",
    "\n",
    "for step in range(nsteps):\n",
    "    print(f\"\\nStep {step + 1}/{nsteps}:\")\n",
    "\n",
    "    # ========================================================================\n",
    "    # ACTION SELECTION\n",
    "    # ========================================================================\n",
    "    \n",
    "    # For this demo, we'll use a simple strategy:\n",
    "    # - Moderate coolant temperature control\n",
    "    # - Stay within the safe operating range\n",
    "    \n",
    "    # Since actions are normalized, we need to provide values between 0 and 1\n",
    "    # These will be automatically scaled to the actual bounds defined in env_params\n",
    "    action = np.array([\n",
    "        0.5,    # Tc: Coolant temperature (normalized) - moderate value\n",
    "    ])\n",
    "    \n",
    "    # Denormalize: actual_value = low + (normalized_value * (high - low))\n",
    "    denorm_action = denormalize_actions(action, a_space)\n",
    "    \n",
    "    \n",
    "    # ========================================================================\n",
    "    # ENVIRONMENT STEP\n",
    "    # ========================================================================\n",
    "    \n",
    "    # Execute the action in the environment\n",
    "    # This advances the simulation by one time step\n",
    "    # Returns: new_observation, reward, terminated, truncated, info\n",
    "    observation, reward, terminated, truncated, info = env.step(action)\n",
    "    \n",
    "    # Denormalize observation for better understanding\n",
    "    denorm_observation = denormalize_observations(observation, o_space)\n",
    "\n",
    "    print(f\" Normalized action: {action}\")\n",
    "    print(f\" Denormalized action: {denorm_action}\")\n",
    "    print(f\"  New observation (normalized): {observation}\")\n",
    "    print(f\"  New observation (real values):\")\n",
    "    print(f\"    Ca: {denorm_observation[0]}\")\n",
    "    print(f\"    T:  {denorm_observation[1]}\")\n",
    "    print(f\"    Cb: {denorm_observation[2]}\")\n",
    "    print(f\"  Reward: {reward:.4f}\")\n",
    "    print(f\"  Terminated: {terminated}\")\n",
    "    print(f\"  Truncated: {truncated}\")\n",
    "    \n",
    "    # ========================================================================\n",
    "    # DATA STORAGE\n",
    "    # ========================================================================\n",
    "    \n",
    "    # Store the data for later analysis\n",
    "    observations.append(observation.copy())\n",
    "    actions.append(action.copy())\n",
    "    rewards.append(reward)\n",
    "    denorm_actions.append(denorm_action.copy())\n",
    "    denorm_observations.append(denorm_observation.copy())\n",
    "    \n",
    "    # ========================================================================\n",
    "    # TERMINATION CHECK\n",
    "    # ========================================================================\n",
    "    \n",
    "    # Check if the episode has ended\n",
    "    if terminated or truncated:\n",
    "        print(f\"  Episode ended at step {step + 1}\")\n",
    "        break\n"
   ]
  },
  {
   "cell_type": "code",
   "execution_count": 6,
   "metadata": {},
   "outputs": [
    {
     "name": "stdout",
     "output_type": "stream",
     "text": [
      "\n",
      "============================================================\n",
      "SIMULATION COMPLETE - ANALYSIS\n",
      "============================================================\n",
      "Total steps completed: 30\n",
      "Average reward: -0.0001\n",
      "Total reward: -0.0034\n",
      "Denormalized actions: [298.5 298.5 298.5 298.5 298.5 298.5 298.5 298.5 298.5 298.5 298.5 298.5\n",
      " 298.5 298.5 298.5 298.5 298.5 298.5 298.5 298.5 298.5 298.5 298.5 298.5\n",
      " 298.5 298.5 298.5 298.5 298.5]\n",
      "Denormalized observations: [[  0.82908524 326.06950732   0.85000001]\n",
      " [  0.85343909 324.88440734   0.85000001]\n",
      " [  0.86635444 325.07273382   0.85000001]\n",
      " [  0.87129847 324.78704079   0.90000002]\n",
      " [  0.87346216 324.95111973   0.90000002]\n",
      " [  0.87477002 324.88607697   0.90000002]\n",
      " [  0.87389595 324.78487511   0.87000001]\n",
      " [  0.874501   325.2345453    0.87000001]\n",
      " [  0.87479813 324.77927038   0.87000001]\n",
      " [  0.8737542  324.24296449   0.87000001]\n",
      " [  0.87184104 324.48812758   0.87000001]\n",
      " [  0.87310073 325.23002714   0.87000001]\n",
      " [  0.87241006 325.03113477   0.87000001]\n",
      " [  0.8744231  325.220858     0.87000001]\n",
      " [  0.87232065 325.43443847   0.87000001]\n",
      " [  0.87379948 324.63847411   0.87000001]\n",
      " [  0.87251605 324.45691603   0.87000001]\n",
      " [  0.87317168 324.98401773   0.87000001]\n",
      " [  0.87313359 324.90368788   0.87000001]\n",
      " [  0.87224929 324.91171578   0.87000001]\n",
      " [  0.87313474 324.81122542   0.87000001]\n",
      " [  0.87197645 325.05250791   0.87000001]\n",
      " [  0.87306641 324.88570223   0.87000001]\n",
      " [  0.8725275  324.78006635   0.87000001]\n",
      " [  0.87335809 324.41926379   0.87000001]\n",
      " [  0.87316697 324.51964059   0.87000001]\n",
      " [  0.87382045 324.56693363   0.87000001]\n",
      " [  0.87521069 324.87371988   0.87000001]\n",
      " [  0.8742061  325.48209635   0.87000001]]\n"
     ]
    }
   ],
   "source": [
    "# ============================================================================\n",
    "# SIMULATION COMPLETE - ANALYSIS AND VISUALIZATION\n",
    "# ============================================================================\n",
    "\n",
    "print(\"\\n\" + \"=\" * 60)\n",
    "print(\"SIMULATION COMPLETE - ANALYSIS\")\n",
    "print(\"=\" * 60)\n",
    "\n",
    "# Convert lists to numpy arrays for easier analysis\n",
    "observations = np.array(observations)\n",
    "actions = np.array(actions)\n",
    "rewards = np.array(rewards)\n",
    "denorm_actions = np.array(denorm_actions)\n",
    "denorm_observations = np.array(denorm_observations)\n",
    "\n",
    "print(f\"Total steps completed: {len(observations)}\")\n",
    "print(f\"Average reward: {np.mean(rewards):.4f}\")\n",
    "print(f\"Total reward: {np.sum(rewards):.4f}\")\n",
    "print(f\"Denormalized actions: {denorm_actions}\")\n",
    "print(f\"Denormalized observations: {denorm_observations}\")"
   ]
  },
  {
   "cell_type": "code",
   "execution_count": 7,
   "metadata": {},
   "outputs": [],
   "source": [
    "# ============================================================================\n",
    "# VISUALIZATION\n",
    "# ============================================================================"
   ]
  },
  {
   "cell_type": "code",
   "execution_count": 13,
   "metadata": {},
   "outputs": [
    {
     "ename": "TypeError",
     "evalue": "plot_state_variables() takes 1 positional argument but 2 were given",
     "output_type": "error",
     "traceback": [
      "\u001b[31m---------------------------------------------------------------------------\u001b[39m",
      "\u001b[31mTypeError\u001b[39m                                 Traceback (most recent call last)",
      "\u001b[36mCell\u001b[39m\u001b[36m \u001b[39m\u001b[32mIn[13]\u001b[39m\u001b[32m, line 26\u001b[39m\n\u001b[32m      1\u001b[39m \u001b[38;5;66;03m# Create all four plots\u001b[39;00m\n\u001b[32m      2\u001b[39m variable_definitions = [\n\u001b[32m      3\u001b[39m     {\n\u001b[32m      4\u001b[39m         \u001b[33m'\u001b[39m\u001b[33mname\u001b[39m\u001b[33m'\u001b[39m: \u001b[33m'\u001b[39m\u001b[33mCa (Concentration A)\u001b[39m\u001b[33m'\u001b[39m,\n\u001b[32m   (...)\u001b[39m\u001b[32m     23\u001b[39m     }\n\u001b[32m     24\u001b[39m ]\n\u001b[32m---> \u001b[39m\u001b[32m26\u001b[39m \u001b[43mplot_state_variables\u001b[49m\u001b[43m(\u001b[49m\u001b[43mdenorm_observations\u001b[49m\u001b[43m,\u001b[49m\u001b[43m \u001b[49m\u001b[43mvariable_definitions\u001b[49m\u001b[43m)\u001b[49m\n",
      "\u001b[31mTypeError\u001b[39m: plot_state_variables() takes 1 positional argument but 2 were given"
     ]
    }
   ],
   "source": [
    "# Create all four plots\n",
    "variable_definitions = [\n",
    "    {\n",
    "        'name': 'Ca (Concentration A)',\n",
    "        'index': 0,\n",
    "        'color': 'blue',\n",
    "        'symbol': 'circle',\n",
    "        'yaxis_title': 'Concentration (mol/L)'\n",
    "    },\n",
    "    {\n",
    "        'name': 'T (Temperature)',\n",
    "        'index': 1,\n",
    "        'color': 'red',\n",
    "        'symbol': 'square',\n",
    "        'yaxis_title': 'Temperature (K)'\n",
    "    },\n",
    "    {\n",
    "        'name': 'Cb (Concentration B)',\n",
    "        'index': 2,\n",
    "        'color': 'green',\n",
    "        'symbol': 'triangle-up',\n",
    "        'yaxis_title': 'Concentration (mol/L)'\n",
    "    }\n",
    "]\n",
    "\n",
    "plot_state_variables(denorm_observations, variable_definitions)"
   ]
  },
  {
   "cell_type": "code",
   "execution_count": 9,
   "metadata": {},
   "outputs": [
    {
     "data": {
      "application/vnd.plotly.v1+json": {
       "config": {
        "plotlyServerURL": "https://plot.ly"
       },
       "data": [
        {
         "line": {
          "color": "blue",
          "width": 3
         },
         "marker": {
          "size": 8,
          "symbol": "circle"
         },
         "mode": "lines+markers",
         "name": "Tc (Coolant Temperature)",
         "type": "scatter",
         "x": [
          1,
          2,
          3,
          4,
          5,
          6,
          7,
          8,
          9,
          10,
          11,
          12,
          13,
          14,
          15,
          16,
          17,
          18,
          19,
          20,
          21,
          22,
          23,
          24,
          25,
          26,
          27,
          28,
          29
         ],
         "y": {
          "bdata": "AAAAAACockAAAAAAAKhyQAAAAAAAqHJAAAAAAACockAAAAAAAKhyQAAAAAAAqHJAAAAAAACockAAAAAAAKhyQAAAAAAAqHJAAAAAAACockAAAAAAAKhyQAAAAAAAqHJAAAAAAACockAAAAAAAKhyQAAAAAAAqHJAAAAAAACockAAAAAAAKhyQAAAAAAAqHJAAAAAAACockAAAAAAAKhyQAAAAAAAqHJAAAAAAACockAAAAAAAKhyQAAAAAAAqHJAAAAAAACockAAAAAAAKhyQAAAAAAAqHJAAAAAAACockAAAAAAAKhyQA==",
          "dtype": "f8"
         }
        }
       ],
       "layout": {
        "height": 500,
        "template": {
         "data": {
          "bar": [
           {
            "error_x": {
             "color": "#2a3f5f"
            },
            "error_y": {
             "color": "#2a3f5f"
            },
            "marker": {
             "line": {
              "color": "white",
              "width": 0.5
             },
             "pattern": {
              "fillmode": "overlay",
              "size": 10,
              "solidity": 0.2
             }
            },
            "type": "bar"
           }
          ],
          "barpolar": [
           {
            "marker": {
             "line": {
              "color": "white",
              "width": 0.5
             },
             "pattern": {
              "fillmode": "overlay",
              "size": 10,
              "solidity": 0.2
             }
            },
            "type": "barpolar"
           }
          ],
          "carpet": [
           {
            "aaxis": {
             "endlinecolor": "#2a3f5f",
             "gridcolor": "#C8D4E3",
             "linecolor": "#C8D4E3",
             "minorgridcolor": "#C8D4E3",
             "startlinecolor": "#2a3f5f"
            },
            "baxis": {
             "endlinecolor": "#2a3f5f",
             "gridcolor": "#C8D4E3",
             "linecolor": "#C8D4E3",
             "minorgridcolor": "#C8D4E3",
             "startlinecolor": "#2a3f5f"
            },
            "type": "carpet"
           }
          ],
          "choropleth": [
           {
            "colorbar": {
             "outlinewidth": 0,
             "ticks": ""
            },
            "type": "choropleth"
           }
          ],
          "contour": [
           {
            "colorbar": {
             "outlinewidth": 0,
             "ticks": ""
            },
            "colorscale": [
             [
              0,
              "#0d0887"
             ],
             [
              0.1111111111111111,
              "#46039f"
             ],
             [
              0.2222222222222222,
              "#7201a8"
             ],
             [
              0.3333333333333333,
              "#9c179e"
             ],
             [
              0.4444444444444444,
              "#bd3786"
             ],
             [
              0.5555555555555556,
              "#d8576b"
             ],
             [
              0.6666666666666666,
              "#ed7953"
             ],
             [
              0.7777777777777778,
              "#fb9f3a"
             ],
             [
              0.8888888888888888,
              "#fdca26"
             ],
             [
              1,
              "#f0f921"
             ]
            ],
            "type": "contour"
           }
          ],
          "contourcarpet": [
           {
            "colorbar": {
             "outlinewidth": 0,
             "ticks": ""
            },
            "type": "contourcarpet"
           }
          ],
          "heatmap": [
           {
            "colorbar": {
             "outlinewidth": 0,
             "ticks": ""
            },
            "colorscale": [
             [
              0,
              "#0d0887"
             ],
             [
              0.1111111111111111,
              "#46039f"
             ],
             [
              0.2222222222222222,
              "#7201a8"
             ],
             [
              0.3333333333333333,
              "#9c179e"
             ],
             [
              0.4444444444444444,
              "#bd3786"
             ],
             [
              0.5555555555555556,
              "#d8576b"
             ],
             [
              0.6666666666666666,
              "#ed7953"
             ],
             [
              0.7777777777777778,
              "#fb9f3a"
             ],
             [
              0.8888888888888888,
              "#fdca26"
             ],
             [
              1,
              "#f0f921"
             ]
            ],
            "type": "heatmap"
           }
          ],
          "histogram": [
           {
            "marker": {
             "pattern": {
              "fillmode": "overlay",
              "size": 10,
              "solidity": 0.2
             }
            },
            "type": "histogram"
           }
          ],
          "histogram2d": [
           {
            "colorbar": {
             "outlinewidth": 0,
             "ticks": ""
            },
            "colorscale": [
             [
              0,
              "#0d0887"
             ],
             [
              0.1111111111111111,
              "#46039f"
             ],
             [
              0.2222222222222222,
              "#7201a8"
             ],
             [
              0.3333333333333333,
              "#9c179e"
             ],
             [
              0.4444444444444444,
              "#bd3786"
             ],
             [
              0.5555555555555556,
              "#d8576b"
             ],
             [
              0.6666666666666666,
              "#ed7953"
             ],
             [
              0.7777777777777778,
              "#fb9f3a"
             ],
             [
              0.8888888888888888,
              "#fdca26"
             ],
             [
              1,
              "#f0f921"
             ]
            ],
            "type": "histogram2d"
           }
          ],
          "histogram2dcontour": [
           {
            "colorbar": {
             "outlinewidth": 0,
             "ticks": ""
            },
            "colorscale": [
             [
              0,
              "#0d0887"
             ],
             [
              0.1111111111111111,
              "#46039f"
             ],
             [
              0.2222222222222222,
              "#7201a8"
             ],
             [
              0.3333333333333333,
              "#9c179e"
             ],
             [
              0.4444444444444444,
              "#bd3786"
             ],
             [
              0.5555555555555556,
              "#d8576b"
             ],
             [
              0.6666666666666666,
              "#ed7953"
             ],
             [
              0.7777777777777778,
              "#fb9f3a"
             ],
             [
              0.8888888888888888,
              "#fdca26"
             ],
             [
              1,
              "#f0f921"
             ]
            ],
            "type": "histogram2dcontour"
           }
          ],
          "mesh3d": [
           {
            "colorbar": {
             "outlinewidth": 0,
             "ticks": ""
            },
            "type": "mesh3d"
           }
          ],
          "parcoords": [
           {
            "line": {
             "colorbar": {
              "outlinewidth": 0,
              "ticks": ""
             }
            },
            "type": "parcoords"
           }
          ],
          "pie": [
           {
            "automargin": true,
            "type": "pie"
           }
          ],
          "scatter": [
           {
            "fillpattern": {
             "fillmode": "overlay",
             "size": 10,
             "solidity": 0.2
            },
            "type": "scatter"
           }
          ],
          "scatter3d": [
           {
            "line": {
             "colorbar": {
              "outlinewidth": 0,
              "ticks": ""
             }
            },
            "marker": {
             "colorbar": {
              "outlinewidth": 0,
              "ticks": ""
             }
            },
            "type": "scatter3d"
           }
          ],
          "scattercarpet": [
           {
            "marker": {
             "colorbar": {
              "outlinewidth": 0,
              "ticks": ""
             }
            },
            "type": "scattercarpet"
           }
          ],
          "scattergeo": [
           {
            "marker": {
             "colorbar": {
              "outlinewidth": 0,
              "ticks": ""
             }
            },
            "type": "scattergeo"
           }
          ],
          "scattergl": [
           {
            "marker": {
             "colorbar": {
              "outlinewidth": 0,
              "ticks": ""
             }
            },
            "type": "scattergl"
           }
          ],
          "scattermap": [
           {
            "marker": {
             "colorbar": {
              "outlinewidth": 0,
              "ticks": ""
             }
            },
            "type": "scattermap"
           }
          ],
          "scattermapbox": [
           {
            "marker": {
             "colorbar": {
              "outlinewidth": 0,
              "ticks": ""
             }
            },
            "type": "scattermapbox"
           }
          ],
          "scatterpolar": [
           {
            "marker": {
             "colorbar": {
              "outlinewidth": 0,
              "ticks": ""
             }
            },
            "type": "scatterpolar"
           }
          ],
          "scatterpolargl": [
           {
            "marker": {
             "colorbar": {
              "outlinewidth": 0,
              "ticks": ""
             }
            },
            "type": "scatterpolargl"
           }
          ],
          "scatterternary": [
           {
            "marker": {
             "colorbar": {
              "outlinewidth": 0,
              "ticks": ""
             }
            },
            "type": "scatterternary"
           }
          ],
          "surface": [
           {
            "colorbar": {
             "outlinewidth": 0,
             "ticks": ""
            },
            "colorscale": [
             [
              0,
              "#0d0887"
             ],
             [
              0.1111111111111111,
              "#46039f"
             ],
             [
              0.2222222222222222,
              "#7201a8"
             ],
             [
              0.3333333333333333,
              "#9c179e"
             ],
             [
              0.4444444444444444,
              "#bd3786"
             ],
             [
              0.5555555555555556,
              "#d8576b"
             ],
             [
              0.6666666666666666,
              "#ed7953"
             ],
             [
              0.7777777777777778,
              "#fb9f3a"
             ],
             [
              0.8888888888888888,
              "#fdca26"
             ],
             [
              1,
              "#f0f921"
             ]
            ],
            "type": "surface"
           }
          ],
          "table": [
           {
            "cells": {
             "fill": {
              "color": "#EBF0F8"
             },
             "line": {
              "color": "white"
             }
            },
            "header": {
             "fill": {
              "color": "#C8D4E3"
             },
             "line": {
              "color": "white"
             }
            },
            "type": "table"
           }
          ]
         },
         "layout": {
          "annotationdefaults": {
           "arrowcolor": "#2a3f5f",
           "arrowhead": 0,
           "arrowwidth": 1
          },
          "autotypenumbers": "strict",
          "coloraxis": {
           "colorbar": {
            "outlinewidth": 0,
            "ticks": ""
           }
          },
          "colorscale": {
           "diverging": [
            [
             0,
             "#8e0152"
            ],
            [
             0.1,
             "#c51b7d"
            ],
            [
             0.2,
             "#de77ae"
            ],
            [
             0.3,
             "#f1b6da"
            ],
            [
             0.4,
             "#fde0ef"
            ],
            [
             0.5,
             "#f7f7f7"
            ],
            [
             0.6,
             "#e6f5d0"
            ],
            [
             0.7,
             "#b8e186"
            ],
            [
             0.8,
             "#7fbc41"
            ],
            [
             0.9,
             "#4d9221"
            ],
            [
             1,
             "#276419"
            ]
           ],
           "sequential": [
            [
             0,
             "#0d0887"
            ],
            [
             0.1111111111111111,
             "#46039f"
            ],
            [
             0.2222222222222222,
             "#7201a8"
            ],
            [
             0.3333333333333333,
             "#9c179e"
            ],
            [
             0.4444444444444444,
             "#bd3786"
            ],
            [
             0.5555555555555556,
             "#d8576b"
            ],
            [
             0.6666666666666666,
             "#ed7953"
            ],
            [
             0.7777777777777778,
             "#fb9f3a"
            ],
            [
             0.8888888888888888,
             "#fdca26"
            ],
            [
             1,
             "#f0f921"
            ]
           ],
           "sequentialminus": [
            [
             0,
             "#0d0887"
            ],
            [
             0.1111111111111111,
             "#46039f"
            ],
            [
             0.2222222222222222,
             "#7201a8"
            ],
            [
             0.3333333333333333,
             "#9c179e"
            ],
            [
             0.4444444444444444,
             "#bd3786"
            ],
            [
             0.5555555555555556,
             "#d8576b"
            ],
            [
             0.6666666666666666,
             "#ed7953"
            ],
            [
             0.7777777777777778,
             "#fb9f3a"
            ],
            [
             0.8888888888888888,
             "#fdca26"
            ],
            [
             1,
             "#f0f921"
            ]
           ]
          },
          "colorway": [
           "#636efa",
           "#EF553B",
           "#00cc96",
           "#ab63fa",
           "#FFA15A",
           "#19d3f3",
           "#FF6692",
           "#B6E880",
           "#FF97FF",
           "#FECB52"
          ],
          "font": {
           "color": "#2a3f5f"
          },
          "geo": {
           "bgcolor": "white",
           "lakecolor": "white",
           "landcolor": "white",
           "showlakes": true,
           "showland": true,
           "subunitcolor": "#C8D4E3"
          },
          "hoverlabel": {
           "align": "left"
          },
          "hovermode": "closest",
          "mapbox": {
           "style": "light"
          },
          "paper_bgcolor": "white",
          "plot_bgcolor": "white",
          "polar": {
           "angularaxis": {
            "gridcolor": "#EBF0F8",
            "linecolor": "#EBF0F8",
            "ticks": ""
           },
           "bgcolor": "white",
           "radialaxis": {
            "gridcolor": "#EBF0F8",
            "linecolor": "#EBF0F8",
            "ticks": ""
           }
          },
          "scene": {
           "xaxis": {
            "backgroundcolor": "white",
            "gridcolor": "#DFE8F3",
            "gridwidth": 2,
            "linecolor": "#EBF0F8",
            "showbackground": true,
            "ticks": "",
            "zerolinecolor": "#EBF0F8"
           },
           "yaxis": {
            "backgroundcolor": "white",
            "gridcolor": "#DFE8F3",
            "gridwidth": 2,
            "linecolor": "#EBF0F8",
            "showbackground": true,
            "ticks": "",
            "zerolinecolor": "#EBF0F8"
           },
           "zaxis": {
            "backgroundcolor": "white",
            "gridcolor": "#DFE8F3",
            "gridwidth": 2,
            "linecolor": "#EBF0F8",
            "showbackground": true,
            "ticks": "",
            "zerolinecolor": "#EBF0F8"
           }
          },
          "shapedefaults": {
           "line": {
            "color": "#2a3f5f"
           }
          },
          "ternary": {
           "aaxis": {
            "gridcolor": "#DFE8F3",
            "linecolor": "#A2B1C6",
            "ticks": ""
           },
           "baxis": {
            "gridcolor": "#DFE8F3",
            "linecolor": "#A2B1C6",
            "ticks": ""
           },
           "bgcolor": "white",
           "caxis": {
            "gridcolor": "#DFE8F3",
            "linecolor": "#A2B1C6",
            "ticks": ""
           }
          },
          "title": {
           "x": 0.05
          },
          "xaxis": {
           "automargin": true,
           "gridcolor": "#EBF0F8",
           "linecolor": "#EBF0F8",
           "ticks": "",
           "title": {
            "standoff": 15
           },
           "zerolinecolor": "#EBF0F8",
           "zerolinewidth": 2
          },
          "yaxis": {
           "automargin": true,
           "gridcolor": "#EBF0F8",
           "linecolor": "#EBF0F8",
           "ticks": "",
           "title": {
            "standoff": 15
           },
           "zerolinecolor": "#EBF0F8",
           "zerolinewidth": 2
          }
         }
        },
        "title": {
         "text": "Control Actions Over Time"
        },
        "xaxis": {
         "title": {
          "text": "Simulation Step"
         }
        },
        "yaxis": {
         "title": {
          "text": "Coolant Temperature (K)"
         }
        }
       }
      }
     },
     "metadata": {},
     "output_type": "display_data"
    }
   ],
   "source": [
    "# Create all four plots\n",
    "plot_control_actions(denorm_actions)\n"
   ]
  },
  {
   "cell_type": "code",
   "execution_count": 10,
   "metadata": {},
   "outputs": [
    {
     "data": {
      "application/vnd.plotly.v1+json": {
       "config": {
        "plotlyServerURL": "https://plot.ly"
       },
       "data": [
        {
         "line": {
          "color": "blue",
          "width": 3
         },
         "marker": {
          "size": 8
         },
         "mode": "lines+markers",
         "name": "Individual Reward",
         "type": "scatter",
         "x": [
          1,
          2,
          3,
          4,
          5,
          6,
          7,
          8,
          9,
          10,
          11,
          12,
          13,
          14,
          15,
          16,
          17,
          18,
          19,
          20,
          21,
          22,
          23,
          24,
          25,
          26,
          27,
          28,
          29
         ],
         "y": {
          "bdata": "Em6D9al7PL9nL0HJCHLrvtOoNfYwg1K/7VRHRUV+Sr+L1Vl19IZHvzHmaolAAuq+Y2kcfOdW6b7YTd90/RTovmgp/P1mS+e+5pnOfxDs5r4JafcX7sfmvl0k/TaJvea+gt48hP+75r5wC7kScrzmvg01+RIUvea+37hOi4W95r7R9Tp5y73mvsno4enqvea+O2vVF/m95r5BuljK/r3mvly+ALwAvua+xi65NAG+5r6Zi+cxAb7mvpaubxQBvua+NLek+gC+5r412RfqAL7mvuuHAuEAvua+rBuP3AC+5r78aZjaAL7mvg==",
          "dtype": "f8"
         }
        },
        {
         "line": {
          "color": "red",
          "width": 3
         },
         "marker": {
          "size": 8,
          "symbol": "square"
         },
         "mode": "lines+markers",
         "name": "Cumulative Reward",
         "type": "scatter",
         "x": [
          1,
          2,
          3,
          4,
          5,
          6,
          7,
          8,
          9,
          10,
          11,
          12,
          13,
          14,
          15,
          16,
          17,
          18,
          19,
          20,
          21,
          22,
          23,
          24,
          25,
          26,
          27,
          28,
          29
         ],
         "y": {
          "bdata": "Em6D9al7PL+Nd807Olc9v7YGKYX/2Fm/lljmExGMY7/5zTwxzm1pv984xnHQh2m/SFVCWSehab+WNLdWPLlpv78wtb2H0Gm/Wf80znPnab/C9ky8O/5pv+bzg0X5FGq/xTAIRbUrar/Q6Rq3cUJqvwXjLcsuWWq/vjG5UOxvar+0bDIcqoZqv51OHAdonWq/CCQ0ACa0ar/CfP7+48pqv4B9uv+h4Wq/rzbvAGD4ar87HiECHg9rv+qNNQPcJWu/oTIwBJo8a796ShoFWFNrvwJN+wUWamu/HtzXBtSAa7+IdLIHkpdrvw==",
          "dtype": "f8"
         }
        }
       ],
       "layout": {
        "height": 500,
        "template": {
         "data": {
          "bar": [
           {
            "error_x": {
             "color": "#2a3f5f"
            },
            "error_y": {
             "color": "#2a3f5f"
            },
            "marker": {
             "line": {
              "color": "white",
              "width": 0.5
             },
             "pattern": {
              "fillmode": "overlay",
              "size": 10,
              "solidity": 0.2
             }
            },
            "type": "bar"
           }
          ],
          "barpolar": [
           {
            "marker": {
             "line": {
              "color": "white",
              "width": 0.5
             },
             "pattern": {
              "fillmode": "overlay",
              "size": 10,
              "solidity": 0.2
             }
            },
            "type": "barpolar"
           }
          ],
          "carpet": [
           {
            "aaxis": {
             "endlinecolor": "#2a3f5f",
             "gridcolor": "#C8D4E3",
             "linecolor": "#C8D4E3",
             "minorgridcolor": "#C8D4E3",
             "startlinecolor": "#2a3f5f"
            },
            "baxis": {
             "endlinecolor": "#2a3f5f",
             "gridcolor": "#C8D4E3",
             "linecolor": "#C8D4E3",
             "minorgridcolor": "#C8D4E3",
             "startlinecolor": "#2a3f5f"
            },
            "type": "carpet"
           }
          ],
          "choropleth": [
           {
            "colorbar": {
             "outlinewidth": 0,
             "ticks": ""
            },
            "type": "choropleth"
           }
          ],
          "contour": [
           {
            "colorbar": {
             "outlinewidth": 0,
             "ticks": ""
            },
            "colorscale": [
             [
              0,
              "#0d0887"
             ],
             [
              0.1111111111111111,
              "#46039f"
             ],
             [
              0.2222222222222222,
              "#7201a8"
             ],
             [
              0.3333333333333333,
              "#9c179e"
             ],
             [
              0.4444444444444444,
              "#bd3786"
             ],
             [
              0.5555555555555556,
              "#d8576b"
             ],
             [
              0.6666666666666666,
              "#ed7953"
             ],
             [
              0.7777777777777778,
              "#fb9f3a"
             ],
             [
              0.8888888888888888,
              "#fdca26"
             ],
             [
              1,
              "#f0f921"
             ]
            ],
            "type": "contour"
           }
          ],
          "contourcarpet": [
           {
            "colorbar": {
             "outlinewidth": 0,
             "ticks": ""
            },
            "type": "contourcarpet"
           }
          ],
          "heatmap": [
           {
            "colorbar": {
             "outlinewidth": 0,
             "ticks": ""
            },
            "colorscale": [
             [
              0,
              "#0d0887"
             ],
             [
              0.1111111111111111,
              "#46039f"
             ],
             [
              0.2222222222222222,
              "#7201a8"
             ],
             [
              0.3333333333333333,
              "#9c179e"
             ],
             [
              0.4444444444444444,
              "#bd3786"
             ],
             [
              0.5555555555555556,
              "#d8576b"
             ],
             [
              0.6666666666666666,
              "#ed7953"
             ],
             [
              0.7777777777777778,
              "#fb9f3a"
             ],
             [
              0.8888888888888888,
              "#fdca26"
             ],
             [
              1,
              "#f0f921"
             ]
            ],
            "type": "heatmap"
           }
          ],
          "histogram": [
           {
            "marker": {
             "pattern": {
              "fillmode": "overlay",
              "size": 10,
              "solidity": 0.2
             }
            },
            "type": "histogram"
           }
          ],
          "histogram2d": [
           {
            "colorbar": {
             "outlinewidth": 0,
             "ticks": ""
            },
            "colorscale": [
             [
              0,
              "#0d0887"
             ],
             [
              0.1111111111111111,
              "#46039f"
             ],
             [
              0.2222222222222222,
              "#7201a8"
             ],
             [
              0.3333333333333333,
              "#9c179e"
             ],
             [
              0.4444444444444444,
              "#bd3786"
             ],
             [
              0.5555555555555556,
              "#d8576b"
             ],
             [
              0.6666666666666666,
              "#ed7953"
             ],
             [
              0.7777777777777778,
              "#fb9f3a"
             ],
             [
              0.8888888888888888,
              "#fdca26"
             ],
             [
              1,
              "#f0f921"
             ]
            ],
            "type": "histogram2d"
           }
          ],
          "histogram2dcontour": [
           {
            "colorbar": {
             "outlinewidth": 0,
             "ticks": ""
            },
            "colorscale": [
             [
              0,
              "#0d0887"
             ],
             [
              0.1111111111111111,
              "#46039f"
             ],
             [
              0.2222222222222222,
              "#7201a8"
             ],
             [
              0.3333333333333333,
              "#9c179e"
             ],
             [
              0.4444444444444444,
              "#bd3786"
             ],
             [
              0.5555555555555556,
              "#d8576b"
             ],
             [
              0.6666666666666666,
              "#ed7953"
             ],
             [
              0.7777777777777778,
              "#fb9f3a"
             ],
             [
              0.8888888888888888,
              "#fdca26"
             ],
             [
              1,
              "#f0f921"
             ]
            ],
            "type": "histogram2dcontour"
           }
          ],
          "mesh3d": [
           {
            "colorbar": {
             "outlinewidth": 0,
             "ticks": ""
            },
            "type": "mesh3d"
           }
          ],
          "parcoords": [
           {
            "line": {
             "colorbar": {
              "outlinewidth": 0,
              "ticks": ""
             }
            },
            "type": "parcoords"
           }
          ],
          "pie": [
           {
            "automargin": true,
            "type": "pie"
           }
          ],
          "scatter": [
           {
            "fillpattern": {
             "fillmode": "overlay",
             "size": 10,
             "solidity": 0.2
            },
            "type": "scatter"
           }
          ],
          "scatter3d": [
           {
            "line": {
             "colorbar": {
              "outlinewidth": 0,
              "ticks": ""
             }
            },
            "marker": {
             "colorbar": {
              "outlinewidth": 0,
              "ticks": ""
             }
            },
            "type": "scatter3d"
           }
          ],
          "scattercarpet": [
           {
            "marker": {
             "colorbar": {
              "outlinewidth": 0,
              "ticks": ""
             }
            },
            "type": "scattercarpet"
           }
          ],
          "scattergeo": [
           {
            "marker": {
             "colorbar": {
              "outlinewidth": 0,
              "ticks": ""
             }
            },
            "type": "scattergeo"
           }
          ],
          "scattergl": [
           {
            "marker": {
             "colorbar": {
              "outlinewidth": 0,
              "ticks": ""
             }
            },
            "type": "scattergl"
           }
          ],
          "scattermap": [
           {
            "marker": {
             "colorbar": {
              "outlinewidth": 0,
              "ticks": ""
             }
            },
            "type": "scattermap"
           }
          ],
          "scattermapbox": [
           {
            "marker": {
             "colorbar": {
              "outlinewidth": 0,
              "ticks": ""
             }
            },
            "type": "scattermapbox"
           }
          ],
          "scatterpolar": [
           {
            "marker": {
             "colorbar": {
              "outlinewidth": 0,
              "ticks": ""
             }
            },
            "type": "scatterpolar"
           }
          ],
          "scatterpolargl": [
           {
            "marker": {
             "colorbar": {
              "outlinewidth": 0,
              "ticks": ""
             }
            },
            "type": "scatterpolargl"
           }
          ],
          "scatterternary": [
           {
            "marker": {
             "colorbar": {
              "outlinewidth": 0,
              "ticks": ""
             }
            },
            "type": "scatterternary"
           }
          ],
          "surface": [
           {
            "colorbar": {
             "outlinewidth": 0,
             "ticks": ""
            },
            "colorscale": [
             [
              0,
              "#0d0887"
             ],
             [
              0.1111111111111111,
              "#46039f"
             ],
             [
              0.2222222222222222,
              "#7201a8"
             ],
             [
              0.3333333333333333,
              "#9c179e"
             ],
             [
              0.4444444444444444,
              "#bd3786"
             ],
             [
              0.5555555555555556,
              "#d8576b"
             ],
             [
              0.6666666666666666,
              "#ed7953"
             ],
             [
              0.7777777777777778,
              "#fb9f3a"
             ],
             [
              0.8888888888888888,
              "#fdca26"
             ],
             [
              1,
              "#f0f921"
             ]
            ],
            "type": "surface"
           }
          ],
          "table": [
           {
            "cells": {
             "fill": {
              "color": "#EBF0F8"
             },
             "line": {
              "color": "white"
             }
            },
            "header": {
             "fill": {
              "color": "#C8D4E3"
             },
             "line": {
              "color": "white"
             }
            },
            "type": "table"
           }
          ]
         },
         "layout": {
          "annotationdefaults": {
           "arrowcolor": "#2a3f5f",
           "arrowhead": 0,
           "arrowwidth": 1
          },
          "autotypenumbers": "strict",
          "coloraxis": {
           "colorbar": {
            "outlinewidth": 0,
            "ticks": ""
           }
          },
          "colorscale": {
           "diverging": [
            [
             0,
             "#8e0152"
            ],
            [
             0.1,
             "#c51b7d"
            ],
            [
             0.2,
             "#de77ae"
            ],
            [
             0.3,
             "#f1b6da"
            ],
            [
             0.4,
             "#fde0ef"
            ],
            [
             0.5,
             "#f7f7f7"
            ],
            [
             0.6,
             "#e6f5d0"
            ],
            [
             0.7,
             "#b8e186"
            ],
            [
             0.8,
             "#7fbc41"
            ],
            [
             0.9,
             "#4d9221"
            ],
            [
             1,
             "#276419"
            ]
           ],
           "sequential": [
            [
             0,
             "#0d0887"
            ],
            [
             0.1111111111111111,
             "#46039f"
            ],
            [
             0.2222222222222222,
             "#7201a8"
            ],
            [
             0.3333333333333333,
             "#9c179e"
            ],
            [
             0.4444444444444444,
             "#bd3786"
            ],
            [
             0.5555555555555556,
             "#d8576b"
            ],
            [
             0.6666666666666666,
             "#ed7953"
            ],
            [
             0.7777777777777778,
             "#fb9f3a"
            ],
            [
             0.8888888888888888,
             "#fdca26"
            ],
            [
             1,
             "#f0f921"
            ]
           ],
           "sequentialminus": [
            [
             0,
             "#0d0887"
            ],
            [
             0.1111111111111111,
             "#46039f"
            ],
            [
             0.2222222222222222,
             "#7201a8"
            ],
            [
             0.3333333333333333,
             "#9c179e"
            ],
            [
             0.4444444444444444,
             "#bd3786"
            ],
            [
             0.5555555555555556,
             "#d8576b"
            ],
            [
             0.6666666666666666,
             "#ed7953"
            ],
            [
             0.7777777777777778,
             "#fb9f3a"
            ],
            [
             0.8888888888888888,
             "#fdca26"
            ],
            [
             1,
             "#f0f921"
            ]
           ]
          },
          "colorway": [
           "#636efa",
           "#EF553B",
           "#00cc96",
           "#ab63fa",
           "#FFA15A",
           "#19d3f3",
           "#FF6692",
           "#B6E880",
           "#FF97FF",
           "#FECB52"
          ],
          "font": {
           "color": "#2a3f5f"
          },
          "geo": {
           "bgcolor": "white",
           "lakecolor": "white",
           "landcolor": "white",
           "showlakes": true,
           "showland": true,
           "subunitcolor": "#C8D4E3"
          },
          "hoverlabel": {
           "align": "left"
          },
          "hovermode": "closest",
          "mapbox": {
           "style": "light"
          },
          "paper_bgcolor": "white",
          "plot_bgcolor": "white",
          "polar": {
           "angularaxis": {
            "gridcolor": "#EBF0F8",
            "linecolor": "#EBF0F8",
            "ticks": ""
           },
           "bgcolor": "white",
           "radialaxis": {
            "gridcolor": "#EBF0F8",
            "linecolor": "#EBF0F8",
            "ticks": ""
           }
          },
          "scene": {
           "xaxis": {
            "backgroundcolor": "white",
            "gridcolor": "#DFE8F3",
            "gridwidth": 2,
            "linecolor": "#EBF0F8",
            "showbackground": true,
            "ticks": "",
            "zerolinecolor": "#EBF0F8"
           },
           "yaxis": {
            "backgroundcolor": "white",
            "gridcolor": "#DFE8F3",
            "gridwidth": 2,
            "linecolor": "#EBF0F8",
            "showbackground": true,
            "ticks": "",
            "zerolinecolor": "#EBF0F8"
           },
           "zaxis": {
            "backgroundcolor": "white",
            "gridcolor": "#DFE8F3",
            "gridwidth": 2,
            "linecolor": "#EBF0F8",
            "showbackground": true,
            "ticks": "",
            "zerolinecolor": "#EBF0F8"
           }
          },
          "shapedefaults": {
           "line": {
            "color": "#2a3f5f"
           }
          },
          "ternary": {
           "aaxis": {
            "gridcolor": "#DFE8F3",
            "linecolor": "#A2B1C6",
            "ticks": ""
           },
           "baxis": {
            "gridcolor": "#DFE8F3",
            "linecolor": "#A2B1C6",
            "ticks": ""
           },
           "bgcolor": "white",
           "caxis": {
            "gridcolor": "#DFE8F3",
            "linecolor": "#A2B1C6",
            "ticks": ""
           }
          },
          "title": {
           "x": 0.05
          },
          "xaxis": {
           "automargin": true,
           "gridcolor": "#EBF0F8",
           "linecolor": "#EBF0F8",
           "ticks": "",
           "title": {
            "standoff": 15
           },
           "zerolinecolor": "#EBF0F8",
           "zerolinewidth": 2
          },
          "yaxis": {
           "automargin": true,
           "gridcolor": "#EBF0F8",
           "linecolor": "#EBF0F8",
           "ticks": "",
           "title": {
            "standoff": 15
           },
           "zerolinecolor": "#EBF0F8",
           "zerolinewidth": 2
          }
         }
        },
        "title": {
         "text": "Reward Evolution"
        },
        "xaxis": {
         "title": {
          "text": "Simulation Step"
         }
        },
        "yaxis": {
         "title": {
          "text": "Reward"
         }
        }
       }
      }
     },
     "metadata": {},
     "output_type": "display_data"
    }
   ],
   "source": [
    "plot_reward_evolution(rewards)"
   ]
  },
  {
   "cell_type": "code",
   "execution_count": null,
   "metadata": {},
   "outputs": [],
   "source": []
  },
  {
   "cell_type": "code",
   "execution_count": 11,
   "metadata": {},
   "outputs": [],
   "source": [
    "# Close the environment to free resources\n",
    "env.close()"
   ]
  }
 ],
 "metadata": {
  "jupytext": {
   "formats": "ipynb,py:light"
  },
  "kernelspec": {
   "display_name": ".venv",
   "language": "python",
   "name": "python3"
  },
  "language_info": {
   "codemirror_mode": {
    "name": "ipython",
    "version": 3
   },
   "file_extension": ".py",
   "mimetype": "text/x-python",
   "name": "python",
   "nbconvert_exporter": "python",
   "pygments_lexer": "ipython3",
   "version": "3.11.10"
  }
 },
 "nbformat": 4,
 "nbformat_minor": 2
}

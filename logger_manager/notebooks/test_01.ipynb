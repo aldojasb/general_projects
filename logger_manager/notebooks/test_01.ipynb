{
 "cells": [
  {
   "cell_type": "code",
   "execution_count": 1,
   "metadata": {},
   "outputs": [
    {
     "ename": "OSError",
     "evalue": "Environment variable 'PATH_TO_SAVE_THE_LOGS' is not defined. Please set it in your environment or .env file.",
     "output_type": "error",
     "traceback": [
      "\u001b[31m---------------------------------------------------------------------------\u001b[39m",
      "\u001b[31mOSError\u001b[39m                                   Traceback (most recent call last)",
      "\u001b[36mCell\u001b[39m\u001b[36m \u001b[39m\u001b[32mIn[1]\u001b[39m\u001b[32m, line 4\u001b[39m\n\u001b[32m      1\u001b[39m \u001b[38;5;28;01mimport\u001b[39;00m\u001b[38;5;250m \u001b[39m\u001b[34;01mlogging\u001b[39;00m\n\u001b[32m      2\u001b[39m \u001b[38;5;28;01mfrom\u001b[39;00m\u001b[38;5;250m \u001b[39m\u001b[34;01mlogger\u001b[39;00m\u001b[34;01m.\u001b[39;00m\u001b[34;01mmanager\u001b[39;00m\u001b[34;01m.\u001b[39;00m\u001b[34;01mlogging_config\u001b[39;00m\u001b[38;5;250m \u001b[39m\u001b[38;5;28;01mimport\u001b[39;00m setup_logging_for_this_script\n\u001b[32m----> \u001b[39m\u001b[32m4\u001b[39m \u001b[43msetup_logging_for_this_script\u001b[49m\u001b[43m(\u001b[49m\u001b[43m)\u001b[49m\n\u001b[32m      5\u001b[39m \u001b[38;5;66;03m# Get the logger for this module\u001b[39;00m\n\u001b[32m      6\u001b[39m logger = logging.getLogger(\u001b[34m__name__\u001b[39m)\n",
      "\u001b[36mFile \u001b[39m\u001b[32m/workspace/general_projects/logger_manager/src/logger/manager/logging_config.py:43\u001b[39m, in \u001b[36msetup_logging_for_this_script\u001b[39m\u001b[34m(log_level)\u001b[39m\n\u001b[32m     41\u001b[39m \u001b[38;5;66;03m# Check if the environment variable is defined\u001b[39;00m\n\u001b[32m     42\u001b[39m \u001b[38;5;28;01mif\u001b[39;00m \u001b[38;5;129;01mnot\u001b[39;00m path_to_save_the_logs:\n\u001b[32m---> \u001b[39m\u001b[32m43\u001b[39m     \u001b[38;5;28;01mraise\u001b[39;00m \u001b[38;5;167;01mEnvironmentError\u001b[39;00m(\n\u001b[32m     44\u001b[39m         \u001b[33m\"\u001b[39m\u001b[33mEnvironment variable \u001b[39m\u001b[33m'\u001b[39m\u001b[33mPATH_TO_SAVE_THE_LOGS\u001b[39m\u001b[33m'\u001b[39m\u001b[33m is not defined. \u001b[39m\u001b[33m\"\u001b[39m\n\u001b[32m     45\u001b[39m         \u001b[33m\"\u001b[39m\u001b[33mPlease set it in your environment or .env file.\u001b[39m\u001b[33m\"\u001b[39m\n\u001b[32m     46\u001b[39m     )\n\u001b[32m     48\u001b[39m \u001b[38;5;66;03m# Validate that the path exists and is writable\u001b[39;00m\n\u001b[32m     49\u001b[39m \u001b[38;5;28;01mif\u001b[39;00m \u001b[38;5;129;01mnot\u001b[39;00m os.path.exists(path_to_save_the_logs):\n",
      "\u001b[31mOSError\u001b[39m: Environment variable 'PATH_TO_SAVE_THE_LOGS' is not defined. Please set it in your environment or .env file."
     ]
    }
   ],
   "source": [
    "import logging\n",
    "from logger.manager.logging_config import setup_logging_for_this_script\n",
    "\n",
    "setup_logging_for_this_script()\n",
    "# Get the logger for this module\n",
    "logger = logging.getLogger(__name__)"
   ]
  },
  {
   "cell_type": "code",
   "execution_count": null,
   "metadata": {},
   "outputs": [],
   "source": [
    "logger.info(\"Initialize main.py\")"
   ]
  }
 ],
 "metadata": {
  "kernelspec": {
   "display_name": "logger_manager_test_1)",
   "language": "python",
   "name": "logger_manager_env"
  },
  "language_info": {
   "codemirror_mode": {
    "name": "ipython",
    "version": 3
   },
   "file_extension": ".py",
   "mimetype": "text/x-python",
   "name": "python",
   "nbconvert_exporter": "python",
   "pygments_lexer": "ipython3",
   "version": "3.11.10"
  }
 },
 "nbformat": 4,
 "nbformat_minor": 2
}

{
 "cells": [
  {
   "cell_type": "code",
   "execution_count": 1,
   "metadata": {},
   "outputs": [],
   "source": [
    "import logging\n",
    "from logger.manager.logging_config import setup_logging_for_this_script\n",
    "from dotenv import load_dotenv\n",
    "import os"
   ]
  },
  {
   "cell_type": "code",
   "execution_count": 2,
   "metadata": {},
   "outputs": [
    {
     "name": "stdout",
     "output_type": "stream",
     "text": [
      "Loaded environment variables from /workspace/general_projects/logger_manager/.env\n",
      "Logs will be saved to: /workspace/general_projects/logger_manager/notebooks\n"
     ]
    }
   ],
   "source": [
    "# Load the .env file only if it exists\n",
    "dotenv_path = '/workspace/general_projects/logger_manager/.env'\n",
    "if os.path.exists(dotenv_path):\n",
    "    load_dotenv(dotenv_path)\n",
    "    print(f\"Loaded environment variables from {dotenv_path}\")\n",
    "else:\n",
    "    print(f\"No .env file found at {dotenv_path}, relying on system environment variables.\")\n",
    "\n",
    "# Access the environment variable, with a fallback\n",
    "path_to_logs = os.getenv('PATH_TO_SAVE_THE_LOGS')\n",
    "print(f\"Logs will be saved to: {path_to_logs}\")"
   ]
  },
  {
   "cell_type": "code",
   "execution_count": 3,
   "metadata": {},
   "outputs": [],
   "source": [
    "setup_logging_for_this_script()\n",
    "# Get the logger for this module\n",
    "logger = logging.getLogger(__name__)"
   ]
  },
  {
   "cell_type": "code",
   "execution_count": 4,
   "metadata": {},
   "outputs": [
    {
     "name": "stderr",
     "output_type": "stream",
     "text": [
      "[__main__]:1 - 2025-04-26 02:02:25 - INFO: Initialize main.py\n"
     ]
    }
   ],
   "source": [
    "logger.info(\"Initialize main.py\")"
   ]
  },
  {
   "cell_type": "code",
   "execution_count": null,
   "metadata": {},
   "outputs": [],
   "source": []
  }
 ],
 "metadata": {
  "jupytext": {
   "formats": "ipynb,py:light"
  },
  "kernelspec": {
   "display_name": "logger_manager_test_1)",
   "language": "python",
   "name": "logger_manager_env"
  },
  "language_info": {
   "codemirror_mode": {
    "name": "ipython",
    "version": 3
   },
   "file_extension": ".py",
   "mimetype": "text/x-python",
   "name": "python",
   "nbconvert_exporter": "python",
   "pygments_lexer": "ipython3",
   "version": "3.11.10"
  }
 },
 "nbformat": 4,
 "nbformat_minor": 2
}

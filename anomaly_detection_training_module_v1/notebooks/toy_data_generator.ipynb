{
 "cells": [
  {
   "cell_type": "code",
   "execution_count": 1,
   "metadata": {},
   "outputs": [],
   "source": [
    "import numpy as np\n",
    "import pandas as pd\n",
    "from typing import Optional\n",
    "from datetime import datetime, timezone\n",
    "import logging\n",
    "\n",
    "import argparse\n",
    "import os\n",
    "import warnings\n",
    "from typing import Optional, Literal, NewType\n",
    "import json\n",
    "\n",
    "\n",
    "# Get the logger for this module\n",
    "logger = logging.getLogger(__name__)\n"
   ]
  },
  {
   "cell_type": "code",
   "execution_count": 2,
   "metadata": {},
   "outputs": [
    {
     "name": "stderr",
     "output_type": "stream",
     "text": [
      "2024-08-10 20:28:34 - INFO - Logging is set up correctly.\n"
     ]
    }
   ],
   "source": [
    "from anomaly_detection_training_module_v1 import timestamp_for_this_experiment # get global variable from __init__.py\n"
   ]
  },
  {
   "cell_type": "code",
   "execution_count": null,
   "metadata": {},
   "outputs": [],
   "source": []
  },
  {
   "cell_type": "code",
   "execution_count": 3,
   "metadata": {},
   "outputs": [],
   "source": [
    "def get_config_path():\n",
    "    # Check if the environment variable is set\n",
    "    env_path = os.getenv('PATH_TO_THE_CONFIGURATION_FILE')\n",
    "    \n",
    "    if env_path:\n",
    "        return env_path\n",
    "    \n",
    "    # If not, parse the command-line arguments\n",
    "    parser = argparse.ArgumentParser(description='Provide the path to the configuration file.')\n",
    "    parser.add_argument('--config', type=str, help='Path to the configuration file')\n",
    "    args = parser.parse_args()\n",
    "    \n",
    "    if args.config:\n",
    "        return args.config\n",
    "    else:\n",
    "        logging.error(\"Configuration file path must be provided\"\n",
    "                         \"either as an environment variable 'PATH_TO_THE_CONFIGURATION_FILE'\"\n",
    "                         \"or as a command-line argument '--config'.\")\n",
    "        \n",
    "        raise ValueError(\"Configuration file path must be provided\"\n",
    "                         \"either as an environment variable 'PATH_TO_THE_CONFIGURATION_FILE'\"\n",
    "                         \"or as a command-line argument '--config'.\")"
   ]
  },
  {
   "cell_type": "code",
   "execution_count": 4,
   "metadata": {},
   "outputs": [],
   "source": [
    "# get the path to the .json file from the environment\n",
    "\n",
    "path_for_the_json_file = get_config_path()"
   ]
  },
  {
   "cell_type": "code",
   "execution_count": 5,
   "metadata": {},
   "outputs": [
    {
     "data": {
      "text/plain": [
       "'/home/aldo/Repositories/general_projects/anomaly_detection_training_module_v1/notebooks/parameters_for_toy_data_experiments.json'"
      ]
     },
     "execution_count": 5,
     "metadata": {},
     "output_type": "execute_result"
    }
   ],
   "source": [
    "path_for_the_json_file"
   ]
  },
  {
   "cell_type": "code",
   "execution_count": 6,
   "metadata": {},
   "outputs": [],
   "source": [
    "def load_and_process_params(file_path: str) -> tuple:\n",
    "    # Load parameters from JSON file\n",
    "    with open(file_path, \"r\") as file:\n",
    "        params = json.load(file)\n",
    "\n",
    "\n",
    "    # Access nested parameter maps under the 'parameters_to_create_toy_data' key\n",
    "    start_date_for_the_toy_dataset = datetime.fromisoformat(\n",
    "    params[\"parameters_to_create_toy_data\"][\"start_date_for_the_toy_dataset\"].replace(\"Z\", \"+00:00\"))\n",
    "    # Display parameter\n",
    "    logging.info(\"start_date_for_the_normal_dataset:\")\n",
    "    logging.info(start_date_for_the_toy_dataset)\n",
    "\n",
    "    # Access nested parameter maps under the 'parameters_to_create_toy_data' key\n",
    "    seed_for_the_stable_dataset = params [\"parameters_to_create_toy_data\"][\"seed_for_the_stable_dataset\"]\n",
    "    # Display window sizes\n",
    "    logging.info(\"seed_for_the_stable_dataset:\")\n",
    "    logging.info(seed_for_the_stable_dataset)\n",
    "\n",
    "    # Access nested parameter maps under the 'parameters_to_create_toy_data' key\n",
    "    number_of_rows_for_stable_toy_data = params [\"parameters_to_create_toy_data\"][\"number_of_rows_for_stable_toy_data\"]\n",
    "    # Display window sizes\n",
    "    logging.info(\"number_of_rows_for_stable_toy_data:\")\n",
    "    logging.info(number_of_rows_for_stable_toy_data)\n",
    "\n",
    "    return (\n",
    "        start_date_for_the_toy_dataset,\n",
    "        number_of_rows_for_stable_toy_data,\n",
    "        seed_for_the_stable_dataset\n",
    "    )\n"
   ]
  },
  {
   "cell_type": "code",
   "execution_count": 9,
   "metadata": {},
   "outputs": [
    {
     "name": "stderr",
     "output_type": "stream",
     "text": [
      "2024-08-10 21:15:52 - INFO - start_date_for_the_normal_dataset:\n",
      "2024-08-10 21:15:52 - INFO - 2024-08-10 15:00:00\n",
      "2024-08-10 21:15:52 - INFO - seed_for_the_stable_dataset:\n",
      "2024-08-10 21:15:52 - INFO - 300\n",
      "2024-08-10 21:15:52 - INFO - number_of_rows_for_stable_toy_data:\n",
      "2024-08-10 21:15:52 - INFO - 10000\n"
     ]
    }
   ],
   "source": [
    "(\n",
    "    start_date_for_the_toy_dataset,\n",
    "    number_of_rows_for_stable_toy_data,\n",
    "    seed_for_the_stable_dataset\n",
    "    ) = load_and_process_params(path_for_the_json_file)"
   ]
  },
  {
   "cell_type": "code",
   "execution_count": null,
   "metadata": {},
   "outputs": [],
   "source": []
  },
  {
   "cell_type": "code",
   "execution_count": 19,
   "metadata": {},
   "outputs": [],
   "source": [
    "import numpy as np\n",
    "import pandas as pd\n",
    "\n",
    "def generate_stable_toy_data(number_of_rows: int, start_date: str, seed_for_random: int = None) -> pd.DataFrame:\n",
    "    # Set the seed for reproducibility\n",
    "    if seed_for_random is not None:\n",
    "        np.random.seed(seed_for_random)\n",
    "    \n",
    "    # Generate a date range\n",
    "    date_range = pd.date_range(start=start_date, periods=number_of_rows, freq='5min', tz='UTC')\n",
    "    \n",
    "    # Generate base data with correlations\n",
    "    # Temperature: Normally distributed around 75°C with small fluctuations\n",
    "    temperature = np.random.normal(loc=75, scale=1, size=number_of_rows)\n",
    "    \n",
    "    # Pressure: Correlated with temperature, slightly decreasing with higher temperatures\n",
    "    pressure = 3 - 0.01 * (temperature - 75) + np.random.normal(loc=0, scale=0.05, size=number_of_rows)\n",
    "    \n",
    "    # Flow Rate: Generally stable, slightly increasing with lower pressure (inverse correlation)\n",
    "    flow_rate = 300 + 10 * (3 - pressure) + np.random.normal(loc=0, scale=5, size=number_of_rows)\n",
    "    \n",
    "    # Vibration: Non-linear increase with flow_rate and pressure\n",
    "    vibration = 0.1 * np.sqrt(flow_rate * pressure) + np.random.normal(loc=0, scale=0.05, size=number_of_rows)\n",
    "    \n",
    "    # Humidity: Independent of the other variables, normal fluctuations\n",
    "    humidity = np.random.normal(loc=40, scale=5, size=number_of_rows)\n",
    "    \n",
    "    # Create a DataFrame\n",
    "    df = pd.DataFrame({\n",
    "        'Timestamp': date_range,\n",
    "        'Temperature_C': temperature,\n",
    "        'Pressure_MPa': pressure,\n",
    "        'Vibration_mm_s': vibration,\n",
    "        'Flow_Rate_l_min': flow_rate,\n",
    "        'Humidity_%': humidity\n",
    "    })\n",
    "    \n",
    "    # Set Timestamp as the index\n",
    "    df.set_index('Timestamp', inplace=True)\n",
    "    \n",
    "    return df\n"
   ]
  },
  {
   "cell_type": "code",
   "execution_count": 20,
   "metadata": {},
   "outputs": [
    {
     "data": {
      "text/html": [
       "<div>\n",
       "<style scoped>\n",
       "    .dataframe tbody tr th:only-of-type {\n",
       "        vertical-align: middle;\n",
       "    }\n",
       "\n",
       "    .dataframe tbody tr th {\n",
       "        vertical-align: top;\n",
       "    }\n",
       "\n",
       "    .dataframe thead th {\n",
       "        text-align: right;\n",
       "    }\n",
       "</style>\n",
       "<table border=\"1\" class=\"dataframe\">\n",
       "  <thead>\n",
       "    <tr style=\"text-align: right;\">\n",
       "      <th></th>\n",
       "      <th>Temperature_C</th>\n",
       "      <th>Pressure_MPa</th>\n",
       "      <th>Vibration_mm_s</th>\n",
       "      <th>Flow_Rate_l_min</th>\n",
       "      <th>Humidity_%</th>\n",
       "    </tr>\n",
       "    <tr>\n",
       "      <th>Timestamp</th>\n",
       "      <th></th>\n",
       "      <th></th>\n",
       "      <th></th>\n",
       "      <th></th>\n",
       "      <th></th>\n",
       "    </tr>\n",
       "  </thead>\n",
       "  <tbody>\n",
       "    <tr>\n",
       "      <th>2024-08-10 15:00:00+00:00</th>\n",
       "      <td>75.496714</td>\n",
       "      <td>2.961108</td>\n",
       "      <td>2.892026</td>\n",
       "      <td>302.130350</td>\n",
       "      <td>37.640712</td>\n",
       "    </tr>\n",
       "    <tr>\n",
       "      <th>2024-08-10 15:05:00+00:00</th>\n",
       "      <td>74.861736</td>\n",
       "      <td>2.986108</td>\n",
       "      <td>2.948046</td>\n",
       "      <td>301.555541</td>\n",
       "      <td>45.063512</td>\n",
       "    </tr>\n",
       "    <tr>\n",
       "      <th>2024-08-10 15:10:00+00:00</th>\n",
       "      <td>75.647689</td>\n",
       "      <td>2.963654</td>\n",
       "      <td>2.930878</td>\n",
       "      <td>295.680860</td>\n",
       "      <td>39.009066</td>\n",
       "    </tr>\n",
       "    <tr>\n",
       "      <th>2024-08-10 15:15:00+00:00</th>\n",
       "      <td>76.523030</td>\n",
       "      <td>2.990291</td>\n",
       "      <td>3.017539</td>\n",
       "      <td>302.995015</td>\n",
       "      <td>40.452846</td>\n",
       "    </tr>\n",
       "    <tr>\n",
       "      <th>2024-08-10 15:20:00+00:00</th>\n",
       "      <td>74.765847</td>\n",
       "      <td>3.062200</td>\n",
       "      <td>3.041092</td>\n",
       "      <td>291.927582</td>\n",
       "      <td>43.586953</td>\n",
       "    </tr>\n",
       "  </tbody>\n",
       "</table>\n",
       "</div>"
      ],
      "text/plain": [
       "                           Temperature_C  Pressure_MPa  Vibration_mm_s  \\\n",
       "Timestamp                                                                \n",
       "2024-08-10 15:00:00+00:00      75.496714      2.961108        2.892026   \n",
       "2024-08-10 15:05:00+00:00      74.861736      2.986108        2.948046   \n",
       "2024-08-10 15:10:00+00:00      75.647689      2.963654        2.930878   \n",
       "2024-08-10 15:15:00+00:00      76.523030      2.990291        3.017539   \n",
       "2024-08-10 15:20:00+00:00      74.765847      3.062200        3.041092   \n",
       "\n",
       "                           Flow_Rate_l_min  Humidity_%  \n",
       "Timestamp                                               \n",
       "2024-08-10 15:00:00+00:00       302.130350   37.640712  \n",
       "2024-08-10 15:05:00+00:00       301.555541   45.063512  \n",
       "2024-08-10 15:10:00+00:00       295.680860   39.009066  \n",
       "2024-08-10 15:15:00+00:00       302.995015   40.452846  \n",
       "2024-08-10 15:20:00+00:00       291.927582   43.586953  "
      ]
     },
     "execution_count": 20,
     "metadata": {},
     "output_type": "execute_result"
    }
   ],
   "source": [
    "# Example usage\n",
    "df_stable = generate_stable_toy_data(number_of_rows=number_of_rows_for_stable_toy_data, start_date=start_date_for_the_toy_dataset, seed_for_random=42)\n",
    "\n",
    "df_stable.head()"
   ]
  },
  {
   "cell_type": "code",
   "execution_count": 21,
   "metadata": {},
   "outputs": [
    {
     "data": {
      "text/html": [
       "<div>\n",
       "<style scoped>\n",
       "    .dataframe tbody tr th:only-of-type {\n",
       "        vertical-align: middle;\n",
       "    }\n",
       "\n",
       "    .dataframe tbody tr th {\n",
       "        vertical-align: top;\n",
       "    }\n",
       "\n",
       "    .dataframe thead th {\n",
       "        text-align: right;\n",
       "    }\n",
       "</style>\n",
       "<table border=\"1\" class=\"dataframe\">\n",
       "  <thead>\n",
       "    <tr style=\"text-align: right;\">\n",
       "      <th></th>\n",
       "      <th>Temperature_C</th>\n",
       "      <th>Pressure_MPa</th>\n",
       "      <th>Vibration_mm_s</th>\n",
       "      <th>Flow_Rate_l_min</th>\n",
       "      <th>Humidity_%</th>\n",
       "    </tr>\n",
       "    <tr>\n",
       "      <th>Timestamp</th>\n",
       "      <th></th>\n",
       "      <th></th>\n",
       "      <th></th>\n",
       "      <th></th>\n",
       "      <th></th>\n",
       "    </tr>\n",
       "  </thead>\n",
       "  <tbody>\n",
       "    <tr>\n",
       "      <th>2024-09-14 07:55:00+00:00</th>\n",
       "      <td>76.301102</td>\n",
       "      <td>3.006380</td>\n",
       "      <td>3.044368</td>\n",
       "      <td>297.049757</td>\n",
       "      <td>40.283995</td>\n",
       "    </tr>\n",
       "    <tr>\n",
       "      <th>2024-09-14 08:00:00+00:00</th>\n",
       "      <td>73.001655</td>\n",
       "      <td>3.088852</td>\n",
       "      <td>3.089324</td>\n",
       "      <td>306.334502</td>\n",
       "      <td>39.875386</td>\n",
       "    </tr>\n",
       "    <tr>\n",
       "      <th>2024-09-14 08:05:00+00:00</th>\n",
       "      <td>74.294683</td>\n",
       "      <td>3.025971</td>\n",
       "      <td>3.029858</td>\n",
       "      <td>297.233455</td>\n",
       "      <td>42.500424</td>\n",
       "    </tr>\n",
       "    <tr>\n",
       "      <th>2024-09-14 08:10:00+00:00</th>\n",
       "      <td>75.495766</td>\n",
       "      <td>3.080719</td>\n",
       "      <td>3.028339</td>\n",
       "      <td>289.731028</td>\n",
       "      <td>41.326077</td>\n",
       "    </tr>\n",
       "    <tr>\n",
       "      <th>2024-09-14 08:15:00+00:00</th>\n",
       "      <td>75.644388</td>\n",
       "      <td>2.912560</td>\n",
       "      <td>2.972425</td>\n",
       "      <td>299.729978</td>\n",
       "      <td>47.579055</td>\n",
       "    </tr>\n",
       "  </tbody>\n",
       "</table>\n",
       "</div>"
      ],
      "text/plain": [
       "                           Temperature_C  Pressure_MPa  Vibration_mm_s  \\\n",
       "Timestamp                                                                \n",
       "2024-09-14 07:55:00+00:00      76.301102      3.006380        3.044368   \n",
       "2024-09-14 08:00:00+00:00      73.001655      3.088852        3.089324   \n",
       "2024-09-14 08:05:00+00:00      74.294683      3.025971        3.029858   \n",
       "2024-09-14 08:10:00+00:00      75.495766      3.080719        3.028339   \n",
       "2024-09-14 08:15:00+00:00      75.644388      2.912560        2.972425   \n",
       "\n",
       "                           Flow_Rate_l_min  Humidity_%  \n",
       "Timestamp                                               \n",
       "2024-09-14 07:55:00+00:00       297.049757   40.283995  \n",
       "2024-09-14 08:00:00+00:00       306.334502   39.875386  \n",
       "2024-09-14 08:05:00+00:00       297.233455   42.500424  \n",
       "2024-09-14 08:10:00+00:00       289.731028   41.326077  \n",
       "2024-09-14 08:15:00+00:00       299.729978   47.579055  "
      ]
     },
     "execution_count": 21,
     "metadata": {},
     "output_type": "execute_result"
    }
   ],
   "source": [
    "df_stable.tail()"
   ]
  },
  {
   "cell_type": "markdown",
   "metadata": {},
   "source": [
    "### create the two types of anomaly to evalaute it\n",
    "\n",
    "Visualization of this data\n",
    "\n",
    "Problem 1: Bearing Wear\n",
    "Description: Over time, the bearings in the pump might wear out, causing an increase in vibration levels.\n",
    "\n",
    "\n",
    "Problem 5: Broken Temperature Sensor\n",
    "Description: The temperature sensor might malfunction or break, leading to inaccurate or stuck readings."
   ]
  },
  {
   "cell_type": "code",
   "execution_count": null,
   "metadata": {},
   "outputs": [],
   "source": []
  },
  {
   "cell_type": "code",
   "execution_count": null,
   "metadata": {},
   "outputs": [],
   "source": []
  }
 ],
 "metadata": {
  "kernelspec": {
   "display_name": "anomaly_detection_training_module_v1",
   "language": "python",
   "name": "anomaly_detection_training_module_v1"
  },
  "language_info": {
   "codemirror_mode": {
    "name": "ipython",
    "version": 3
   },
   "file_extension": ".py",
   "mimetype": "text/x-python",
   "name": "python",
   "nbconvert_exporter": "python",
   "pygments_lexer": "ipython3",
   "version": "3.10.12"
  }
 },
 "nbformat": 4,
 "nbformat_minor": 2
}

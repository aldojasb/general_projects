{
 "cells": [
  {
   "cell_type": "code",
   "execution_count": 4,
   "metadata": {},
   "outputs": [],
   "source": [
    "import numpy as np\n",
    "import pandas as pd\n",
    "from typing import Optional\n",
    "from datetime import datetime, timezone\n",
    "\n",
    "import logging\n",
    "\n",
    "# Get the logger for this module\n",
    "logger = logging.getLogger(__name__)"
   ]
  },
  {
   "cell_type": "code",
   "execution_count": 2,
   "metadata": {},
   "outputs": [
    {
     "name": "stdout",
     "output_type": "stream",
     "text": [
      "/home/aldo/Repositories/general_projects/anomaly_detection_training_module_v1/notebooks/parameters_for_toy_data_experiments.json\n"
     ]
    }
   ],
   "source": [
    "import os\n",
    "print(os.getenv('PATH_TO_THE_CONFIGURATION_FILE'))\n"
   ]
  },
  {
   "cell_type": "code",
   "execution_count": 3,
   "metadata": {},
   "outputs": [
    {
     "name": "stderr",
     "output_type": "stream",
     "text": [
      "2024-08-04 11:47:41 - INFO - Logging is set up correctly.\n"
     ]
    }
   ],
   "source": [
    "import anomaly_detection_training_module_v1 "
   ]
  },
  {
   "cell_type": "code",
   "execution_count": 6,
   "metadata": {},
   "outputs": [
    {
     "name": "stderr",
     "output_type": "stream",
     "text": [
      "2024-08-04 11:52:56 - INFO - This is an info log message from the notebook.\n",
      "2024-08-04 11:52:56 - ERROR - This is an error log message from the notebook.\n"
     ]
    }
   ],
   "source": [
    "logger.info(\"This is an info log message from the notebook.\")\n",
    "logger.debug(\"This is a debug log message from the notebook.\") # this is expected to not show up since I set up the level as \"info\".\n",
    "logger.error(\"This is an error log message from the notebook.\")"
   ]
  },
  {
   "cell_type": "code",
   "execution_count": null,
   "metadata": {},
   "outputs": [],
   "source": [
    "### TODO: 1- create a toy dataset with correlated dataframes. 2- create the anomaly type I\n",
    "### 3- create the anomaly type II (?)\n",
    "### TODO: learn more about the logging types."
   ]
  },
  {
   "cell_type": "code",
   "execution_count": 5,
   "metadata": {},
   "outputs": [
    {
     "name": "stderr",
     "output_type": "stream",
     "text": [
      "2024-08-04 11:38:25 - INFO - this is a info test\n"
     ]
    }
   ],
   "source": [
    "logging.info(\n",
    "    \"this is a info test\"\n",
    ")"
   ]
  },
  {
   "cell_type": "code",
   "execution_count": 6,
   "metadata": {},
   "outputs": [
    {
     "name": "stderr",
     "output_type": "stream",
     "text": [
      "2024-08-04 11:38:27 - WARNING - this is a warning test\n"
     ]
    }
   ],
   "source": [
    "\n",
    "\n",
    "logging.warning(\n",
    "    \"this is a warning test\"\n",
    ")"
   ]
  },
  {
   "cell_type": "code",
   "execution_count": null,
   "metadata": {},
   "outputs": [],
   "source": [
    "def generate_stable_toy_data(number_of_rows: int, start_date: str, seed_for_random: int = None) -> pd.DataFrame:\n",
    "    \"\"\"\n",
    "    Generates a DataFrame with stable time series data for pH, salinity, and temperature.\n",
    "    These variables are just simple examples of variables that we might find in real datasets.\n",
    "\n",
    "    Parameters:\n",
    "    number_of_rows (int): Number of rows of data to generate.\n",
    "    seed_for_random (int): Seed for random number generation to ensure reproducibility.\n",
    "    start_date (str): The start date for the time series data. e.g '2024-01-01'\n",
    "\n",
    "    Returns:\n",
    "    pd.DataFrame: A DataFrame with columns 'pH', 'salinity', 'temperature', and a date range index.\n",
    "    \"\"\"\n",
    "    # Set the seed for reproducibility\n",
    "    if seed_for_random == None:\n",
    "        pass\n",
    "    else:\n",
    "        np.random.seed(seed_for_random)\n",
    "\n",
    "    # Generate time series data\n",
    "    t = np.arange(number_of_rows)\n",
    "    pH = 7 + np.random.randn(number_of_rows) * np.sin(0.010 * t)\n",
    "    salinity = 35 + np.random.randn(number_of_rows) * np.sin(0.018 * t)\n",
    "    temperature = 20 + np.random.randn(number_of_rows) * np.sin(0.015 * t)\n",
    "\n",
    "    # Create the DataFrame\n",
    "    df = pd.DataFrame({\n",
    "        'pH': pH,\n",
    "        'salinity': salinity,\n",
    "        'temperature': temperature\n",
    "    })\n",
    "\n",
    "    # Generate a date range and set as index\n",
    "    date_range = pd.date_range(start=start_date, periods=number_of_rows, freq='5s', tz='UTC')\n",
    "    df.index = date_range\n",
    "\n",
    "    return df\n",
    "\n",
    "\n",
    "def generate_anomalous_toy_data(\n",
    "    number_of_rows: int,\n",
    "    start_date: str,\n",
    "    anomaly_indices_spikes: list[int],\n",
    "    anomaly_indices_drops: list[int],\n",
    "    seed_for_random: Optional[int] = None\n",
    ") -> tuple[pd.DataFrame, pd.DataFrame, int]:\n",
    "    \"\"\"\n",
    "    Generates a DataFrame with anomalous time series data for pH, salinity, and temperature,\n",
    "    including specified spikes and drops.\n",
    "\n",
    "    Parameters:\n",
    "    number_of_rows (int): Number of rows of data to generate.\n",
    "    start_date (str): The start date for the time series data.\n",
    "    anomaly_indices_spikes (List[int]): Indices at which to introduce spikes.\n",
    "    anomaly_indices_drops (List[int]): Indices at which to introduce drops.\n",
    "    seed_for_random (Optional[int]): Seed for random number generation to ensure reproducibility. Defaults to None.\n",
    "\n",
    "    Returns:\n",
    "    Tuple[pd.DataFrame, pd.DataFrame, int]: A tuple containing the DataFrame with anomalies, \n",
    "                                             a DataFrame with only the anomalies, \n",
    "                                             and the total number of anomalies.\n",
    "    \"\"\"\n",
    "    # Set the seed for reproducibility\n",
    "    if seed_for_random is not None:\n",
    "        np.random.seed(seed_for_random)\n",
    "\n",
    "    # Generate time series data\n",
    "    t = np.arange(number_of_rows)\n",
    "    pH = 7 + np.random.randn(number_of_rows) * np.sin(0.010 * t)\n",
    "    salinity = 35 + np.random.randn(number_of_rows) * np.sin(0.018 * t)\n",
    "    temperature = 20 + np.random.randn(number_of_rows) * np.sin(0.015 * t)\n",
    "\n",
    "    # Introduce spikes\n",
    "    pH[anomaly_indices_spikes] += 15\n",
    "    salinity[anomaly_indices_spikes] += 30\n",
    "    temperature[anomaly_indices_spikes] += 30\n",
    "\n",
    "    # Introduce drops\n",
    "    pH[anomaly_indices_drops] -= 15\n",
    "    salinity[anomaly_indices_drops] -= 30\n",
    "    temperature[anomaly_indices_drops] -= 30\n",
    "\n",
    "    # Create the DataFrame\n",
    "    df_anomalous = pd.DataFrame({\n",
    "        'pH': pH,\n",
    "        'salinity': salinity,\n",
    "        'temperature': temperature\n",
    "    })\n",
    "\n",
    "    # Generate a date range and set as index\n",
    "    date_range = pd.date_range(start=start_date, periods=number_of_rows, freq='5s', tz='UTC')\n",
    "    df_anomalous.index = date_range\n",
    "\n",
    "    # Prepare anomalies DataFrame\n",
    "    anomaly_indices = anomaly_indices_spikes + anomaly_indices_drops\n",
    "    anomalies_df = df_anomalous.loc[df_anomalous.index[anomaly_indices]]\n",
    "\n",
    "    # Calculate total number of anomalies\n",
    "    num_anomalies = len(anomaly_indices)\n",
    "\n",
    "    return df_anomalous, anomalies_df, num_anomalies\n",
    "\n",
    "\n"
   ]
  }
 ],
 "metadata": {
  "kernelspec": {
   "display_name": "anomaly_detection_training_module_v1",
   "language": "python",
   "name": "anomaly_detection_training_module_v1"
  },
  "language_info": {
   "codemirror_mode": {
    "name": "ipython",
    "version": 3
   },
   "file_extension": ".py",
   "mimetype": "text/x-python",
   "name": "python",
   "nbconvert_exporter": "python",
   "pygments_lexer": "ipython3",
   "version": "3.10.12"
  }
 },
 "nbformat": 4,
 "nbformat_minor": 2
}
